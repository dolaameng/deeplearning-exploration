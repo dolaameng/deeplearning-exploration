{
 "cells": [
  {
   "cell_type": "markdown",
   "metadata": {},
   "source": [
    "# Policy Gradient for Cart Pole Reinforcement Learning\n",
    "\n",
    "- From Chapter 16 in \"Handson Machine Learning with Scikit-Learn and Tensorflow\""
   ]
  },
  {
   "cell_type": "code",
   "execution_count": 1,
   "metadata": {
    "collapsed": true
   },
   "outputs": [],
   "source": [
    "import numpy as np\n",
    "import matplotlib.pyplot as plt\n",
    "\n",
    "import gym\n",
    "\n",
    "import torch\n",
    "from torch import nn, optim\n",
    "from torch.autograd import Variable\n",
    "\n",
    "%matplotlib inline"
   ]
  },
  {
   "cell_type": "markdown",
   "metadata": {},
   "source": [
    "## Cart Pole from openai gym"
   ]
  },
  {
   "cell_type": "code",
   "execution_count": 2,
   "metadata": {
    "collapsed": false
   },
   "outputs": [
    {
     "name": "stderr",
     "output_type": "stream",
     "text": [
      "[2017-06-15 21:04:09,709] Making new env: CartPole-v1\n"
     ]
    },
    {
     "data": {
      "text/plain": [
       "array([-0.01322629, -0.01979786, -0.0343556 ,  0.03389911])"
      ]
     },
     "execution_count": 2,
     "metadata": {},
     "output_type": "execute_result"
    }
   ],
   "source": [
    "env = gym.make(\"CartPole-v1\")\n",
    "env.reset()"
   ]
  },
  {
   "cell_type": "raw",
   "metadata": {
    "collapsed": false
   },
   "source": [
    "plt.imshow(env.render(mode=\"rgb_array\", close=False))"
   ]
  },
  {
   "cell_type": "markdown",
   "metadata": {},
   "source": [
    "## Basic Policy"
   ]
  },
  {
   "cell_type": "code",
   "execution_count": 3,
   "metadata": {
    "collapsed": true
   },
   "outputs": [],
   "source": [
    "def basic_policy(obs):\n",
    "    # obs = (position, speed, angel, angel_speed)\n",
    "    angel = obs[2]\n",
    "    # action 0 to left 1 to right\n",
    "    return 0 if angel < 0 else 1\n",
    "\n",
    "## test basic policy\n",
    "all_rewards = []\n",
    "for igame in range(500):\n",
    "    obs = env.reset()\n",
    "    game_rewards = 0\n",
    "    for step in range(1000):\n",
    "        action = basic_policy(obs)\n",
    "        obs, reward, done, info = env.step(action)\n",
    "        if done: break\n",
    "        game_rewards += reward\n",
    "    all_rewards.append(game_rewards)"
   ]
  },
  {
   "cell_type": "code",
   "execution_count": 4,
   "metadata": {
    "collapsed": false
   },
   "outputs": [
    {
     "data": {
      "image/png": "[encoded data removed]",
      "text/plain": [
       "<matplotlib.figure.Figure at 0x7f1e89a60be0>"
      ]
     },
     "metadata": {},
     "output_type": "display_data"
    }
   ],
   "source": [
    "_ = plt.hist(all_rewards)"
   ]
  },
  {
   "cell_type": "markdown",
   "metadata": {},
   "source": [
    "## Train a MLP based on Policy Gradient\n",
    "- training on one observation each time?"
   ]
  },
  {
   "cell_type": "markdown",
   "metadata": {},
   "source": [
    "### Model"
   ]
  },
  {
   "cell_type": "code",
   "execution_count": 5,
   "metadata": {
    "collapsed": false
   },
   "outputs": [],
   "source": [
    "class CartPoleModel(nn.Module):\n",
    "    def __init__(self):\n",
    "        super(CartPoleModel, self).__init__()\n",
    "        self.fc1 = nn.Linear(4, 4)\n",
    "        self.elu = nn.ELU()\n",
    "        self.fc2 = nn.Linear(4, 1)\n",
    "        self.sigmoid = nn.Sigmoid()\n",
    "    def forward(self, x):\n",
    "        out = self.elu(self.fc1(x))\n",
    "        logits = self.fc2(out)\n",
    "        probs = self.sigmoid(logits)\n",
    "        self.label = torch.multinomial(torch.cat([probs, 1-probs], dim=1), 1)\n",
    "\n",
    "        return probs\n",
    "    def output(self):\n",
    "        return self.label"
   ]
  },
  {
   "cell_type": "code",
   "execution_count": 6,
   "metadata": {
    "collapsed": false
   },
   "outputs": [
    {
     "data": {
      "text/plain": [
       "(Variable containing:\n",
       "  0.5090\n",
       " [torch.cuda.FloatTensor of size 1x1 (GPU 0)], Variable containing:\n",
       "  1\n",
       " [torch.cuda.LongTensor of size 1x1 (GPU 0)])"
      ]
     },
     "execution_count": 6,
     "metadata": {},
     "output_type": "execute_result"
    }
   ],
   "source": [
    "m = CartPoleModel().cuda()\n",
    "x = Variable(torch.from_numpy(obs.astype(np.float32))[None, ...]).cuda()\n",
    "m(x), m.output()"
   ]
  },
  {
   "cell_type": "markdown",
   "metadata": {},
   "source": [
    "### Utility for Credit Assignment"
   ]
  },
  {
   "cell_type": "code",
   "execution_count": 7,
   "metadata": {
    "collapsed": true
   },
   "outputs": [],
   "source": [
    "def discount_rewards(rewards, discount_rate):\n",
    "    \"\"\"rewards: rewards of all steps for a single game, a list\n",
    "    \"\"\"\n",
    "    discounted_rewards = np.empty(len(rewards),dtype=np.float32)\n",
    "    accum_reward = 0\n",
    "    for i in reversed(range(len(rewards))):\n",
    "        accum_reward = rewards[i] + accum_reward * discount_rate\n",
    "        discounted_rewards[i] = accum_reward\n",
    "    return discounted_rewards\n",
    "\n",
    "def discount_and_normalize_rewards(all_rewards, discount_rate):\n",
    "    \"\"\"\n",
    "    all_rewards: rewards of all games for all steps, a list of list\n",
    "    \"\"\"\n",
    "    discounted_all_rewards = [discount_rewards(rewards, discount_rate)\n",
    "                             for rewards in all_rewards]\n",
    "    flatten_rewards = [reward for rewards in discounted_all_rewards\n",
    "                          for reward in rewards]\n",
    "    reward_mean = np.mean(flatten_rewards)\n",
    "    reward_std = np.std(flatten_rewards)\n",
    "    normalized_rewards = [(rewards - reward_mean) / reward_std\n",
    "                         for rewards in discounted_all_rewards]\n",
    "    return normalized_rewards"
   ]
  },
  {
   "cell_type": "code",
   "execution_count": 8,
   "metadata": {
    "collapsed": false
   },
   "outputs": [
    {
     "data": {
      "text/plain": [
       "array([-22., -40., -50.], dtype=float32)"
      ]
     },
     "execution_count": 8,
     "metadata": {},
     "output_type": "execute_result"
    }
   ],
   "source": [
    "discount_rewards([10, 0, -50], discount_rate=.8)"
   ]
  },
  {
   "cell_type": "code",
   "execution_count": 9,
   "metadata": {
    "collapsed": false
   },
   "outputs": [
    {
     "data": {
      "text/plain": [
       "[array([-0.28435072, -0.86597717, -1.18910301], dtype=float32),\n",
       " array([ 1.2666533 ,  1.07277775], dtype=float32)]"
      ]
     },
     "execution_count": 9,
     "metadata": {},
     "output_type": "execute_result"
    }
   ],
   "source": [
    "discount_and_normalize_rewards([[10, 0, -50], [10, 20]],\n",
    "                               discount_rate=0.8)"
   ]
  },
  {
   "cell_type": "code",
   "execution_count": 10,
   "metadata": {
    "collapsed": false
   },
   "outputs": [
    {
     "data": {
      "text/plain": [
       "float"
      ]
     },
     "execution_count": 10,
     "metadata": {},
     "output_type": "execute_result"
    }
   ],
   "source": [
    "a = discount_and_normalize_rewards([[10, 0, -50], [10, 20]],\n",
    "                               discount_rate=0.8)\n",
    "type(float(a[0][0]))"
   ]
  },
  {
   "cell_type": "markdown",
   "metadata": {},
   "source": [
    "## Training - method 1\n",
    "- three layers loop\n",
    "    - for each epoch (update parameters)\n",
    "    - for each game\n",
    "    - for each step in the game\n",
    "- the collection of rewards will be a list of list\n",
    "    - for each game\n",
    "    - for each step\n",
    "- the collection of gradients of be a list of list of tensor\n",
    "    - for each game, each step\n",
    "    - a gradient tensor\n",
    "- at each iteration, the gradient will be weighted by normalized-discounted rewards, and aggregated as mean to update"
   ]
  },
  {
   "cell_type": "code",
   "execution_count": 11,
   "metadata": {
    "collapsed": false
   },
   "outputs": [
    {
     "name": "stdout",
     "output_type": "stream",
     "text": [
      "0 18.7\n",
      "25 20.0\n",
      "50 16.7\n",
      "75 28.6\n",
      "100 21.3\n",
      "125 28.4\n",
      "150 19.6\n",
      "175 20.9\n",
      "200 15.6\n",
      "225 20.2\n"
     ]
    }
   ],
   "source": [
    "n_epochs = 250\n",
    "n_max_steps = 1000\n",
    "n_games_per_update = 10\n",
    "discount_rate = .95\n",
    "\n",
    "objective = nn.BCELoss()\n",
    "\n",
    "model = CartPoleModel().cuda()\n",
    "model.train()\n",
    "\n",
    "params = list(model.parameters())\n",
    "\n",
    "optimizer = optim.Adam(params, lr=1e-2)\n",
    "\n",
    "\n",
    "\n",
    "for epoch in range(n_epochs):\n",
    "    \n",
    "    all_gradients = []\n",
    "    all_rewards = []\n",
    "    \n",
    "    for game in range(n_games_per_update):\n",
    "        \n",
    "        game_gradients = []\n",
    "        game_rewards = []\n",
    "        obs = env.reset()\n",
    "        \n",
    "        for step in range(n_max_steps):\n",
    "            # train on one observation\n",
    "            obs_var = Variable(torch.from_numpy(obs.astype(np.float32))[None, ...]).cuda()\n",
    "            model.zero_grad()\n",
    "            prob = model(obs_var)\n",
    "            action = model.output().data[0][0]#.cpu().numpy()\n",
    "#             action = prob.multinomial().data[0][0] # this doesnt work as expected! prob needs to be a vector!\n",
    "            obs, reward, done, info = env.step(action)\n",
    "            # action: 0 left 1 right, y: prob of left\n",
    "            y = Variable(torch.FloatTensor([1. - action]))[None, ...].cuda()\n",
    "            loss = objective(prob, y)\n",
    "            loss.backward()\n",
    "            gradient = [p.grad for p in params]\n",
    "            game_gradients.append(gradient)\n",
    "            game_rewards.append(reward)\n",
    "            if done:\n",
    "                break\n",
    "                \n",
    "        all_gradients.append(game_gradients)\n",
    "        all_rewards.append(game_rewards)\n",
    "    \n",
    "    ## normalize and discount rewards\n",
    "    normalized_rewards = discount_and_normalize_rewards(all_rewards, discount_rate=discount_rate)\n",
    "    ## aggregate gradients\n",
    "    for param in range(len(params)):\n",
    "        mean_gradient = np.mean([ float(normalized_rewards[game][step])*step_gradients[param].data \n",
    "                                for game, game_gradients in enumerate(all_gradients)\n",
    "                                for step, step_gradients in enumerate(game_gradients)])\n",
    "#         print(mean_gradient)\n",
    "        params[param].grad.data.set_(mean_gradient)\n",
    "    ## optimize based on aggregated gradient\n",
    "    optimizer.step()\n",
    "    if epoch % 25 == 0:\n",
    "        mean_reward = np.mean([np.sum(reward) for reward in all_rewards])\n",
    "        print(epoch, mean_reward)"
   ]
  },
  {
   "cell_type": "markdown",
   "metadata": {
    "collapsed": true
   },
   "source": [
    "*** It didn't work very well... maybe the naive way of updating the gradient didn't work?***"
   ]
  },
  {
   "cell_type": "markdown",
   "metadata": {},
   "source": [
    "## Training - method 2\n",
    "\n",
    "Instead of computing weighted mean of gradient, we can also compute the weighted mean of loss function, and do the normal backpropagation\n",
    "\n",
    "*** Lesson Learned ***: Try to avoid manipulate the gradient directly in pytorch, if possible, modify the loss function or use other ways."
   ]
  },
  {
   "cell_type": "code",
   "execution_count": 12,
   "metadata": {
    "collapsed": false
   },
   "outputs": [
    {
     "name": "stdout",
     "output_type": "stream",
     "text": [
      "0 17.3\n",
      "25 30.3\n",
      "50 52.0\n",
      "75 126.4\n",
      "100 240.0\n",
      "125 302.1\n",
      "150 447.4\n",
      "175 405.8\n",
      "CPU times: user 15min 24s, sys: 1.74 s, total: 15min 26s\n",
      "Wall time: 15min 25s\n"
     ]
    }
   ],
   "source": [
    "%%time\n",
    "\n",
    "n_epochs = 200\n",
    "n_max_steps = 1000\n",
    "n_games_per_update = 10\n",
    "discount_rate = .95\n",
    "\n",
    "objective = nn.BCELoss()\n",
    "\n",
    "model = CartPoleModel().cuda()\n",
    "model.train()\n",
    "\n",
    "\n",
    "optimizer = optim.Adam(model.parameters(), lr=1e-2)\n",
    "\n",
    "\n",
    "\n",
    "for epoch in range(n_epochs):\n",
    "    \n",
    "    all_losses = []\n",
    "    all_rewards = []\n",
    "    \n",
    "    for game in range(n_games_per_update):\n",
    "        \n",
    "        game_losses = []\n",
    "        game_rewards = []\n",
    "        \n",
    "        obs = env.reset()\n",
    "        \n",
    "        for step in range(n_max_steps):\n",
    "            # train on one observation\n",
    "            obs_var = Variable(torch.from_numpy(obs.astype(np.float32))[None, ...]).cuda()\n",
    "            model.zero_grad()\n",
    "            prob = model(obs_var)\n",
    "            action = model.output().data[0][0]#.cpu().numpy()\n",
    "#             action = prob.multinomial().data[0][0] # this doesn't work as expected, prob should be a softmax vector\n",
    "            obs, reward, done, info = env.step(action)\n",
    "            # action: 0 left 1 right, y: prob of left\n",
    "            y = Variable(torch.FloatTensor([1. - action]))[None, ...].cuda()\n",
    "            loss = objective(prob, y)\n",
    "            game_losses.append(loss)\n",
    "            game_rewards.append(reward)\n",
    "            if done:\n",
    "                break\n",
    "                \n",
    "        all_losses.append(game_losses)\n",
    "        all_rewards.append(game_rewards)\n",
    "    \n",
    "    ## normalize and discount rewards\n",
    "    normalized_rewards = discount_and_normalize_rewards(all_rewards, discount_rate=discount_rate)\n",
    "    ## aggregate losses\n",
    "    weighted_loss = np.mean([all_losses[game][step] * float(normalized_rewards[game][step])\n",
    "                        for game in range(len(normalized_rewards))\n",
    "                        for step in range(len(normalized_rewards[game]))])\n",
    "    model.zero_grad()\n",
    "    weighted_loss.backward()\n",
    "    ## optimize based on aggregated gradient\n",
    "    optimizer.step()\n",
    "    if epoch % 25 == 0:\n",
    "        mean_reward = np.mean([np.sum(reward) for reward in all_rewards])\n",
    "        print(epoch, mean_reward)"
   ]
  },
  {
   "cell_type": "code",
   "execution_count": 13,
   "metadata": {
    "collapsed": false
   },
   "outputs": [
    {
     "name": "stdout",
     "output_type": "stream",
     "text": [
      "\n"
     ]
    },
    {
     "data": {
      "image/png": "[encoded data removed]",
      "text/plain": [
       "<matplotlib.figure.Figure at 0x7f1e7c1360f0>"
      ]
     },
     "metadata": {},
     "output_type": "display_data"
    }
   ],
   "source": [
    "## test the model\n",
    "\n",
    "from tqdm import tqdm_notebook\n",
    "def model_policy(model, obs):\n",
    "    obs_var = Variable(torch.from_numpy(obs.astype(np.float32))[None, ...]).cuda()\n",
    "    prob = model(obs_var)\n",
    "    action = model.output().data[0][0]\n",
    "    return action\n",
    "\n",
    "## test basic policy\n",
    "all_rewards = []\n",
    "for igame in tqdm_notebook(range(500)):\n",
    "    obs = env.reset()\n",
    "    game_rewards = 0\n",
    "    for step in range(1000):\n",
    "        action = model_policy(model, obs)\n",
    "        obs, reward, done, info = env.step(action)\n",
    "        if done: break\n",
    "        game_rewards += reward\n",
    "    all_rewards.append(game_rewards)\n",
    "    \n",
    "_ = plt.hist(all_rewards)"
   ]
  },
  {
   "cell_type": "markdown",
   "metadata": {},
   "source": [
    "## Train - Method 3\n",
    "\n",
    "Another method can be found in the [official tutorial](https://github.com/pytorch/examples/blob/master/reinforcement_learning/reinforce.py)"
   ]
  },
  {
   "cell_type": "code",
   "execution_count": null,
   "metadata": {
    "collapsed": true
   },
   "outputs": [],
   "source": []
  }
 ],
 "metadata": {
  "kernelspec": {
   "display_name": "Python 3",
   "language": "python",
   "name": "python3"
  },
  "language_info": {
   "codemirror_mode": {
    "name": "ipython",
    "version": 3
   },
   "file_extension": ".py",
   "mimetype": "text/x-python",
   "name": "python",
   "nbconvert_exporter": "python",
   "pygments_lexer": "ipython3",
   "version": "3.6.0"
  },
  "widgets": {
   "state": {
    "d983e3b7b98746fe99f7d77cc7527067": {
     "views": [
      {
       "cell_index": 22
      }
     ]
    }
   },
   "version": "1.2.0"
  }
 },
 "nbformat": 4,
 "nbformat_minor": 2
}
