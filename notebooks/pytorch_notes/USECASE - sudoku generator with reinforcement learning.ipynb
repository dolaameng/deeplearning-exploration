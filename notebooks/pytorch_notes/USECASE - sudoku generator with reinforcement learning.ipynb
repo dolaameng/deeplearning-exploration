{
 "cells": [
  {
   "cell_type": "markdown",
   "metadata": {},
   "source": [
    "# Varational autoencoder by RNN for sudoku sequence generation\n",
    "\n",
    "## dataset \n",
    "- [10,000 solved sudoku](http://www.printable-sudoku-puzzles.com/wfiles/)\n",
    "- [bigger dataset: 1M sudoku and solutions](https://www.kaggle.com/bryanpark/sudoku)"
   ]
  },
  {
   "cell_type": "markdown",
   "metadata": {},
   "source": [
    "## Load sudoku training data"
   ]
  },
  {
   "cell_type": "code",
   "execution_count": 1,
   "metadata": {
    "collapsed": true
   },
   "outputs": [],
   "source": [
    "%matplotlib inline\n",
    "import matplotlib.pyplot as plt"
   ]
  },
  {
   "cell_type": "code",
   "execution_count": 2,
   "metadata": {
    "collapsed": true
   },
   "outputs": [],
   "source": [
    "import numpy as np\n",
    "from glob import glob\n",
    "\n",
    "import torch\n",
    "from torch.autograd import Variable\n",
    "from torch import nn, optim\n",
    "from torch.utils.data import Dataset, DataLoader\n",
    "from torch.nn.utils.rnn import pack_padded_sequence, pad_packed_sequence"
   ]
  },
  {
   "cell_type": "markdown",
   "metadata": {},
   "source": [
    "## Data Processing"
   ]
  },
  {
   "cell_type": "code",
   "execution_count": 3,
   "metadata": {
    "collapsed": false
   },
   "outputs": [],
   "source": [
    "symbol2index = dict(zip('123456789', range(9)))\n",
    "index2symbol = dict(zip(range(9), '123456789'))\n",
    "\n",
    "def puzzle2tensor(puzzle_batch):\n",
    "    batch_size = len(puzzle_batch)\n",
    "    seq_len = len(puzzle_batch[0])\n",
    "    t = torch.zeros([batch_size, seq_len, 9])\n",
    "    for r in range(batch_size):\n",
    "        for c in range(seq_len):\n",
    "            s = symbol2index[puzzle_batch[r][c]]\n",
    "            t[r, c, s] = 1\n",
    "    return t\n",
    "\n",
    "def puzzle2target(puzzle_batch):\n",
    "    batch_size = len(puzzle_batch)\n",
    "    seq_len = len(puzzle_batch[0])\n",
    "    t = torch.LongTensor(batch_size, seq_len).zero_()\n",
    "    for r in range(batch_size):\n",
    "        for c in range(seq_len):\n",
    "            s = symbol2index[puzzle_batch[r][c]]\n",
    "            t[r, c] = s\n",
    "    return t\n",
    "\n",
    "def tensor2puzzle(tensors):\n",
    "    \"\"\"tensors.size() == [batch_size, seq, 9]\n",
    "    \"\"\"\n",
    "    _, p = tensors.max(dim=2)\n",
    "    p = p.squeeze().numpy()\n",
    "    puzzles = []\n",
    "    for r in p:\n",
    "        puzzles.append(''.join([index2symbol.get(s) for s in r]))\n",
    "    return puzzles\n",
    "\n",
    "def output2puzzle(y):\n",
    "    \"\"\"y.size() == [batch_size, 9]\n",
    "    \"\"\"\n",
    "    _, labels = y.max(dim=1)\n",
    "    return labels.numpy().squeeze() + 1"
   ]
  },
  {
   "cell_type": "markdown",
   "metadata": {
    "collapsed": true
   },
   "source": [
    "## build a sudoku env following openai"
   ]
  },
  {
   "cell_type": "code",
   "execution_count": 4,
   "metadata": {
    "collapsed": true
   },
   "outputs": [],
   "source": [
    "class Sudoku(object):\n",
    "    \n",
    "    def __init__(self):\n",
    "        self.state = None\n",
    "        \n",
    "    def reset(self):\n",
    "        \"\"\"return observation\"\"\"\n",
    "        self.state = []\n",
    "        obs = ''.join(self.state)\n",
    "        return obs\n",
    "    \n",
    "    def step(self, action):\n",
    "        \"\"\"action: '123456789'\n",
    "        return [obs, reward, done, info]\"\"\"\n",
    "        self.state.append(action)\n",
    "        obs = ''.join(self.state)\n",
    "        reward = 1\n",
    "        valid, info = self.is_valid(self.state)\n",
    "        done = not valid\n",
    "        return [obs, reward, done, info]\n",
    "    \n",
    "    def is_valid(self, puzzle):\n",
    "        \"\"\"puzzle: an array of digits.\n",
    "        Check if a partial puzzle is valid\n",
    "        \"\"\"\n",
    "        nrows = int(np.ceil(len(puzzle)/9))\n",
    "        for r in range(0, nrows):\n",
    "            row = puzzle[r*9:(r+1)*9]\n",
    "            if len(row) != len(set(row)):\n",
    "                return False, \"row rule\"\n",
    "        for c in range(0, 9):\n",
    "            col = puzzle[c:c+9*9:9]\n",
    "            if len(col) != len(set(col)):\n",
    "                return False, \"col rule\"\n",
    "        strides = [list(range(0, 3)), list(range(3, 6)), list(range(6, 9))]\n",
    "        squares = [(r, c) for r in strides for c in strides]\n",
    "        for sqr, sqc in squares:\n",
    "            sqi = [r*9+c for r in sqr for c in sqc]\n",
    "            square = [puzzle[i] for i in sqi if i < len(puzzle)]\n",
    "            if len(square) != len(set(square)):\n",
    "                return False, \"sqr rule\"\n",
    "        return True, \"valid\""
   ]
  },
  {
   "cell_type": "code",
   "execution_count": 5,
   "metadata": {
    "collapsed": false
   },
   "outputs": [
    {
     "name": "stdout",
     "output_type": "stream",
     "text": [
      "\n"
     ]
    },
    {
     "data": {
      "text/plain": [
       "['1', 1, False, 'valid']"
      ]
     },
     "execution_count": 5,
     "metadata": {},
     "output_type": "execute_result"
    }
   ],
   "source": [
    "env = Sudoku()\n",
    "print(env.reset())\n",
    "env.step('1')"
   ]
  },
  {
   "cell_type": "code",
   "execution_count": 6,
   "metadata": {
    "collapsed": false
   },
   "outputs": [
    {
     "name": "stdout",
     "output_type": "stream",
     "text": [
      "(False, 'col rule')\n",
      "(True, 'valid')\n"
     ]
    }
   ],
   "source": [
    "puzzle = list(\"123456789987654321\")\n",
    "print(env.is_valid(puzzle))\n",
    "puzzle = list(\"123456\")\n",
    "print(env.is_valid(puzzle[:-5]))"
   ]
  },
  {
   "cell_type": "markdown",
   "metadata": {
    "collapsed": true
   },
   "source": [
    "## baseline - random generator policy"
   ]
  },
  {
   "cell_type": "code",
   "execution_count": 7,
   "metadata": {
    "collapsed": true
   },
   "outputs": [],
   "source": [
    "def random_policy():\n",
    "    return np.random.choice( list(\"123456789\"), 1)[0] "
   ]
  },
  {
   "cell_type": "code",
   "execution_count": 8,
   "metadata": {
    "collapsed": false
   },
   "outputs": [],
   "source": [
    "all_rewards = []\n",
    "\n",
    "env = Sudoku()\n",
    "\n",
    "for game in range(5000):\n",
    "    obs = env.reset()\n",
    "    game_reward = 0\n",
    "    for _ in range(81):\n",
    "        action = random_policy()\n",
    "        obs, reward, done, info = env.step(action)\n",
    "        game_reward += reward\n",
    "        if done: break\n",
    "    all_rewards.append(game_reward)"
   ]
  },
  {
   "cell_type": "code",
   "execution_count": 9,
   "metadata": {
    "collapsed": false
   },
   "outputs": [
    {
     "data": {
      "image/png": "[encoded data removed]",
      "text/plain": [
       "<matplotlib.figure.Figure at 0x7ff03437ac88>"
      ]
     },
     "metadata": {},
     "output_type": "display_data"
    }
   ],
   "source": [
    "_ = plt.hist(all_rewards)"
   ]
  },
  {
   "cell_type": "markdown",
   "metadata": {},
   "source": [
    "## rnn model"
   ]
  },
  {
   "cell_type": "code",
   "execution_count": 10,
   "metadata": {
    "collapsed": true
   },
   "outputs": [],
   "source": [
    "class SudokuPolicy(nn.Module):\n",
    "    def __init__(self):\n",
    "        super(SudokuPolicy, self).__init__()\n",
    "        self.rnn = nn.GRU(input_size=9, hidden_size=128,\n",
    "                          num_layers=1, bidirectional=False,\n",
    "                          batch_first=True)\n",
    "        self.fc1 = nn.Linear(128, 64)\n",
    "        self.elu = nn.ELU()\n",
    "        self.d = nn.Dropout(0.5)\n",
    "        self.fc2 = nn.Linear(64, 64)\n",
    "        self.fc3 = nn.Linear(64, 9)\n",
    "        self.softmax = nn.Softmax()\n",
    "    def forward(self, obs):\n",
    "        batch_size, seq_len, input_size = obs.size()\n",
    "        h0 = Variable(torch.zeros(1, batch_size, 128)).cuda()\n",
    "        out, _ = self.rnn(obs, h0)\n",
    "        out = out[:, -1, :]\n",
    "        out = self.elu(self.fc1(out))\n",
    "        out = self.d(out)\n",
    "        out = self.elu(self.fc2(out))\n",
    "        out = self.d(out)\n",
    "        logits = self.fc3(out)\n",
    "        # probs and labels for action calculation\n",
    "        probs = self.softmax(logits)\n",
    "        self.label = torch.multinomial(probs, 1)\n",
    "        return logits"
   ]
  },
  {
   "cell_type": "code",
   "execution_count": 11,
   "metadata": {
    "collapsed": false
   },
   "outputs": [
    {
     "name": "stdout",
     "output_type": "stream",
     "text": [
      "Variable containing:\n",
      "-0.0799 -0.1496 -0.1107  0.0558  0.0498  0.0982  0.1732  0.0830 -0.1403\n",
      "[torch.cuda.FloatTensor of size 1x9 (GPU 0)]\n",
      "\n",
      "9\n"
     ]
    }
   ],
   "source": [
    "actions = \"123456789\"\n",
    "\n",
    "m = SudokuPolicy().cuda()\n",
    "obs = Variable(puzzle2tensor([\"12\"])).cuda()\n",
    "print( m(obs) )\n",
    "print( actions[m.label.data.cpu().numpy()[0][0]] )"
   ]
  },
  {
   "cell_type": "markdown",
   "metadata": {},
   "source": [
    "## credit assignment"
   ]
  },
  {
   "cell_type": "code",
   "execution_count": 12,
   "metadata": {
    "collapsed": true
   },
   "outputs": [],
   "source": [
    "def discount_rewards(rewards, discount_rate):\n",
    "    \"\"\"rewards: rewards of all steps for a single game, a list\n",
    "    \"\"\"\n",
    "    discounted_rewards = np.empty(len(rewards),dtype=np.float32)\n",
    "    accum_reward = 0\n",
    "    for i in reversed(range(len(rewards))):\n",
    "        accum_reward = rewards[i] + accum_reward * discount_rate\n",
    "        discounted_rewards[i] = accum_reward\n",
    "    return discounted_rewards\n",
    "\n",
    "def discount_and_normalize_rewards(all_rewards, discount_rate):\n",
    "    \"\"\"\n",
    "    all_rewards: rewards of all games for all steps, a list of list\n",
    "    \"\"\"\n",
    "    discounted_all_rewards = [discount_rewards(rewards, discount_rate)\n",
    "                             for rewards in all_rewards]\n",
    "    flatten_rewards = [reward for rewards in discounted_all_rewards\n",
    "                          for reward in rewards]\n",
    "    reward_mean = np.mean(flatten_rewards)\n",
    "    reward_std = np.std(flatten_rewards)\n",
    "    normalized_rewards = [(rewards - reward_mean) / reward_std\n",
    "                         for rewards in discounted_all_rewards]\n",
    "    return normalized_rewards"
   ]
  },
  {
   "cell_type": "code",
   "execution_count": 13,
   "metadata": {
    "collapsed": false
   },
   "outputs": [
    {
     "data": {
      "text/plain": [
       "array([-22., -40., -50.], dtype=float32)"
      ]
     },
     "execution_count": 13,
     "metadata": {},
     "output_type": "execute_result"
    }
   ],
   "source": [
    "discount_rewards([10, 0, -50], discount_rate=.8)"
   ]
  },
  {
   "cell_type": "code",
   "execution_count": 14,
   "metadata": {
    "collapsed": false
   },
   "outputs": [
    {
     "data": {
      "text/plain": [
       "[array([-0.28435072, -0.86597717, -1.18910301], dtype=float32),\n",
       " array([ 1.2666533 ,  1.07277775], dtype=float32)]"
      ]
     },
     "execution_count": 14,
     "metadata": {},
     "output_type": "execute_result"
    }
   ],
   "source": [
    "discount_and_normalize_rewards([[10, 0, -50], [10, 20]],\n",
    "                               discount_rate=0.8)"
   ]
  },
  {
   "cell_type": "markdown",
   "metadata": {},
   "source": [
    "## training by policy gradient"
   ]
  },
  {
   "cell_type": "code",
   "execution_count": 15,
   "metadata": {
    "collapsed": false
   },
   "outputs": [
    {
     "data": {
      "text/plain": [
       "SudokuPolicy (\n",
       "  (rnn): GRU(9, 128, batch_first=True)\n",
       "  (fc1): Linear (128 -> 64)\n",
       "  (elu): ELU (alpha=1.0)\n",
       "  (d): Dropout (p = 0.5)\n",
       "  (fc2): Linear (64 -> 64)\n",
       "  (fc3): Linear (64 -> 9)\n",
       "  (softmax): Softmax ()\n",
       ")"
      ]
     },
     "execution_count": 15,
     "metadata": {},
     "output_type": "execute_result"
    }
   ],
   "source": [
    "objective = nn.CrossEntropyLoss()\n",
    "\n",
    "model = SudokuPolicy().cuda()\n",
    "model.train()"
   ]
  },
  {
   "cell_type": "code",
   "execution_count": null,
   "metadata": {
    "collapsed": false
   },
   "outputs": [
    {
     "name": "stdout",
     "output_type": "stream",
     "text": [
      "0 3.71 8\n",
      "25 4.58 8\n",
      "50 6.0 11\n",
      "75 6.48 13\n",
      "100 7.11 14\n",
      "125 7.97 16\n",
      "150 9.05 16\n",
      "175 8.59 13\n",
      "200 9.09 16\n",
      "225 10.12 16\n",
      "250 8.21 18\n",
      "275 9.47 18\n",
      "300 9.69 18\n",
      "325 10.03 18\n",
      "350 10.87 18\n",
      "375 10.78 18\n",
      "400 11.22 18\n",
      "425 10.29 18\n",
      "450 11.02 18\n"
     ]
    }
   ],
   "source": [
    "%%time\n",
    "\n",
    "n_epochs = 600\n",
    "n_max_steps = 81\n",
    "n_games_per_update = 100\n",
    "discount_rate = .95\n",
    "\n",
    "\n",
    "\n",
    "\n",
    "optimizer = optim.Adam(model.parameters(), lr=1e-2)\n",
    "actions = \"123456789\"\n",
    "\n",
    "\n",
    "for epoch in range(n_epochs):\n",
    "    \n",
    "    all_losses = []\n",
    "    all_rewards = []\n",
    "    \n",
    "    for game in range(n_games_per_update):\n",
    "        \n",
    "        game_losses = []\n",
    "        game_rewards = []\n",
    "        \n",
    "        obs = env.reset()\n",
    "        first_action = random_policy() # random first action\n",
    "        obs, reward, done, info = env.step(first_action)\n",
    "        \n",
    "        for step in range(n_max_steps):\n",
    "            # train on one observation\n",
    "            obs_var = Variable(puzzle2tensor([obs])).cuda()\n",
    "            model.zero_grad()\n",
    "            logits = model(obs_var)\n",
    "            label = model.label.data.cpu().numpy()[0][0]\n",
    "            action = actions[label]\n",
    "            obs, reward, done, info = env.step(action)\n",
    "\n",
    "            y = Variable(torch.LongTensor([int(label)])).cuda()\n",
    "            loss = objective(logits, y)\n",
    "            game_losses.append(loss)\n",
    "            game_rewards.append(reward)\n",
    "            if done:\n",
    "                break\n",
    "                \n",
    "        all_losses.append(game_losses)\n",
    "        all_rewards.append(game_rewards)\n",
    "    \n",
    "    ## normalize and discount rewards\n",
    "    normalized_rewards = discount_and_normalize_rewards(all_rewards, discount_rate=discount_rate)\n",
    "    ## aggregate losses\n",
    "    weighted_loss = np.mean([all_losses[game][step] * float(normalized_rewards[game][step])\n",
    "                        for game in range(len(normalized_rewards))\n",
    "                        for step in range(len(normalized_rewards[game]))])\n",
    "    model.zero_grad()\n",
    "    weighted_loss.backward()\n",
    "    ## optimize based on aggregated gradient\n",
    "    optimizer.step()\n",
    "    if epoch % 25 == 0:\n",
    "        rewards = [np.sum(reward) for reward in all_rewards]\n",
    "        mean_reward = np.mean(rewards)\n",
    "        max_reward = np.max(rewards)\n",
    "        print(epoch, mean_reward, max_reward)"
   ]
  },
  {
   "cell_type": "code",
   "execution_count": null,
   "metadata": {
    "collapsed": true
   },
   "outputs": [],
   "source": []
  }
 ],
 "metadata": {
  "kernelspec": {
   "display_name": "Python 3",
   "language": "python",
   "name": "python3"
  },
  "language_info": {
   "codemirror_mode": {
    "name": "ipython",
    "version": 3
   },
   "file_extension": ".py",
   "mimetype": "text/x-python",
   "name": "python",
   "nbconvert_exporter": "python",
   "pygments_lexer": "ipython3",
   "version": "3.6.0"
  }
 },
 "nbformat": 4,
 "nbformat_minor": 2
}
