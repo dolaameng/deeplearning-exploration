{
 "cells": [
  {
   "cell_type": "markdown",
   "metadata": {},
   "source": [
    "# Varational autoencoder by RNN for sudoku sequence generation\n",
    "\n",
    "## dataset \n",
    "- [10,000 solved sudoku](http://www.printable-sudoku-puzzles.com/wfiles/)\n",
    "- [bigger dataset: 1M sudoku and solutions](https://www.kaggle.com/bryanpark/sudoku)"
   ]
  },
  {
   "cell_type": "markdown",
   "metadata": {},
   "source": [
    "## Load sudoku training data"
   ]
  },
  {
   "cell_type": "code",
   "execution_count": 1,
   "metadata": {
    "collapsed": true
   },
   "outputs": [],
   "source": [
    "%matplotlib inline\n",
    "import matplotlib.pyplot as plt"
   ]
  },
  {
   "cell_type": "code",
   "execution_count": 2,
   "metadata": {
    "collapsed": true
   },
   "outputs": [],
   "source": [
    "import numpy as np\n",
    "from glob import glob\n",
    "\n",
    "import torch\n",
    "from torch.autograd import Variable\n",
    "from torch import nn, optim\n",
    "from torch.utils.data import Dataset, DataLoader\n",
    "from torch.nn.utils.rnn import pack_padded_sequence, pad_packed_sequence"
   ]
  },
  {
   "cell_type": "markdown",
   "metadata": {},
   "source": [
    "## Data Processing"
   ]
  },
  {
   "cell_type": "code",
   "execution_count": 3,
   "metadata": {
    "collapsed": false
   },
   "outputs": [],
   "source": [
    "symbol2index = dict(zip('123456789', range(9)))\n",
    "index2symbol = dict(zip(range(9), '123456789'))\n",
    "\n",
    "def puzzle2tensor(puzzle_batch):\n",
    "    batch_size = len(puzzle_batch)\n",
    "    seq_len = len(puzzle_batch[0])\n",
    "    t = torch.zeros([batch_size, seq_len, 9])\n",
    "    for r in range(batch_size):\n",
    "        for c in range(seq_len):\n",
    "            s = symbol2index[puzzle_batch[r][c]]\n",
    "            t[r, c, s] = 1\n",
    "    return t\n",
    "\n",
    "def puzzle2target(puzzle_batch):\n",
    "    batch_size = len(puzzle_batch)\n",
    "    seq_len = len(puzzle_batch[0])\n",
    "    t = torch.LongTensor(batch_size, seq_len).zero_()\n",
    "    for r in range(batch_size):\n",
    "        for c in range(seq_len):\n",
    "            s = symbol2index[puzzle_batch[r][c]]\n",
    "            t[r, c] = s\n",
    "    return t\n",
    "\n",
    "def tensor2puzzle(tensors):\n",
    "    \"\"\"tensors.size() == [batch_size, seq, 9]\n",
    "    \"\"\"\n",
    "    _, p = tensors.max(dim=2)\n",
    "    p = p.squeeze().numpy()\n",
    "    puzzles = []\n",
    "    for r in p:\n",
    "        puzzles.append(''.join([index2symbol.get(s) for s in r]))\n",
    "    return puzzles\n",
    "\n",
    "def output2puzzle(y):\n",
    "    \"\"\"y.size() == [batch_size, 9]\n",
    "    \"\"\"\n",
    "    _, labels = y.max(dim=1)\n",
    "    return labels.numpy().squeeze() + 1"
   ]
  },
  {
   "cell_type": "markdown",
   "metadata": {
    "collapsed": true
   },
   "source": [
    "## build a sudoku env following openai"
   ]
  },
  {
   "cell_type": "code",
   "execution_count": 4,
   "metadata": {
    "collapsed": true
   },
   "outputs": [],
   "source": [
    "class Sudoku(object):\n",
    "    \n",
    "    def __init__(self):\n",
    "        self.state = None\n",
    "        \n",
    "    def reset(self):\n",
    "        \"\"\"return observation\"\"\"\n",
    "        self.state = []\n",
    "        obs = ''.join(self.state)\n",
    "        return obs\n",
    "    \n",
    "    def step(self, action):\n",
    "        \"\"\"action: '123456789'\n",
    "        return [obs, reward, done, info]\"\"\"\n",
    "        self.state.append(action)\n",
    "        obs = ''.join(self.state)\n",
    "        reward = 1\n",
    "        valid, info = self.is_valid(self.state)\n",
    "        done = not valid\n",
    "        return [obs, reward, done, info]\n",
    "    \n",
    "    def is_valid(self, puzzle):\n",
    "        \"\"\"puzzle: an array of digits.\n",
    "        Check if a partial puzzle is valid\n",
    "        TODO: DONT REALLY NEED TO CHECK ALL BUT THE LAST ELEMENT\n",
    "        \"\"\"\n",
    "        nrows = int(np.ceil(len(puzzle)/9))\n",
    "        for r in range(0, nrows):\n",
    "            row = puzzle[r*9:(r+1)*9]\n",
    "            if len(row) != len(set(row)):\n",
    "                return False, \"row rule\"\n",
    "        for c in range(0, 9):\n",
    "            col = puzzle[c:c+9*9:9]\n",
    "            if len(col) != len(set(col)):\n",
    "                return False, \"col rule\"\n",
    "        strides = [list(range(0, 3)), list(range(3, 6)), list(range(6, 9))]\n",
    "        squares = [(r, c) for r in strides for c in strides]\n",
    "        for sqr, sqc in squares:\n",
    "            sqi = [r*9+c for r in sqr for c in sqc]\n",
    "            square = [puzzle[i] for i in sqi if i < len(puzzle)]\n",
    "            if len(square) != len(set(square)):\n",
    "                return False, \"sqr rule\"\n",
    "        return True, \"valid\""
   ]
  },
  {
   "cell_type": "code",
   "execution_count": 18,
   "metadata": {
    "collapsed": true
   },
   "outputs": [],
   "source": [
    "class Sudoku(object):\n",
    "    \n",
    "    def __init__(self):\n",
    "        self.state = None\n",
    "        \n",
    "    def reset(self):\n",
    "        \"\"\"return observation\"\"\"\n",
    "        self.state = []\n",
    "        obs = ''.join(self.state)\n",
    "        return obs\n",
    "    \n",
    "    def step(self, action):\n",
    "        \"\"\"action: '123456789'\n",
    "        return [obs, reward, done, info]\"\"\"\n",
    "        self.state.append(action)\n",
    "        obs = ''.join(self.state)\n",
    "        reward = 1\n",
    "        valid, info = self.is_valid(self.state)\n",
    "        done = not valid\n",
    "        return [obs, reward, done, info]\n",
    "    \n",
    "    def is_valid(self, puzzle):\n",
    "        \"\"\"puzzle: an array of digits.\n",
    "        ONLY check last element\n",
    "        \"\"\"\n",
    "        pivot = len(puzzle) - 1\n",
    "        nrows = int(np.ceil(len(puzzle)/9))\n",
    "        for r in range(0, nrows):\n",
    "            ri = range(r*9, (r+1)*9)\n",
    "            if pivot not in set(ri): continue\n",
    "            row = puzzle[r*9:(r+1)*9]\n",
    "            if len(row) != len(set(row)):\n",
    "                return False, \"row rule\"\n",
    "        for c in range(0, 9):\n",
    "            ci = range(c, c+9*9, 9)\n",
    "            if pivot not in set(ci): continue\n",
    "            col = puzzle[c:c+9*9:9]\n",
    "            if len(col) != len(set(col)):\n",
    "                return False, \"col rule\"\n",
    "        strides = [list(range(0, 3)), list(range(3, 6)), list(range(6, 9))]\n",
    "        squares = [(r, c) for r in strides for c in strides]\n",
    "        for sqr, sqc in squares:\n",
    "            sqi = [r*9+c for r in sqr for c in sqc]\n",
    "            if pivot not in set(sqi): continue\n",
    "            square = [puzzle[i] for i in sqi if i < len(puzzle)]\n",
    "            if len(square) != len(set(square)):\n",
    "                return False, \"sqr rule\"\n",
    "        return True, \"valid\""
   ]
  },
  {
   "cell_type": "code",
   "execution_count": 19,
   "metadata": {
    "collapsed": false
   },
   "outputs": [
    {
     "name": "stdout",
     "output_type": "stream",
     "text": [
      "\n"
     ]
    },
    {
     "data": {
      "text/plain": [
       "['1', 1, False, 'valid']"
      ]
     },
     "execution_count": 19,
     "metadata": {},
     "output_type": "execute_result"
    }
   ],
   "source": [
    "env = Sudoku()\n",
    "print(env.reset())\n",
    "env.step('1')"
   ]
  },
  {
   "cell_type": "code",
   "execution_count": 22,
   "metadata": {
    "collapsed": false
   },
   "outputs": [
    {
     "name": "stdout",
     "output_type": "stream",
     "text": [
      "(True, 'valid')\n",
      "(True, 'valid')\n",
      "(False, 'col rule')\n"
     ]
    }
   ],
   "source": [
    "# won't work with new version is_valid\n",
    "puzzle = list(\"123456789987654321\")\n",
    "print(env.is_valid(puzzle))\n",
    "puzzle = list(\"123456\")\n",
    "print(env.is_valid(puzzle[:-5]))\n",
    "puzzle = list(\"1234567891\")\n",
    "print(env.is_valid(puzzle))"
   ]
  },
  {
   "cell_type": "markdown",
   "metadata": {
    "collapsed": true
   },
   "source": [
    "## baseline - random generator policy"
   ]
  },
  {
   "cell_type": "code",
   "execution_count": 23,
   "metadata": {
    "collapsed": true
   },
   "outputs": [],
   "source": [
    "def random_policy():\n",
    "    return np.random.choice( list(\"123456789\"), 1)[0] "
   ]
  },
  {
   "cell_type": "code",
   "execution_count": 24,
   "metadata": {
    "collapsed": false
   },
   "outputs": [],
   "source": [
    "all_rewards = []\n",
    "\n",
    "env = Sudoku()\n",
    "\n",
    "for game in range(5000):\n",
    "    obs = env.reset()\n",
    "    game_reward = 0\n",
    "    for _ in range(81):\n",
    "        action = random_policy()\n",
    "        obs, reward, done, info = env.step(action)\n",
    "        game_reward += reward\n",
    "        if done: break\n",
    "    all_rewards.append(game_reward)"
   ]
  },
  {
   "cell_type": "code",
   "execution_count": 25,
   "metadata": {
    "collapsed": false
   },
   "outputs": [
    {
     "data": {
      "image/png": "[encoded data removed]",
      "text/plain": [
       "<matplotlib.figure.Figure at 0x7ff536abd898>"
      ]
     },
     "metadata": {},
     "output_type": "display_data"
    }
   ],
   "source": [
    "_ = plt.hist(all_rewards)"
   ]
  },
  {
   "cell_type": "markdown",
   "metadata": {},
   "source": [
    "## rnn model"
   ]
  },
  {
   "cell_type": "code",
   "execution_count": 106,
   "metadata": {
    "collapsed": true
   },
   "outputs": [],
   "source": [
    "class SudokuPolicy(nn.Module):\n",
    "    def __init__(self):\n",
    "        super(SudokuPolicy, self).__init__()\n",
    "        self.rnn = nn.GRU(input_size=9, hidden_size=100,\n",
    "                          num_layers=1, bidirectional=False,\n",
    "                          batch_first=True)\n",
    "        self.fc1 = nn.Linear(100, 32)\n",
    "        self.elu = nn.ELU()\n",
    "#         self.d = nn.Dropout(0.5)\n",
    "\n",
    "        self.fc2 = nn.Linear(32, 9)\n",
    "        self.softmax = nn.Softmax()\n",
    "    def forward(self, obs):\n",
    "        batch_size, seq_len, input_size = obs.size()\n",
    "        h0 = Variable(torch.zeros(1, batch_size, 100)).cuda()\n",
    "        out, _ = self.rnn(obs, h0)\n",
    "        out = out[:, -1, :]\n",
    "        out = self.elu(self.fc1(out))\n",
    "#         out = self.d(out)\n",
    "        logits = self.fc2(out)\n",
    "        # probs and labels for action calculation\n",
    "        probs = self.softmax(logits)\n",
    "        self.label = torch.multinomial(probs, 1)\n",
    "        return logits"
   ]
  },
  {
   "cell_type": "code",
   "execution_count": 107,
   "metadata": {
    "collapsed": false
   },
   "outputs": [
    {
     "name": "stdout",
     "output_type": "stream",
     "text": [
      "Variable containing:\n",
      " 0.1359  0.0144 -0.0451 -0.1487 -0.0381  0.0867  0.0745 -0.1115  0.0085\n",
      "[torch.cuda.FloatTensor of size 1x9 (GPU 0)]\n",
      "\n",
      "4\n"
     ]
    }
   ],
   "source": [
    "actions = \"123456789\"\n",
    "\n",
    "m = SudokuPolicy().cuda()\n",
    "obs = Variable(puzzle2tensor([\"12\"])).cuda()\n",
    "print( m(obs) )\n",
    "print( actions[m.label.data.cpu().numpy()[0][0]] )"
   ]
  },
  {
   "cell_type": "markdown",
   "metadata": {},
   "source": [
    "## credit assignment"
   ]
  },
  {
   "cell_type": "code",
   "execution_count": 108,
   "metadata": {
    "collapsed": true
   },
   "outputs": [],
   "source": [
    "def discount_rewards(rewards, discount_rate):\n",
    "    \"\"\"rewards: rewards of all steps for a single game, a list\n",
    "    \"\"\"\n",
    "    discounted_rewards = np.empty(len(rewards),dtype=np.float32)\n",
    "    accum_reward = 0\n",
    "    for i in reversed(range(len(rewards))):\n",
    "        accum_reward = rewards[i] + accum_reward * discount_rate\n",
    "        discounted_rewards[i] = accum_reward\n",
    "    return discounted_rewards\n",
    "\n",
    "def discount_and_normalize_rewards(all_rewards, discount_rate):\n",
    "    \"\"\"\n",
    "    all_rewards: rewards of all games for all steps, a list of list\n",
    "    \"\"\"\n",
    "    discounted_all_rewards = [discount_rewards(rewards, discount_rate)\n",
    "                             for rewards in all_rewards]\n",
    "    flatten_rewards = [reward for rewards in discounted_all_rewards\n",
    "                          for reward in rewards]\n",
    "    reward_mean = np.mean(flatten_rewards)\n",
    "    reward_std = np.std(flatten_rewards)\n",
    "    normalized_rewards = [(rewards - reward_mean) / reward_std\n",
    "                         for rewards in discounted_all_rewards]\n",
    "    return normalized_rewards"
   ]
  },
  {
   "cell_type": "code",
   "execution_count": 109,
   "metadata": {
    "collapsed": false
   },
   "outputs": [
    {
     "data": {
      "text/plain": [
       "array([-22., -40., -50.], dtype=float32)"
      ]
     },
     "execution_count": 109,
     "metadata": {},
     "output_type": "execute_result"
    }
   ],
   "source": [
    "discount_rewards([10, 0, -50], discount_rate=.8)"
   ]
  },
  {
   "cell_type": "code",
   "execution_count": 110,
   "metadata": {
    "collapsed": false
   },
   "outputs": [
    {
     "data": {
      "text/plain": [
       "[array([-0.28435072, -0.86597717, -1.18910301], dtype=float32),\n",
       " array([ 1.2666533 ,  1.07277775], dtype=float32)]"
      ]
     },
     "execution_count": 110,
     "metadata": {},
     "output_type": "execute_result"
    }
   ],
   "source": [
    "discount_and_normalize_rewards([[10, 0, -50], [10, 20]],\n",
    "                               discount_rate=0.8)"
   ]
  },
  {
   "cell_type": "markdown",
   "metadata": {},
   "source": [
    "## training by policy gradient"
   ]
  },
  {
   "cell_type": "code",
   "execution_count": 120,
   "metadata": {
    "collapsed": false
   },
   "outputs": [
    {
     "data": {
      "text/plain": [
       "SudokuPolicy (\n",
       "  (rnn): GRU(9, 100, batch_first=True)\n",
       "  (fc1): Linear (100 -> 32)\n",
       "  (elu): ELU (alpha=1.0)\n",
       "  (fc2): Linear (32 -> 9)\n",
       "  (softmax): Softmax ()\n",
       ")"
      ]
     },
     "execution_count": 120,
     "metadata": {},
     "output_type": "execute_result"
    }
   ],
   "source": [
    "objective = nn.CrossEntropyLoss()\n",
    "\n",
    "model = SudokuPolicy().cuda()\n",
    "model.train()"
   ]
  },
  {
   "cell_type": "code",
   "execution_count": 121,
   "metadata": {
    "collapsed": false
   },
   "outputs": [
    {
     "name": "stdout",
     "output_type": "stream",
     "text": [
      "0 3.4 7\n",
      "25 5.26 8\n",
      "50 6.24 8\n",
      "75 6.64 8\n",
      "100 7.2 12\n",
      "125 8.56 17\n",
      "150 10.92 18\n",
      "175 10.84 17\n",
      "200 11.94 17\n",
      "225 10.9 17\n",
      "250 10.44 17\n",
      "275 12.08 17\n",
      "300 11.22 17\n",
      "325 11.76 17\n",
      "350 11.06 17\n",
      "375 11.48 17\n",
      "400 10.52 17\n",
      "425 11.66 17\n"
     ]
    },
    {
     "ename": "KeyboardInterrupt",
     "evalue": "",
     "output_type": "error",
     "traceback": [
      "\u001b[0;31m---------------------------------------------------------------------------\u001b[0m",
      "\u001b[0;31mKeyboardInterrupt\u001b[0m                         Traceback (most recent call last)",
      "\u001b[0;32m<ipython-input-121-b7fb8390b94e>\u001b[0m in \u001b[0;36m<module>\u001b[0;34m()\u001b[0m\n\u001b[0;32m----> 1\u001b[0;31m \u001b[0mget_ipython\u001b[0m\u001b[0;34m(\u001b[0m\u001b[0;34m)\u001b[0m\u001b[0;34m.\u001b[0m\u001b[0mrun_cell_magic\u001b[0m\u001b[0;34m(\u001b[0m\u001b[0;34m'time'\u001b[0m\u001b[0;34m,\u001b[0m \u001b[0;34m''\u001b[0m\u001b[0;34m,\u001b[0m \u001b[0;34m'\\nn_epochs = 600\\nn_max_steps = 81\\nn_games_per_update = 50\\ndiscount_rate = .85\\n\\n\\n\\n\\noptimizer = optim.Adam(model.parameters(), lr=1e-2)\\nactions = \"123456789\"\\n\\n\\nfor epoch in range(n_epochs):\\n    \\n    all_losses = []\\n    all_rewards = []\\n    \\n    for game in range(n_games_per_update):\\n        \\n        game_losses = []\\n        game_rewards = []\\n        \\n        obs = env.reset()\\n        first_action = random_policy() # random first action\\n        obs, reward, done, info = env.step(first_action)\\n        \\n        for step in range(n_max_steps):\\n            # train on one observation\\n            obs_var = Variable(puzzle2tensor([obs])).cuda()\\n            model.zero_grad()\\n            logits = model(obs_var)\\n            label = model.label.data.cpu().numpy()[0][0]\\n            action = actions[label]\\n            obs, reward, done, info = env.step(action)\\n\\n            y = Variable(torch.LongTensor([int(label)])).cuda()\\n            loss = objective(logits, y)\\n            game_losses.append(loss)\\n            game_rewards.append(reward)\\n            if done:\\n                break\\n                \\n        all_losses.append(game_losses)\\n        all_rewards.append(game_rewards)\\n    \\n    ## normalize and discount rewards\\n    normalized_rewards = discount_and_normalize_rewards(all_rewards, discount_rate=discount_rate)\\n    ## aggregate losses\\n    weighted_loss = np.mean([all_losses[game][step] * float(normalized_rewards[game][step])\\n                        for game in range(len(normalized_rewards))\\n                        for step in range(len(normalized_rewards[game]))])\\n    model.zero_grad()\\n    weighted_loss.backward()\\n    ## optimize based on aggregated gradient\\n    optimizer.step()\\n    if epoch % 25 == 0:\\n        rewards = [np.sum(reward) for reward in all_rewards]\\n        mean_reward = np.mean(rewards)\\n        max_reward = np.max(rewards)\\n        print(epoch, mean_reward, max_reward)'\u001b[0m\u001b[0;34m)\u001b[0m\u001b[0;34m\u001b[0m\u001b[0m\n\u001b[0m",
      "\u001b[0;32m/home/dola/anaconda3/lib/python3.6/site-packages/IPython/core/interactiveshell.py\u001b[0m in \u001b[0;36mrun_cell_magic\u001b[0;34m(self, magic_name, line, cell)\u001b[0m\n\u001b[1;32m   2113\u001b[0m             \u001b[0mmagic_arg_s\u001b[0m \u001b[0;34m=\u001b[0m \u001b[0mself\u001b[0m\u001b[0;34m.\u001b[0m\u001b[0mvar_expand\u001b[0m\u001b[0;34m(\u001b[0m\u001b[0mline\u001b[0m\u001b[0;34m,\u001b[0m \u001b[0mstack_depth\u001b[0m\u001b[0;34m)\u001b[0m\u001b[0;34m\u001b[0m\u001b[0m\n\u001b[1;32m   2114\u001b[0m             \u001b[0;32mwith\u001b[0m \u001b[0mself\u001b[0m\u001b[0;34m.\u001b[0m\u001b[0mbuiltin_trap\u001b[0m\u001b[0;34m:\u001b[0m\u001b[0;34m\u001b[0m\u001b[0m\n\u001b[0;32m-> 2115\u001b[0;31m                 \u001b[0mresult\u001b[0m \u001b[0;34m=\u001b[0m \u001b[0mfn\u001b[0m\u001b[0;34m(\u001b[0m\u001b[0mmagic_arg_s\u001b[0m\u001b[0;34m,\u001b[0m \u001b[0mcell\u001b[0m\u001b[0;34m)\u001b[0m\u001b[0;34m\u001b[0m\u001b[0m\n\u001b[0m\u001b[1;32m   2116\u001b[0m             \u001b[0;32mreturn\u001b[0m \u001b[0mresult\u001b[0m\u001b[0;34m\u001b[0m\u001b[0m\n\u001b[1;32m   2117\u001b[0m \u001b[0;34m\u001b[0m\u001b[0m\n",
      "\u001b[0;32m<decorator-gen-59>\u001b[0m in \u001b[0;36mtime\u001b[0;34m(self, line, cell, local_ns)\u001b[0m\n",
      "\u001b[0;32m/home/dola/anaconda3/lib/python3.6/site-packages/IPython/core/magic.py\u001b[0m in \u001b[0;36m<lambda>\u001b[0;34m(f, *a, **k)\u001b[0m\n\u001b[1;32m    186\u001b[0m     \u001b[0;31m# but it's overkill for just that one bit of state.\u001b[0m\u001b[0;34m\u001b[0m\u001b[0;34m\u001b[0m\u001b[0m\n\u001b[1;32m    187\u001b[0m     \u001b[0;32mdef\u001b[0m \u001b[0mmagic_deco\u001b[0m\u001b[0;34m(\u001b[0m\u001b[0marg\u001b[0m\u001b[0;34m)\u001b[0m\u001b[0;34m:\u001b[0m\u001b[0;34m\u001b[0m\u001b[0m\n\u001b[0;32m--> 188\u001b[0;31m         \u001b[0mcall\u001b[0m \u001b[0;34m=\u001b[0m \u001b[0;32mlambda\u001b[0m \u001b[0mf\u001b[0m\u001b[0;34m,\u001b[0m \u001b[0;34m*\u001b[0m\u001b[0ma\u001b[0m\u001b[0;34m,\u001b[0m \u001b[0;34m**\u001b[0m\u001b[0mk\u001b[0m\u001b[0;34m:\u001b[0m \u001b[0mf\u001b[0m\u001b[0;34m(\u001b[0m\u001b[0;34m*\u001b[0m\u001b[0ma\u001b[0m\u001b[0;34m,\u001b[0m \u001b[0;34m**\u001b[0m\u001b[0mk\u001b[0m\u001b[0;34m)\u001b[0m\u001b[0;34m\u001b[0m\u001b[0m\n\u001b[0m\u001b[1;32m    189\u001b[0m \u001b[0;34m\u001b[0m\u001b[0m\n\u001b[1;32m    190\u001b[0m         \u001b[0;32mif\u001b[0m \u001b[0mcallable\u001b[0m\u001b[0;34m(\u001b[0m\u001b[0marg\u001b[0m\u001b[0;34m)\u001b[0m\u001b[0;34m:\u001b[0m\u001b[0;34m\u001b[0m\u001b[0m\n",
      "\u001b[0;32m/home/dola/anaconda3/lib/python3.6/site-packages/IPython/core/magics/execution.py\u001b[0m in \u001b[0;36mtime\u001b[0;34m(self, line, cell, local_ns)\u001b[0m\n\u001b[1;32m   1178\u001b[0m         \u001b[0;32melse\u001b[0m\u001b[0;34m:\u001b[0m\u001b[0;34m\u001b[0m\u001b[0m\n\u001b[1;32m   1179\u001b[0m             \u001b[0mst\u001b[0m \u001b[0;34m=\u001b[0m \u001b[0mclock2\u001b[0m\u001b[0;34m(\u001b[0m\u001b[0;34m)\u001b[0m\u001b[0;34m\u001b[0m\u001b[0m\n\u001b[0;32m-> 1180\u001b[0;31m             \u001b[0mexec\u001b[0m\u001b[0;34m(\u001b[0m\u001b[0mcode\u001b[0m\u001b[0;34m,\u001b[0m \u001b[0mglob\u001b[0m\u001b[0;34m,\u001b[0m \u001b[0mlocal_ns\u001b[0m\u001b[0;34m)\u001b[0m\u001b[0;34m\u001b[0m\u001b[0m\n\u001b[0m\u001b[1;32m   1181\u001b[0m             \u001b[0mend\u001b[0m \u001b[0;34m=\u001b[0m \u001b[0mclock2\u001b[0m\u001b[0;34m(\u001b[0m\u001b[0;34m)\u001b[0m\u001b[0;34m\u001b[0m\u001b[0m\n\u001b[1;32m   1182\u001b[0m             \u001b[0mout\u001b[0m \u001b[0;34m=\u001b[0m \u001b[0;32mNone\u001b[0m\u001b[0;34m\u001b[0m\u001b[0m\n",
      "\u001b[0;32m<timed exec>\u001b[0m in \u001b[0;36m<module>\u001b[0;34m()\u001b[0m\n",
      "\u001b[0;32m/home/dola/anaconda3/lib/python3.6/site-packages/torch/autograd/variable.py\u001b[0m in \u001b[0;36mbackward\u001b[0;34m(self, gradient, retain_variables)\u001b[0m\n\u001b[1;32m    144\u001b[0m                     'or with gradient w.r.t. the variable')\n\u001b[1;32m    145\u001b[0m             \u001b[0mgradient\u001b[0m \u001b[0;34m=\u001b[0m \u001b[0mself\u001b[0m\u001b[0;34m.\u001b[0m\u001b[0mdata\u001b[0m\u001b[0;34m.\u001b[0m\u001b[0mnew\u001b[0m\u001b[0;34m(\u001b[0m\u001b[0;34m)\u001b[0m\u001b[0;34m.\u001b[0m\u001b[0mresize_as_\u001b[0m\u001b[0;34m(\u001b[0m\u001b[0mself\u001b[0m\u001b[0;34m.\u001b[0m\u001b[0mdata\u001b[0m\u001b[0;34m)\u001b[0m\u001b[0;34m.\u001b[0m\u001b[0mfill_\u001b[0m\u001b[0;34m(\u001b[0m\u001b[0;36m1\u001b[0m\u001b[0;34m)\u001b[0m\u001b[0;34m\u001b[0m\u001b[0m\n\u001b[0;32m--> 146\u001b[0;31m         \u001b[0mself\u001b[0m\u001b[0;34m.\u001b[0m\u001b[0m_execution_engine\u001b[0m\u001b[0;34m.\u001b[0m\u001b[0mrun_backward\u001b[0m\u001b[0;34m(\u001b[0m\u001b[0;34m(\u001b[0m\u001b[0mself\u001b[0m\u001b[0;34m,\u001b[0m\u001b[0;34m)\u001b[0m\u001b[0;34m,\u001b[0m \u001b[0;34m(\u001b[0m\u001b[0mgradient\u001b[0m\u001b[0;34m,\u001b[0m\u001b[0;34m)\u001b[0m\u001b[0;34m,\u001b[0m \u001b[0mretain_variables\u001b[0m\u001b[0;34m)\u001b[0m\u001b[0;34m\u001b[0m\u001b[0m\n\u001b[0m\u001b[1;32m    147\u001b[0m \u001b[0;34m\u001b[0m\u001b[0m\n\u001b[1;32m    148\u001b[0m     \u001b[0;32mdef\u001b[0m \u001b[0mregister_hook\u001b[0m\u001b[0;34m(\u001b[0m\u001b[0mself\u001b[0m\u001b[0;34m,\u001b[0m \u001b[0mhook\u001b[0m\u001b[0;34m)\u001b[0m\u001b[0;34m:\u001b[0m\u001b[0;34m\u001b[0m\u001b[0m\n",
      "\u001b[0;31mKeyboardInterrupt\u001b[0m: "
     ]
    }
   ],
   "source": [
    "%%time\n",
    "\n",
    "n_epochs = 600\n",
    "n_max_steps = 81\n",
    "n_games_per_update = 50\n",
    "discount_rate = .95\n",
    "\n",
    "\n",
    "\n",
    "\n",
    "optimizer = optim.Adam(model.parameters(), lr=1e-2)\n",
    "actions = \"123456789\"\n",
    "\n",
    "\n",
    "for epoch in range(n_epochs):\n",
    "    \n",
    "    all_losses = []\n",
    "    all_rewards = []\n",
    "    \n",
    "    for game in range(n_games_per_update):\n",
    "        \n",
    "        game_losses = []\n",
    "        game_rewards = []\n",
    "        \n",
    "        obs = env.reset()\n",
    "        first_action = random_policy() # random first action\n",
    "        obs, reward, done, info = env.step(first_action)\n",
    "        \n",
    "        for step in range(n_max_steps):\n",
    "            # train on one observation\n",
    "            obs_var = Variable(puzzle2tensor([obs])).cuda()\n",
    "            model.zero_grad()\n",
    "            logits = model(obs_var)\n",
    "            label = model.label.data.cpu().numpy()[0][0]\n",
    "            action = actions[label]\n",
    "            obs, reward, done, info = env.step(action)\n",
    "\n",
    "            y = Variable(torch.LongTensor([int(label)])).cuda()\n",
    "            loss = objective(logits, y)\n",
    "            game_losses.append(loss)\n",
    "            game_rewards.append(reward)\n",
    "            if done:\n",
    "                break\n",
    "                \n",
    "        all_losses.append(game_losses)\n",
    "        all_rewards.append(game_rewards)\n",
    "    \n",
    "    ## normalize and discount rewards\n",
    "    normalized_rewards = discount_and_normalize_rewards(all_rewards, discount_rate=discount_rate)\n",
    "    ## aggregate losses\n",
    "    weighted_loss = np.mean([all_losses[game][step] * float(normalized_rewards[game][step])\n",
    "                        for game in range(len(normalized_rewards))\n",
    "                        for step in range(len(normalized_rewards[game]))])\n",
    "    model.zero_grad()\n",
    "    weighted_loss.backward()\n",
    "    ## optimize based on aggregated gradient\n",
    "    optimizer.step()\n",
    "    if epoch % 25 == 0:\n",
    "        rewards = [np.sum(reward) for reward in all_rewards]\n",
    "        mean_reward = np.mean(rewards)\n",
    "        max_reward = np.max(rewards)\n",
    "        print(epoch, mean_reward, max_reward)"
   ]
  },
  {
   "cell_type": "code",
   "execution_count": 122,
   "metadata": {
    "collapsed": true
   },
   "outputs": [],
   "source": [
    "actions = list('123456789')\n",
    "def model_policy(obs, model):\n",
    "    if len(obs) == 0:\n",
    "        return random_policy()\n",
    "    else:\n",
    "        obs_var = Variable(puzzle2tensor([obs])).cuda()\n",
    "        model.eval()\n",
    "        logits = model(obs_var)\n",
    "        label = model.label.data.cpu().numpy()[0][0]\n",
    "        action = actions[label]\n",
    "        return action"
   ]
  },
  {
   "cell_type": "code",
   "execution_count": 123,
   "metadata": {
    "collapsed": false
   },
   "outputs": [
    {
     "name": "stdout",
     "output_type": "stream",
     "text": [
      "\n"
     ]
    }
   ],
   "source": [
    "from tqdm import tqdm_notebook\n",
    "all_rewards = []\n",
    "all_solutions = []\n",
    "\n",
    "env = Sudoku()\n",
    "\n",
    "for game in tqdm_notebook(range(5000)):\n",
    "    obs = env.reset()\n",
    "    game_reward = 0\n",
    "    for _ in range(81):\n",
    "        action = model_policy(obs, model)\n",
    "        obs, reward, done, info = env.step(action)\n",
    "        game_reward += reward\n",
    "        if done: \n",
    "            all_solutions.append(obs)\n",
    "            break\n",
    "    all_rewards.append(game_reward)"
   ]
  },
  {
   "cell_type": "code",
   "execution_count": 124,
   "metadata": {
    "collapsed": false
   },
   "outputs": [
    {
     "data": {
      "image/png": "[encoded data removed]",
      "text/plain": [
       "<matplotlib.figure.Figure at 0x7ff522536a20>"
      ]
     },
     "metadata": {},
     "output_type": "display_data"
    }
   ],
   "source": [
    "_ = plt.hist(all_rewards)"
   ]
  },
  {
   "cell_type": "code",
   "execution_count": 126,
   "metadata": {
    "collapsed": false
   },
   "outputs": [
    {
     "data": {
      "text/plain": [
       "'2971465832'"
      ]
     },
     "execution_count": 126,
     "metadata": {},
     "output_type": "execute_result"
    }
   ],
   "source": [
    "all_solutions[100]"
   ]
  },
  {
   "cell_type": "code",
   "execution_count": null,
   "metadata": {
    "collapsed": true
   },
   "outputs": [],
   "source": []
  }
 ],
 "metadata": {
  "kernelspec": {
   "display_name": "Python 3",
   "language": "python",
   "name": "python3"
  },
  "language_info": {
   "codemirror_mode": {
    "name": "ipython",
    "version": 3
   },
   "file_extension": ".py",
   "mimetype": "text/x-python",
   "name": "python",
   "nbconvert_exporter": "python",
   "pygments_lexer": "ipython3",
   "version": "3.6.0"
  },
  "widgets": {
   "state": {
    "084d07edaa4545f39aa14213764e33c0": {
     "views": [
      {
       "cell_index": 29
      }
     ]
    },
    "091cb96451bf486fb813c6d8bc3257a8": {
     "views": [
      {
       "cell_index": 29
      }
     ]
    },
    "0eaa4cfbbc494fd8bae72918ac92139b": {
     "views": [
      {
       "cell_index": 29
      }
     ]
    },
    "195376bb57e84faaafdb65cce1ece8d4": {
     "views": [
      {
       "cell_index": 29
      }
     ]
    },
    "1a773168bbbf442f99432d9c5fb2bc06": {
     "views": [
      {
       "cell_index": 29
      }
     ]
    },
    "1c3dbe6c49984c70835d920c3e9c4f07": {
     "views": [
      {
       "cell_index": 29
      }
     ]
    },
    "1c50b027bbe84d049c878ee4433fd216": {
     "views": [
      {
       "cell_index": 29
      }
     ]
    },
    "277b831db02b4cc5b9ed433c6b4c3f5a": {
     "views": [
      {
       "cell_index": 29
      }
     ]
    },
    "30adc256f1b84e20b848d2c65f7c3e56": {
     "views": [
      {
       "cell_index": 29
      }
     ]
    },
    "32591291ccea42ce97e7bbf007a14294": {
     "views": [
      {
       "cell_index": 29
      }
     ]
    },
    "33583adbb30a4060a392e71138a5b0f0": {
     "views": [
      {
       "cell_index": 29
      }
     ]
    },
    "34df177444bb40fba3c92699ec589598": {
     "views": [
      {
       "cell_index": 29
      }
     ]
    },
    "4b5ba8da3d164be79426d064e4768595": {
     "views": [
      {
       "cell_index": 29
      }
     ]
    },
    "4d5095b75bbd45f992538d7c847d5c44": {
     "views": [
      {
       "cell_index": 29
      }
     ]
    },
    "559343ad277f405ba3322e6d99deb254": {
     "views": [
      {
       "cell_index": 29
      }
     ]
    },
    "5a0276950ccd419988696db74b0394ef": {
     "views": [
      {
       "cell_index": 29
      }
     ]
    },
    "5b40be1709cd425b9244aeb1c0a3237f": {
     "views": [
      {
       "cell_index": 29
      }
     ]
    },
    "61a0ee235162423f8a2c896b0c7ba984": {
     "views": [
      {
       "cell_index": 29
      }
     ]
    },
    "6665d32265d7466d841e2a831bab99ce": {
     "views": [
      {
       "cell_index": 29
      }
     ]
    },
    "67a3edf13c5444a89d5d9abc9b27ee68": {
     "views": [
      {
       "cell_index": 29
      }
     ]
    },
    "6ab986d2300848cda264e7c49bbb8b13": {
     "views": [
      {
       "cell_index": 29
      }
     ]
    },
    "7541aeb81f9d45e8b27230d1c1c14146": {
     "views": [
      {
       "cell_index": 29
      }
     ]
    },
    "75945b3fbac34746b22539cf31d52fa3": {
     "views": [
      {
       "cell_index": 29
      }
     ]
    },
    "76a85c0e584745f699c92ef805595ed2": {
     "views": [
      {
       "cell_index": 29
      }
     ]
    },
    "7c1e576d8922484396b5d6571ec0aac6": {
     "views": [
      {
       "cell_index": 29
      }
     ]
    },
    "7df37c80db034488a81778ab34baab95": {
     "views": [
      {
       "cell_index": 29
      }
     ]
    },
    "841bab2ad75e4bd5a6c02ce837463fc8": {
     "views": [
      {
       "cell_index": 29
      }
     ]
    },
    "87287fd737794d57b7f7c710bde6bca4": {
     "views": [
      {
       "cell_index": 29
      }
     ]
    },
    "8d5bdf17eb104c0e9b0f6f03c42079d5": {
     "views": [
      {
       "cell_index": 29
      }
     ]
    },
    "8f266298f50441449c98def654ce9e85": {
     "views": [
      {
       "cell_index": 29
      }
     ]
    },
    "90c9ac80a2b44e10a9de71633dbbcfa1": {
     "views": [
      {
       "cell_index": 29
      }
     ]
    },
    "97cbadf4ad4b4f979bc8b3078b2a69bf": {
     "views": [
      {
       "cell_index": 29
      }
     ]
    },
    "9b3b78ec521e4bd2b504bb3e137c0ed5": {
     "views": [
      {
       "cell_index": 29
      }
     ]
    },
    "9e433d8023964f1fb76e70ab27336b7d": {
     "views": [
      {
       "cell_index": 29
      }
     ]
    },
    "9ffb331fc4674af0b896d22828f02449": {
     "views": [
      {
       "cell_index": 29
      }
     ]
    },
    "a7ef4365bdd84b52b1691954d07d16f6": {
     "views": [
      {
       "cell_index": 29
      }
     ]
    },
    "aad8756eccbb4ed98e04ddb9e31d53e0": {
     "views": [
      {
       "cell_index": 29
      }
     ]
    },
    "acf4fac26b6b46a98f46bf2ad2026f65": {
     "views": [
      {
       "cell_index": 29
      }
     ]
    },
    "afda566404d14dc5a31abc0ba91a6e06": {
     "views": [
      {
       "cell_index": 29
      }
     ]
    },
    "b1acca106f6a4fc5b2f758c10623fc44": {
     "views": [
      {
       "cell_index": 29
      }
     ]
    },
    "b393714ebbcb43a898a3620b900c2e06": {
     "views": [
      {
       "cell_index": 29
      }
     ]
    },
    "b5090e016214474f8be06b54d679af68": {
     "views": [
      {
       "cell_index": 29
      }
     ]
    },
    "b93ad7f59d2549c1973946ab58692691": {
     "views": [
      {
       "cell_index": 29
      }
     ]
    },
    "b9668054d425445c96f8fa2679adfc8e": {
     "views": [
      {
       "cell_index": 29
      }
     ]
    },
    "bd44636c66f042aaa70b864fc96723c2": {
     "views": [
      {
       "cell_index": 29
      }
     ]
    },
    "be77ec844c7742c49f2b0937abe5ab85": {
     "views": [
      {
       "cell_index": 29
      }
     ]
    },
    "c5c176f351404508960e5a9353940142": {
     "views": [
      {
       "cell_index": 29
      }
     ]
    },
    "cd2f314ff1ad454c93b0d4989bdb11b4": {
     "views": [
      {
       "cell_index": 29
      }
     ]
    },
    "cf89b68f0ff34c1eac62aaa25cc3f01f": {
     "views": [
      {
       "cell_index": 29
      }
     ]
    },
    "d1819ae830624700ba32be0815d14aa6": {
     "views": [
      {
       "cell_index": 26
      }
     ]
    },
    "d22b624e512246f68422afce7f0f2b22": {
     "views": [
      {
       "cell_index": 29
      }
     ]
    },
    "dc276d95f4bc4fa486881a4f4448be41": {
     "views": [
      {
       "cell_index": 29
      }
     ]
    },
    "dffd90568d5348f7be562f40dac02ab1": {
     "views": [
      {
       "cell_index": 29
      }
     ]
    },
    "f9311b94de6544eb912ff41e59e1d6c6": {
     "views": [
      {
       "cell_index": 29
      }
     ]
    },
    "ff791df6ec064f2f827c94c8414a429d": {
     "views": [
      {
       "cell_index": 29
      }
     ]
    }
   },
   "version": "1.2.0"
  }
 },
 "nbformat": 4,
 "nbformat_minor": 2
}
