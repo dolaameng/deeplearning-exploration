{
 "cells": [
  {
   "cell_type": "markdown",
   "metadata": {},
   "source": [
    "# Varational autoencoder by RNN for sudoku sequence generation\n",
    "\n",
    "## dataset \n",
    "- [10,000 solved sudoku](http://www.printable-sudoku-puzzles.com/wfiles/)\n",
    "- [bigger dataset: 1M sudoku and solutions](https://www.kaggle.com/bryanpark/sudoku)"
   ]
  },
  {
   "cell_type": "markdown",
   "metadata": {},
   "source": [
    "## Load sudoku training data"
   ]
  },
  {
   "cell_type": "code",
   "execution_count": 2,
   "metadata": {
    "collapsed": true
   },
   "outputs": [],
   "source": [
    "import numpy as np\n",
    "from glob import glob\n",
    "\n",
    "import torch\n",
    "from torch.autograd import Variable\n",
    "from torch import nn, optim\n",
    "from torch.utils.data import Dataset, DataLoader"
   ]
  },
  {
   "cell_type": "code",
   "execution_count": 7,
   "metadata": {
    "collapsed": false
   },
   "outputs": [
    {
     "data": {
      "text/plain": [
       "10000"
      ]
     },
     "execution_count": 7,
     "metadata": {},
     "output_type": "execute_result"
    }
   ],
   "source": [
    "\n",
    "puzzles = sum([open(f).readlines() \n",
    "               for f in glob(\"/home/dola/ws/data/123456789.txt\")], [])\n",
    "puzzles = [p.strip() for p in puzzles if len(p.strip())==81]\n",
    "len(puzzles)"
   ]
  },
  {
   "cell_type": "code",
   "execution_count": 6,
   "metadata": {
    "collapsed": false
   },
   "outputs": [
    {
     "data": {
      "text/plain": [
       "1000000"
      ]
     },
     "execution_count": 6,
     "metadata": {},
     "output_type": "execute_result"
    }
   ],
   "source": [
    "import pandas as pd\n",
    "kaggle_sudoku = pd.read_csv(\"/home/dola/data/sudoku.csv\")\n",
    "puzzles = list(kaggle_sudoku.solutions)\n",
    "len(puzzles)"
   ]
  },
  {
   "cell_type": "code",
   "execution_count": 8,
   "metadata": {
    "collapsed": false
   },
   "outputs": [
    {
     "data": {
      "text/plain": [
       "'123456789578139624496872153952381467641297835387564291719623548864915372235748916'"
      ]
     },
     "execution_count": 8,
     "metadata": {},
     "output_type": "execute_result"
    }
   ],
   "source": [
    "puzzles[0]"
   ]
  },
  {
   "cell_type": "markdown",
   "metadata": {},
   "source": [
    "### check they are valid sudoku"
   ]
  },
  {
   "cell_type": "code",
   "execution_count": 21,
   "metadata": {
    "collapsed": false
   },
   "outputs": [],
   "source": [
    "def check_sudoku(puzzle):\n",
    "    assert len(puzzle) == 81\n",
    "    p = np.array(list(puzzle)).reshape(9, 9)\n",
    "    rows = range(9)\n",
    "    cols = range(9)\n",
    "    digits = set('123456789')\n",
    "    strides = [slice(0, 3), slice(3, 6), slice(6, 9)]\n",
    "    squares = [(r, c) for r in strides for c in strides]\n",
    "    for r in rows:\n",
    "        assert set(p[r,:]) == digits, \"err: row %i\" % r\n",
    "    for c in cols:\n",
    "        assert set(p[:,c]) == digits, \"err: col %i\" % c\n",
    "    for sr, sc in squares:\n",
    "        assert set(p[sr, sc].ravel()) == digits, \"err: sqr %i %i\" % (sr, sc)"
   ]
  },
  {
   "cell_type": "code",
   "execution_count": 10,
   "metadata": {
    "collapsed": false
   },
   "outputs": [
    {
     "name": "stdout",
     "output_type": "stream",
     "text": [
      "123456789123456789123456789123456789123456789123456789123456789123456789123456789\n"
     ]
    },
    {
     "ename": "AssertionError",
     "evalue": "err: col 0",
     "output_type": "error",
     "traceback": [
      "\u001b[0;31m---------------------------------------------------------------------------\u001b[0m",
      "\u001b[0;31mAssertionError\u001b[0m                            Traceback (most recent call last)",
      "\u001b[0;32m<ipython-input-10-ecb38c9e82d5>\u001b[0m in \u001b[0;36m<module>\u001b[0;34m()\u001b[0m\n\u001b[1;32m      2\u001b[0m \u001b[0mp\u001b[0m \u001b[0;34m=\u001b[0m \u001b[0;34m''\u001b[0m\u001b[0;34m.\u001b[0m\u001b[0mjoin\u001b[0m\u001b[0;34m(\u001b[0m\u001b[0;34m[\u001b[0m\u001b[0;34m'123456789'\u001b[0m\u001b[0;34m]\u001b[0m \u001b[0;34m*\u001b[0m \u001b[0;36m9\u001b[0m\u001b[0;34m)\u001b[0m\u001b[0;34m\u001b[0m\u001b[0m\n\u001b[1;32m      3\u001b[0m \u001b[0mprint\u001b[0m\u001b[0;34m(\u001b[0m\u001b[0mp\u001b[0m\u001b[0;34m)\u001b[0m\u001b[0;34m\u001b[0m\u001b[0m\n\u001b[0;32m----> 4\u001b[0;31m \u001b[0mcheck_sudoku\u001b[0m\u001b[0;34m(\u001b[0m\u001b[0mp\u001b[0m\u001b[0;34m)\u001b[0m\u001b[0;34m\u001b[0m\u001b[0m\n\u001b[0m",
      "\u001b[0;32m<ipython-input-9-4bbe5d2f0307>\u001b[0m in \u001b[0;36mcheck_sudoku\u001b[0;34m(puzzle)\u001b[0m\n\u001b[1;32m     10\u001b[0m         \u001b[0;32massert\u001b[0m \u001b[0mset\u001b[0m\u001b[0;34m(\u001b[0m\u001b[0mp\u001b[0m\u001b[0;34m[\u001b[0m\u001b[0mr\u001b[0m\u001b[0;34m,\u001b[0m\u001b[0;34m:\u001b[0m\u001b[0;34m]\u001b[0m\u001b[0;34m)\u001b[0m \u001b[0;34m==\u001b[0m \u001b[0mdigits\u001b[0m\u001b[0;34m,\u001b[0m \u001b[0;34m\"err: row %i\"\u001b[0m \u001b[0;34m%\u001b[0m \u001b[0mr\u001b[0m\u001b[0;34m\u001b[0m\u001b[0m\n\u001b[1;32m     11\u001b[0m     \u001b[0;32mfor\u001b[0m \u001b[0mc\u001b[0m \u001b[0;32min\u001b[0m \u001b[0mcols\u001b[0m\u001b[0;34m:\u001b[0m\u001b[0;34m\u001b[0m\u001b[0m\n\u001b[0;32m---> 12\u001b[0;31m         \u001b[0;32massert\u001b[0m \u001b[0mset\u001b[0m\u001b[0;34m(\u001b[0m\u001b[0mp\u001b[0m\u001b[0;34m[\u001b[0m\u001b[0;34m:\u001b[0m\u001b[0;34m,\u001b[0m\u001b[0mc\u001b[0m\u001b[0;34m]\u001b[0m\u001b[0;34m)\u001b[0m \u001b[0;34m==\u001b[0m \u001b[0mdigits\u001b[0m\u001b[0;34m,\u001b[0m \u001b[0;34m\"err: col %i\"\u001b[0m \u001b[0;34m%\u001b[0m \u001b[0mc\u001b[0m\u001b[0;34m\u001b[0m\u001b[0m\n\u001b[0m\u001b[1;32m     13\u001b[0m     \u001b[0;32mfor\u001b[0m \u001b[0msr\u001b[0m\u001b[0;34m,\u001b[0m \u001b[0msc\u001b[0m \u001b[0;32min\u001b[0m \u001b[0msquares\u001b[0m\u001b[0;34m:\u001b[0m\u001b[0;34m\u001b[0m\u001b[0m\n\u001b[1;32m     14\u001b[0m         \u001b[0;32massert\u001b[0m \u001b[0mset\u001b[0m\u001b[0;34m(\u001b[0m\u001b[0mp\u001b[0m\u001b[0;34m[\u001b[0m\u001b[0msr\u001b[0m\u001b[0;34m,\u001b[0m \u001b[0msc\u001b[0m\u001b[0;34m]\u001b[0m\u001b[0;34m.\u001b[0m\u001b[0mravel\u001b[0m\u001b[0;34m(\u001b[0m\u001b[0;34m)\u001b[0m\u001b[0;34m)\u001b[0m \u001b[0;34m==\u001b[0m \u001b[0mdigits\u001b[0m\u001b[0;34m,\u001b[0m \u001b[0;34m\"err: sqr %i %i\"\u001b[0m \u001b[0;34m%\u001b[0m \u001b[0;34m(\u001b[0m\u001b[0msr\u001b[0m\u001b[0;34m,\u001b[0m \u001b[0msc\u001b[0m\u001b[0;34m)\u001b[0m\u001b[0;34m\u001b[0m\u001b[0m\n",
      "\u001b[0;31mAssertionError\u001b[0m: err: col 0"
     ]
    }
   ],
   "source": [
    "# negative example\n",
    "p = ''.join(['123456789'] * 9)\n",
    "print(p)\n",
    "check_sudoku(p)"
   ]
  },
  {
   "cell_type": "code",
   "execution_count": 11,
   "metadata": {
    "collapsed": false
   },
   "outputs": [
    {
     "name": "stdout",
     "output_type": "stream",
     "text": [
      "\n"
     ]
    }
   ],
   "source": [
    "from tqdm import tqdm_notebook\n",
    "for i in tqdm_notebook(range(len(puzzles))):\n",
    "    check_sudoku(puzzles[i])"
   ]
  },
  {
   "cell_type": "markdown",
   "metadata": {},
   "source": [
    "## Data Processing"
   ]
  },
  {
   "cell_type": "markdown",
   "metadata": {},
   "source": [
    "### data augumentation"
   ]
  },
  {
   "cell_type": "code",
   "execution_count": 12,
   "metadata": {
    "collapsed": false
   },
   "outputs": [],
   "source": [
    "from tqdm import tqdm_notebook"
   ]
  },
  {
   "cell_type": "code",
   "execution_count": 13,
   "metadata": {
    "collapsed": false
   },
   "outputs": [
    {
     "name": "stdout",
     "output_type": "stream",
     "text": [
      "CPU times: user 1.41 s, sys: 24 ms, total: 1.43 s\n",
      "Wall time: 1.41 s\n"
     ]
    }
   ],
   "source": [
    "%%time\n",
    "def augument(puzzles):\n",
    "    augumented = [p for p in puzzles]\n",
    "#     augumented += [p[::-1] for p in puzzles]\n",
    "    for p in puzzles:\n",
    "        p = np.array(list(p)).reshape([9, 9])\n",
    "        augumented.append(''.join(np.fliplr(p).ravel()))\n",
    "        p = p.T\n",
    "        augumented.append(''.join(p.ravel()))\n",
    "        augumented.append(''.join(np.fliplr(p).ravel()))\n",
    "        p = p.T\n",
    "        augumented.append(''.join(p.ravel()))\n",
    "        augumented.append(''.join(np.fliplr(p).ravel()))\n",
    "        p = p.T\n",
    "        augumented.append(''.join(p.ravel()))\n",
    "        augumented.append(''.join(np.fliplr(p).ravel()))\n",
    "    return augumented\n",
    "\n",
    "puzzles = augument(puzzles)"
   ]
  },
  {
   "cell_type": "code",
   "execution_count": 14,
   "metadata": {
    "collapsed": false
   },
   "outputs": [
    {
     "name": "stdout",
     "output_type": "stream",
     "text": [
      "80000\n"
     ]
    }
   ],
   "source": [
    "print(len(puzzles))\n",
    "\n",
    "for p in puzzles:\n",
    "    check_sudoku(p)"
   ]
  },
  {
   "cell_type": "code",
   "execution_count": 15,
   "metadata": {
    "collapsed": false
   },
   "outputs": [],
   "source": [
    "symbol2index = dict(zip('123456789', range(9)))\n",
    "index2symbol = dict(zip(range(9), '123456789'))\n",
    "\n",
    "def puzzle2tensor(puzzle_batch):\n",
    "    batch_size = len(puzzle_batch)\n",
    "    seq_len = len(puzzle_batch[0])\n",
    "    t = torch.zeros([batch_size, seq_len, 9])\n",
    "    for r in range(batch_size):\n",
    "        for c in range(seq_len):\n",
    "            s = symbol2index[puzzle_batch[r][c]]\n",
    "            t[r, c, s] = 1\n",
    "    return t\n",
    "\n",
    "def puzzle2target(puzzle_batch):\n",
    "    batch_size = len(puzzle_batch)\n",
    "    seq_len = len(puzzle_batch[0])\n",
    "    t = torch.LongTensor(batch_size, seq_len).zero_()\n",
    "    for r in range(batch_size):\n",
    "        for c in range(seq_len):\n",
    "            s = symbol2index[puzzle_batch[r][c]]\n",
    "            t[r, c] = s\n",
    "    return t\n",
    "\n",
    "def tensor2puzzle(tensors):\n",
    "    \"\"\"tensors.size() == [batch_size, seq, 9]\n",
    "    \"\"\"\n",
    "    _, p = tensors.max(dim=2)\n",
    "    p = p.squeeze().numpy()\n",
    "    puzzles = []\n",
    "    for r in p:\n",
    "        puzzles.append(''.join([index2symbol.get(s) for s in r]))\n",
    "    return puzzles\n",
    "\n",
    "def output2puzzle(y):\n",
    "    \"\"\"y.size() == [batch_size, 9]\n",
    "    \"\"\"\n",
    "    _, labels = y.max(dim=1)\n",
    "    return labels.numpy().squeeze() + 1"
   ]
  },
  {
   "cell_type": "code",
   "execution_count": 16,
   "metadata": {
    "collapsed": false
   },
   "outputs": [
    {
     "name": "stdout",
     "output_type": "stream",
     "text": [
      "torch.Size([2, 5, 9])\n",
      "['12345', '12345']\n"
     ]
    }
   ],
   "source": [
    "## test\n",
    "t = puzzle2tensor([p[:5] for p in puzzles[:2]])\n",
    "p = tensor2puzzle(t)\n",
    "print(t.size())\n",
    "print(p)"
   ]
  },
  {
   "cell_type": "code",
   "execution_count": 17,
   "metadata": {
    "collapsed": false
   },
   "outputs": [
    {
     "data": {
      "text/plain": [
       "\n",
       " 0  1  2  3  4\n",
       " 0  1  2  3  4\n",
       "[torch.LongTensor of size 2x5]"
      ]
     },
     "execution_count": 17,
     "metadata": {},
     "output_type": "execute_result"
    }
   ],
   "source": [
    "## test\n",
    "puzzle2target([p[:5] for p in puzzles[:2]])"
   ]
  },
  {
   "cell_type": "markdown",
   "metadata": {},
   "source": [
    "## Models - reinforcement learning"
   ]
  },
  {
   "cell_type": "markdown",
   "metadata": {
    "collapsed": true
   },
   "source": [
    "### build a sudoku env following openai"
   ]
  },
  {
   "cell_type": "code",
   "execution_count": 170,
   "metadata": {
    "collapsed": true
   },
   "outputs": [],
   "source": [
    "class Sudoku(object):\n",
    "    \n",
    "    def __init__(self):\n",
    "        self.state = None\n",
    "        \n",
    "    def reset(self):\n",
    "        \"\"\"return observation\"\"\"\n",
    "        self.state = []\n",
    "        obs = self.state\n",
    "        return obs\n",
    "    \n",
    "    def step(self, action):\n",
    "        \"\"\"action: '123456789'\n",
    "        return [obs, reward, done, info]\"\"\"\n",
    "        self.state.append(action)\n",
    "        obs = self.state\n",
    "        reward = 1\n",
    "        done, info = self.is_valid(self.state)\n",
    "        return [obs, reward, done, info]\n",
    "    \n",
    "    def is_valid(self, puzzle):\n",
    "        \"\"\"puzzle: an array of digits.\n",
    "        Check if a partial puzzle is valid\n",
    "        \"\"\"\n",
    "        nrows = int(np.ceil(len(puzzle)/9))\n",
    "        for r in range(0, nrows):\n",
    "            row = puzzle[r*9:(r+1)*9]\n",
    "            if len(row) != len(set(row)):\n",
    "                return False, \"row violation\"\n",
    "        for c in range(0, 9):\n",
    "            col = puzzle[c:c+9*9:9]\n",
    "            if len(col) != len(set(col)):\n",
    "                return False, \"col violation\"\n",
    "        strides = [list(range(0, 3)), list(range(3, 6)), list(range(6, 9))]\n",
    "        squares = [(r, c) for r in strides for c in strides]\n",
    "        for sqr, sqc in squares:\n",
    "            sqi = [r*9+c for r in sqr for c in sqc]\n",
    "            print(sqi)\n",
    "            square = [puzzle[i] for i in sqi if i < len(puzzle)]\n",
    "            print(square)\n",
    "        return True, \"valid\""
   ]
  },
  {
   "cell_type": "code",
   "execution_count": 171,
   "metadata": {
    "collapsed": false
   },
   "outputs": [
    {
     "name": "stdout",
     "output_type": "stream",
     "text": [
      "[0, 1, 2, 9, 10, 11, 18, 19, 20]\n",
      "['1']\n",
      "[3, 4, 5, 12, 13, 14, 21, 22, 23]\n",
      "[]\n",
      "[6, 7, 8, 15, 16, 17, 24, 25, 26]\n",
      "[]\n",
      "[27, 28, 29, 36, 37, 38, 45, 46, 47]\n",
      "[]\n",
      "[30, 31, 32, 39, 40, 41, 48, 49, 50]\n",
      "[]\n",
      "[33, 34, 35, 42, 43, 44, 51, 52, 53]\n",
      "[]\n",
      "[54, 55, 56, 63, 64, 65, 72, 73, 74]\n",
      "[]\n",
      "[57, 58, 59, 66, 67, 68, 75, 76, 77]\n",
      "[]\n",
      "[60, 61, 62, 69, 70, 71, 78, 79, 80]\n",
      "[]\n"
     ]
    },
    {
     "data": {
      "text/plain": [
       "[['1'], 1, True, 'valid']"
      ]
     },
     "execution_count": 171,
     "metadata": {},
     "output_type": "execute_result"
    }
   ],
   "source": [
    "env = Sudoku()\n",
    "env.reset()\n",
    "env.step('1')"
   ]
  },
  {
   "cell_type": "code",
   "execution_count": 172,
   "metadata": {
    "collapsed": false
   },
   "outputs": [
    {
     "name": "stdout",
     "output_type": "stream",
     "text": [
      "[0, 1, 2, 9, 10, 11, 18, 19, 20]\n",
      "['1', '2', '3', '5', '7', '8', '4', '9', '6']\n",
      "[3, 4, 5, 12, 13, 14, 21, 22, 23]\n",
      "['4', '5', '6', '1', '3', '9', '8', '7', '2']\n",
      "[6, 7, 8, 15, 16, 17, 24, 25, 26]\n",
      "['7', '8', '9', '6', '2', '4', '1', '5', '3']\n",
      "[27, 28, 29, 36, 37, 38, 45, 46, 47]\n",
      "['9', '5', '2', '6', '4', '1', '3', '8', '7']\n",
      "[30, 31, 32, 39, 40, 41, 48, 49, 50]\n",
      "['3', '8', '1', '2', '9', '7', '5', '6', '4']\n",
      "[33, 34, 35, 42, 43, 44, 51, 52, 53]\n",
      "['4', '6', '7', '8', '3', '5', '2', '9', '1']\n",
      "[54, 55, 56, 63, 64, 65, 72, 73, 74]\n",
      "['7', '1', '9', '8', '6', '4', '2', '3', '5']\n",
      "[57, 58, 59, 66, 67, 68, 75, 76, 77]\n",
      "['6', '2', '3', '9', '1', '5', '7', '4', '8']\n",
      "[60, 61, 62, 69, 70, 71, 78, 79, 80]\n",
      "['5', '4', '8', '3', '7', '2', '9', '1', '6']\n"
     ]
    },
    {
     "data": {
      "text/plain": [
       "(True, 'valid')"
      ]
     },
     "execution_count": 172,
     "metadata": {},
     "output_type": "execute_result"
    }
   ],
   "source": [
    "puzzle = list(\"123456789987654321\")\n",
    "puzzle = puzzles[0]\n",
    "env.is_valid(puzzle)"
   ]
  },
  {
   "cell_type": "code",
   "execution_count": 159,
   "metadata": {
    "collapsed": true
   },
   "outputs": [],
   "source": [
    "strides = [list(range(0, 3)), list(range(3, 6)), list(range(6, 9))]\n",
    "squares = [(r, c) for r in strides for c in strides]"
   ]
  },
  {
   "cell_type": "code",
   "execution_count": 160,
   "metadata": {
    "collapsed": false
   },
   "outputs": [
    {
     "data": {
      "text/plain": [
       "[([0, 1, 2], [0, 1, 2]),\n",
       " ([0, 1, 2], [3, 4, 5]),\n",
       " ([0, 1, 2], [6, 7, 8]),\n",
       " ([3, 4, 5], [0, 1, 2]),\n",
       " ([3, 4, 5], [3, 4, 5]),\n",
       " ([3, 4, 5], [6, 7, 8]),\n",
       " ([6, 7, 8], [0, 1, 2]),\n",
       " ([6, 7, 8], [3, 4, 5]),\n",
       " ([6, 7, 8], [6, 7, 8])]"
      ]
     },
     "execution_count": 160,
     "metadata": {},
     "output_type": "execute_result"
    }
   ],
   "source": [
    "squares"
   ]
  },
  {
   "cell_type": "code",
   "execution_count": null,
   "metadata": {
    "collapsed": true
   },
   "outputs": [],
   "source": []
  }
 ],
 "metadata": {
  "kernelspec": {
   "display_name": "Python 3",
   "language": "python",
   "name": "python3"
  },
  "language_info": {
   "codemirror_mode": {
    "name": "ipython",
    "version": 3
   },
   "file_extension": ".py",
   "mimetype": "text/x-python",
   "name": "python",
   "nbconvert_exporter": "python",
   "pygments_lexer": "ipython3",
   "version": "3.6.0"
  },
  "widgets": {
   "state": {
    "e567986edef04f4f85e76a3f0707a63f": {
     "views": [
      {
       "cell_index": 9
      }
     ]
    }
   },
   "version": "1.2.0"
  }
 },
 "nbformat": 4,
 "nbformat_minor": 2
}
