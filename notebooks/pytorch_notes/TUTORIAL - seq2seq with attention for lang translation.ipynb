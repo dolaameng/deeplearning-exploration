{
 "cells": [
  {
   "cell_type": "markdown",
   "metadata": {},
   "source": [
    "# seq2seq model with attention for language translation or chatbot?\n",
    "\n",
    "## some resources\n",
    "- [online tutorial](https://github.com/spro/practical-pytorch/blob/master/seq2seq-translation/seq2seq-translation-batched.ipynb) and [code](https://github.com/spro/practical-pytorch/tree/master/seq2seq-translation) from practical pytorch\n",
    "- MaximumEntropy [seq2seq-pytorch](https://github.com/MaximumEntropy/Seq2Seq-PyTorch)\n",
    "- IBM [pytorch seq2seq](https://github.com/IBM/pytorch-seq2seq)\n",
    "- [seq2seq.pytorch](https://github.com/eladhoffer/seq2seq.pytorch)\n",
    "- [seq2seq with tensorflow tutorials](https://github.com/ematvey/tensorflow-seq2seq-tutorials)\n",
    "- [seq2seq neural machine translation tutorial](https://github.com/tensorflow/nmt)\n",
    "- [chatbot based on seq2seq antilm](https://github.com/Marsan-Ma/tf_chatbot_seq2seq_antilm)\n",
    "- [practical seq2seq for chatbot](http://suriyadeepan.github.io/2016-12-31-practical-seq2seq/)\n",
    "\n",
    "## datasets\n",
    "- [Tab-delimited Bilingual Sentence Pairs](http://www.manythings.org/anki/)\n",
    "- [chat corpus](https://github.com/Marsan-Ma/chat_corpus)"
   ]
  },
  {
   "cell_type": "code",
   "execution_count": null,
   "metadata": {
    "collapsed": true
   },
   "outputs": [],
   "source": []
  }
 ],
 "metadata": {
  "kernelspec": {
   "display_name": "Python 3",
   "language": "python",
   "name": "python3"
  },
  "language_info": {
   "codemirror_mode": {
    "name": "ipython",
    "version": 3
   },
   "file_extension": ".py",
   "mimetype": "text/x-python",
   "name": "python",
   "nbconvert_exporter": "python",
   "pygments_lexer": "ipython3",
   "version": "3.6.1"
  }
 },
 "nbformat": 4,
 "nbformat_minor": 2
}
