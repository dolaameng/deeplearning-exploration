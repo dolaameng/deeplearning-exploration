{
 "cells": [
  {
   "cell_type": "markdown",
   "metadata": {},
   "source": [
    "# Some notes taken for studying pytorch\n",
    "\n",
    "## What:\n",
    "It covers common patterns found in most deep learning libraries"
   ]
  },
  {
   "cell_type": "markdown",
   "metadata": {},
   "source": [
    "## What are the building blocks in pytorch\n",
    "- **Tensors**: equavilents of np.array, directly working with many operations provided in `torch` module\n",
    "- **Variables**: think wrappers of Tensors - most layers in `nn` module would expect a Variable input than a Tensor. Compared to raw tensors, Variables remember the dependencies among them, and thus can do the autograd.\n",
    "- **Operations**: `torch` module provides low level operations (most of them are applicable to tensors and variables). `nn` module provides high level layers (simliar to `tf.contrib.layers`), and most of them expects \"Variables\" than \"Tensors\".\n",
    "- **Layers**: layers in `nn` function are functors (function objects with states). It expects a Variable input and returns a Variable output.\n",
    "- **Models**: Models (derived from `nn.Module`) are essentially layers? Most importantly, it must implement `forward` and `backward` (auto implemented) methods for the bidirectional computation. Use `parameters()` to get all its parameters and `children()` to get all its layers/submodels. \n",
    "- **Sequential**: a container of different layers into a submodel. it is a container to help organize linearly stacked layers.\n",
    "- **loss function**: it is just another variable with dependencies on all other variables. `loss.backward()` is usually the start of back-propagation.\n",
    "- **optimizer**: the optimizer in pytorch is quite lightwight compared to other frameworks. It takes a list of parameters (usually from a call to `model.parameters()`) and do all the house-keeping - `zerograd()`, `step()` (do backward for each param one by one and update them) and etc.\n",
    "- **dataset**: a dataset (`torchvision.datasets`) is conceptually a list (with `__getitem__()` and `__len__()` implementation. It is usually used preprocessing transforms (a pipe of multipe steps) and wrapped in a data loader.\n",
    "- **dataloader** (`torch.utils.data.DataLoader`) is the \"batch generator\" with multiple thread support. It has an iterator interface, which can be directly used in a loop or with `iterator()`.\n",
    "\n",
    "\n",
    "## How to use regularization\n",
    "\n",
    "## How to use weights initialization\n",
    "\n",
    "## How to use batch normalization\n",
    "- nn.BatchNorm2d takes dim (# of neurons) as input\n",
    "- Use `model.eval()` to switch to eval mode (so BN will use recorded moving mean/variance).  \n",
    "- Batchnorm usually used before nonlinear activation\n",
    "\n",
    "## How to group layers into blocks (e.g., for resnet)\n",
    "- Use `Sequential` to group layers into blocks\n",
    "\n",
    "## How to calculate image size in cnn with padding and kernel_size, and how to use the correct padding to implement “SAME” mode\n",
    "- new_image_size = image_size + padding * 2 - kernel_size + 1.\n",
    "- So to achieve “SAME” mode, choose a odd number as kernel_size, use padding = (kernel_size-1) // 2\n",
    "\n",
    "## How to change “training/evaluation” mode of a model (e.g., for batch normalisation, or dropout)\n",
    "- Under the hood, the status is kept as the boolean indicator of model in `training`, it can be switched by `model.train(True/False)`, and `model.eval()==model.train(False)`\n",
    "\n",
    "## How to freeze certain variables (or parameters). Two ways to specify a “trainable” parameter\n",
    "- passing a list of variables that you want to optimize (e.g., model.parameters()) to the constructor of the optimiser - you can choose to pass the input variables into optimiser as well in some case (e.g., deep dreams)\n",
    "- An optimiser will only update variables that are explicitly passed to its constructors, and with `requires_grad` member = True. So turn off `requires_grad` will prevent optimiser to update a variable."
   ]
  },
  {
   "cell_type": "code",
   "execution_count": null,
   "metadata": {
    "collapsed": true
   },
   "outputs": [],
   "source": []
  }
 ],
 "metadata": {
  "kernelspec": {
   "display_name": "Python 3",
   "language": "python",
   "name": "python3"
  },
  "language_info": {
   "codemirror_mode": {
    "name": "ipython",
    "version": 3
   },
   "file_extension": ".py",
   "mimetype": "text/x-python",
   "name": "python",
   "nbconvert_exporter": "python",
   "pygments_lexer": "ipython3",
   "version": "3.6.0"
  }
 },
 "nbformat": 4,
 "nbformat_minor": 2
}
