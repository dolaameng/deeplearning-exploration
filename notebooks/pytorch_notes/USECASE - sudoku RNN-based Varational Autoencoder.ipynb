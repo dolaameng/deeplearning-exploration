{
 "cells": [
  {
   "cell_type": "markdown",
   "metadata": {},
   "source": [
    "# Varational autoencoder by RNN for sudoku sequence generation\n",
    "\n",
    "## dataset \n",
    "- [10,000 solved sudoku](http://www.printable-sudoku-puzzles.com/wfiles/)"
   ]
  },
  {
   "cell_type": "markdown",
   "metadata": {},
   "source": [
    "## Load sudoku training data"
   ]
  },
  {
   "cell_type": "code",
   "execution_count": 152,
   "metadata": {
    "collapsed": true
   },
   "outputs": [],
   "source": [
    "import numpy as np\n",
    "from glob import glob\n",
    "\n",
    "import torch\n",
    "from torch.autograd import Variable\n",
    "from torch import nn, optim\n",
    "from torch.utils.data import Dataset, DataLoader"
   ]
  },
  {
   "cell_type": "code",
   "execution_count": 153,
   "metadata": {
    "collapsed": false
   },
   "outputs": [
    {
     "data": {
      "text/plain": [
       "10000"
      ]
     },
     "execution_count": 153,
     "metadata": {},
     "output_type": "execute_result"
    }
   ],
   "source": [
    "\n",
    "puzzles = sum([open(f).readlines() \n",
    "               for f in glob(\"123456789.txt\")], [])\n",
    "puzzles = [p.strip() for p in puzzles if len(p.strip())==81]\n",
    "len(puzzles)"
   ]
  },
  {
   "cell_type": "code",
   "execution_count": 154,
   "metadata": {
    "collapsed": false
   },
   "outputs": [
    {
     "data": {
      "text/plain": [
       "'123456789578139624496872153952381467641297835387564291719623548864915372235748916'"
      ]
     },
     "execution_count": 154,
     "metadata": {},
     "output_type": "execute_result"
    }
   ],
   "source": [
    "puzzles[0]"
   ]
  },
  {
   "cell_type": "markdown",
   "metadata": {},
   "source": [
    "### check they are valid sudoku"
   ]
  },
  {
   "cell_type": "code",
   "execution_count": 155,
   "metadata": {
    "collapsed": false
   },
   "outputs": [],
   "source": [
    "def check_sudoku(puzzle):\n",
    "    assert len(puzzle) == 81\n",
    "    p = np.array(list(puzzle)).reshape(9, 9)\n",
    "    rows = range(9)\n",
    "    cols = range(9)\n",
    "    digits = set('123456789')\n",
    "    strides = [slice(0, 3), slice(3, 6), slice(6, 9)]\n",
    "    squares = [(r, c) for r in strides for c in strides]\n",
    "    for r in rows:\n",
    "        assert set(p[r,:]) == digits, \"err: row %i\" % r\n",
    "    for c in cols:\n",
    "        assert set(p[:,c]) == digits, \"err: col %i\" % c\n",
    "    for sr, sc in squares:\n",
    "        assert set(p[sr, sc].ravel()) == digits, \"err: sqr %i %i\" % (sr, sc)"
   ]
  },
  {
   "cell_type": "code",
   "execution_count": 156,
   "metadata": {
    "collapsed": false
   },
   "outputs": [
    {
     "name": "stdout",
     "output_type": "stream",
     "text": [
      "123456789123456789123456789123456789123456789123456789123456789123456789123456789\n"
     ]
    },
    {
     "ename": "AssertionError",
     "evalue": "err: col 0",
     "output_type": "error",
     "traceback": [
      "\u001b[0;31m---------------------------------------------------------------------------\u001b[0m",
      "\u001b[0;31mAssertionError\u001b[0m                            Traceback (most recent call last)",
      "\u001b[0;32m<ipython-input-156-ecb38c9e82d5>\u001b[0m in \u001b[0;36m<module>\u001b[0;34m()\u001b[0m\n\u001b[1;32m      2\u001b[0m \u001b[0mp\u001b[0m \u001b[0;34m=\u001b[0m \u001b[0;34m''\u001b[0m\u001b[0;34m.\u001b[0m\u001b[0mjoin\u001b[0m\u001b[0;34m(\u001b[0m\u001b[0;34m[\u001b[0m\u001b[0;34m'123456789'\u001b[0m\u001b[0;34m]\u001b[0m \u001b[0;34m*\u001b[0m \u001b[0;36m9\u001b[0m\u001b[0;34m)\u001b[0m\u001b[0;34m\u001b[0m\u001b[0m\n\u001b[1;32m      3\u001b[0m \u001b[0mprint\u001b[0m\u001b[0;34m(\u001b[0m\u001b[0mp\u001b[0m\u001b[0;34m)\u001b[0m\u001b[0;34m\u001b[0m\u001b[0m\n\u001b[0;32m----> 4\u001b[0;31m \u001b[0mcheck_sudoku\u001b[0m\u001b[0;34m(\u001b[0m\u001b[0mp\u001b[0m\u001b[0;34m)\u001b[0m\u001b[0;34m\u001b[0m\u001b[0m\n\u001b[0m",
      "\u001b[0;32m<ipython-input-155-4bbe5d2f0307>\u001b[0m in \u001b[0;36mcheck_sudoku\u001b[0;34m(puzzle)\u001b[0m\n\u001b[1;32m     10\u001b[0m         \u001b[0;32massert\u001b[0m \u001b[0mset\u001b[0m\u001b[0;34m(\u001b[0m\u001b[0mp\u001b[0m\u001b[0;34m[\u001b[0m\u001b[0mr\u001b[0m\u001b[0;34m,\u001b[0m\u001b[0;34m:\u001b[0m\u001b[0;34m]\u001b[0m\u001b[0;34m)\u001b[0m \u001b[0;34m==\u001b[0m \u001b[0mdigits\u001b[0m\u001b[0;34m,\u001b[0m \u001b[0;34m\"err: row %i\"\u001b[0m \u001b[0;34m%\u001b[0m \u001b[0mr\u001b[0m\u001b[0;34m\u001b[0m\u001b[0m\n\u001b[1;32m     11\u001b[0m     \u001b[0;32mfor\u001b[0m \u001b[0mc\u001b[0m \u001b[0;32min\u001b[0m \u001b[0mcols\u001b[0m\u001b[0;34m:\u001b[0m\u001b[0;34m\u001b[0m\u001b[0m\n\u001b[0;32m---> 12\u001b[0;31m         \u001b[0;32massert\u001b[0m \u001b[0mset\u001b[0m\u001b[0;34m(\u001b[0m\u001b[0mp\u001b[0m\u001b[0;34m[\u001b[0m\u001b[0;34m:\u001b[0m\u001b[0;34m,\u001b[0m\u001b[0mc\u001b[0m\u001b[0;34m]\u001b[0m\u001b[0;34m)\u001b[0m \u001b[0;34m==\u001b[0m \u001b[0mdigits\u001b[0m\u001b[0;34m,\u001b[0m \u001b[0;34m\"err: col %i\"\u001b[0m \u001b[0;34m%\u001b[0m \u001b[0mc\u001b[0m\u001b[0;34m\u001b[0m\u001b[0m\n\u001b[0m\u001b[1;32m     13\u001b[0m     \u001b[0;32mfor\u001b[0m \u001b[0msr\u001b[0m\u001b[0;34m,\u001b[0m \u001b[0msc\u001b[0m \u001b[0;32min\u001b[0m \u001b[0msquares\u001b[0m\u001b[0;34m:\u001b[0m\u001b[0;34m\u001b[0m\u001b[0m\n\u001b[1;32m     14\u001b[0m         \u001b[0;32massert\u001b[0m \u001b[0mset\u001b[0m\u001b[0;34m(\u001b[0m\u001b[0mp\u001b[0m\u001b[0;34m[\u001b[0m\u001b[0msr\u001b[0m\u001b[0;34m,\u001b[0m \u001b[0msc\u001b[0m\u001b[0;34m]\u001b[0m\u001b[0;34m.\u001b[0m\u001b[0mravel\u001b[0m\u001b[0;34m(\u001b[0m\u001b[0;34m)\u001b[0m\u001b[0;34m)\u001b[0m \u001b[0;34m==\u001b[0m \u001b[0mdigits\u001b[0m\u001b[0;34m,\u001b[0m \u001b[0;34m\"err: sqr %i %i\"\u001b[0m \u001b[0;34m%\u001b[0m \u001b[0;34m(\u001b[0m\u001b[0msr\u001b[0m\u001b[0;34m,\u001b[0m \u001b[0msc\u001b[0m\u001b[0;34m)\u001b[0m\u001b[0;34m\u001b[0m\u001b[0m\n",
      "\u001b[0;31mAssertionError\u001b[0m: err: col 0"
     ]
    }
   ],
   "source": [
    "# negative example\n",
    "p = ''.join(['123456789'] * 9)\n",
    "print(p)\n",
    "check_sudoku(p)"
   ]
  },
  {
   "cell_type": "code",
   "execution_count": 157,
   "metadata": {
    "collapsed": false
   },
   "outputs": [],
   "source": [
    "for p in puzzles:\n",
    "    check_sudoku(p)"
   ]
  },
  {
   "cell_type": "markdown",
   "metadata": {},
   "source": [
    "## Data Processing"
   ]
  },
  {
   "cell_type": "markdown",
   "metadata": {},
   "source": [
    "### data augumentation"
   ]
  },
  {
   "cell_type": "code",
   "execution_count": 158,
   "metadata": {
    "collapsed": false
   },
   "outputs": [],
   "source": [
    "from tqdm import tqdm_notebook"
   ]
  },
  {
   "cell_type": "code",
   "execution_count": 159,
   "metadata": {
    "collapsed": false
   },
   "outputs": [
    {
     "name": "stdout",
     "output_type": "stream",
     "text": [
      "CPU times: user 1.41 s, sys: 104 ms, total: 1.52 s\n",
      "Wall time: 1.44 s\n"
     ]
    }
   ],
   "source": [
    "%%time\n",
    "def augument(puzzles):\n",
    "    augumented = [p for p in puzzles]\n",
    "#     augumented += [p[::-1] for p in puzzles]\n",
    "    for p in puzzles:\n",
    "        p = np.array(list(p)).reshape([9, 9])\n",
    "        augumented.append(''.join(np.fliplr(p).ravel()))\n",
    "        p = p.T\n",
    "        augumented.append(''.join(p.ravel()))\n",
    "        augumented.append(''.join(np.fliplr(p).ravel()))\n",
    "        p = p.T\n",
    "        augumented.append(''.join(p.ravel()))\n",
    "        augumented.append(''.join(np.fliplr(p).ravel()))\n",
    "        p = p.T\n",
    "        augumented.append(''.join(p.ravel()))\n",
    "        augumented.append(''.join(np.fliplr(p).ravel()))\n",
    "    return augumented\n",
    "\n",
    "puzzles = augument(puzzles)"
   ]
  },
  {
   "cell_type": "code",
   "execution_count": 160,
   "metadata": {
    "collapsed": false
   },
   "outputs": [
    {
     "name": "stdout",
     "output_type": "stream",
     "text": [
      "80000\n"
     ]
    }
   ],
   "source": [
    "print(len(puzzles))\n",
    "\n",
    "for p in puzzles:\n",
    "    check_sudoku(p)"
   ]
  },
  {
   "cell_type": "code",
   "execution_count": 161,
   "metadata": {
    "collapsed": false
   },
   "outputs": [],
   "source": [
    "symbol2index = dict(zip('123456789', range(9)))\n",
    "index2symbol = dict(zip(range(9), '123456789'))\n",
    "\n",
    "def puzzle2tensor(puzzle_batch):\n",
    "    batch_size = len(puzzle_batch)\n",
    "    seq_len = len(puzzle_batch[0])\n",
    "    t = torch.zeros([batch_size, seq_len, 9])\n",
    "    for r in range(batch_size):\n",
    "        for c in range(seq_len):\n",
    "            s = symbol2index[puzzle_batch[r][c]]\n",
    "            t[r, c, s] = 1\n",
    "    return t\n",
    "\n",
    "def puzzle2target(puzzle_batch):\n",
    "    batch_size = len(puzzle_batch)\n",
    "    seq_len = len(puzzle_batch[0])\n",
    "    t = torch.LongTensor(batch_size, seq_len).zero_()\n",
    "    for r in range(batch_size):\n",
    "        for c in range(seq_len):\n",
    "            s = symbol2index[puzzle_batch[r][c]]\n",
    "            t[r, c] = s\n",
    "    return t\n",
    "\n",
    "def tensor2puzzle(tensors):\n",
    "    \"\"\"tensors.size() == [batch_size, seq, 9]\n",
    "    \"\"\"\n",
    "    _, p = tensors.max(dim=2)\n",
    "    p = p.squeeze().numpy()\n",
    "    puzzles = []\n",
    "    for r in p:\n",
    "        puzzles.append(''.join([index2symbol.get(s) for s in r]))\n",
    "    return puzzles\n",
    "\n",
    "def output2puzzle(y):\n",
    "    \"\"\"y.size() == [batch_size, 9]\n",
    "    \"\"\"\n",
    "    _, labels = y.max(dim=1)\n",
    "    return labels.numpy().squeeze() + 1"
   ]
  },
  {
   "cell_type": "code",
   "execution_count": 162,
   "metadata": {
    "collapsed": false
   },
   "outputs": [
    {
     "name": "stdout",
     "output_type": "stream",
     "text": [
      "torch.Size([2, 5, 9])\n",
      "['12345', '12345']\n"
     ]
    }
   ],
   "source": [
    "## test\n",
    "t = puzzle2tensor([p[:5] for p in puzzles[:2]])\n",
    "p = tensor2puzzle(t)\n",
    "print(t.size())\n",
    "print(p)"
   ]
  },
  {
   "cell_type": "code",
   "execution_count": 163,
   "metadata": {
    "collapsed": false
   },
   "outputs": [
    {
     "data": {
      "text/plain": [
       "\n",
       " 0  1  2  3  4\n",
       " 0  1  2  3  4\n",
       "[torch.LongTensor of size 2x5]"
      ]
     },
     "execution_count": 163,
     "metadata": {},
     "output_type": "execute_result"
    }
   ],
   "source": [
    "## test\n",
    "puzzle2target([p[:5] for p in puzzles[:2]])"
   ]
  },
  {
   "cell_type": "markdown",
   "metadata": {},
   "source": [
    "## Models - seq prediction "
   ]
  },
  {
   "cell_type": "code",
   "execution_count": 164,
   "metadata": {
    "collapsed": false
   },
   "outputs": [],
   "source": [
    "class RnnVA(nn.Module):\n",
    "    \"\"\"RNN based Variational Autoencoder\n",
    "    \"\"\"\n",
    "    def __init__(self):\n",
    "        super(RnnVA, self).__init__()\n",
    "        self.input_size = 9\n",
    "        self.seq_len = 81\n",
    "        self.encoder_rnn_num_layers = 2\n",
    "        self.encoder_rnn_hidden_size = 128\n",
    "        self.encoder_fc1_hidden_size = 256\n",
    "        self.va_size = 256\n",
    "        self.decoder_fc1_hidden_size = 256\n",
    "        self.decoder_rnn_num_layers = 1\n",
    "        self.decoder_rnn_hidden_size = 128\n",
    "        self.output_size = 9\n",
    "        \n",
    "        self.encoder_rnn = nn.GRU(input_size=self.input_size,\n",
    "                                  hidden_size=self.encoder_rnn_hidden_size,\n",
    "                                  num_layers=self.encoder_rnn_num_layers,\n",
    "                                  batch_first=True,\n",
    "                                  bidirectional=False)\n",
    "        self.encoder_fc1 = nn.Linear(self.encoder_rnn_hidden_size,\n",
    "                                    self.encoder_fc1_hidden_size)\n",
    "        self.elu = nn.ELU()\n",
    "        self.va_mean = nn.Linear(self.encoder_fc1_hidden_size, self.va_size)\n",
    "        self.va_gamma = nn.Linear(self.encoder_fc1_hidden_size, self.va_size)\n",
    "        self.decoder_fc1 = nn.Linear(self.va_size, self.decoder_fc1_hidden_size)\n",
    "        self.decoder_rnn = nn.GRU(input_size=self.decoder_fc1_hidden_size,\n",
    "                                 hidden_size=self.decoder_rnn_hidden_size,\n",
    "                                 num_layers=self.decoder_rnn_num_layers,\n",
    "                                 batch_first=True,\n",
    "                                 bidirectional=False)\n",
    "        self.decoder_classifier = nn.Linear(self.decoder_rnn_hidden_size,\n",
    "                                            self.output_size)\n",
    "        self.sigmoid = nn.Sigmoid()\n",
    "    def forward(self, x):\n",
    "        batch_size = x.size(0)\n",
    "        seq_len = x.size(1)\n",
    "        encode_h0 = Variable(torch.zeros([self.encoder_rnn_num_layers,\n",
    "                                   batch_size,\n",
    "                                   self.encoder_rnn_hidden_size])).cuda()\n",
    "        out, h = self.encoder_rnn(x, encode_h0)\n",
    "        out = out.contiguous().view([-1, self.encoder_rnn_hidden_size])\n",
    "        out = self.elu(self.encoder_fc1(out))\n",
    "        self.mean = self.va_mean(out)\n",
    "        self.gamma = self.va_gamma(out)\n",
    "        self.sigma = torch.exp(self.gamma * .5)\n",
    "        noise = Variable(torch.randn(self.sigma.size())).cuda()\n",
    "        h = self.mean + self.sigma * noise\n",
    "        out = self.elu(self.decoder_fc1(h))\n",
    "        out = out.view([batch_size, seq_len, -1])\n",
    "        decode_h0 = Variable(torch.zeros([self.decoder_rnn_num_layers,\n",
    "                                   batch_size,\n",
    "                                   self.decoder_rnn_hidden_size])).cuda()\n",
    "        out, h = self.decoder_rnn(out, decode_h0)\n",
    "        out = out.contiguous().view([-1, self.decoder_rnn_hidden_size])\n",
    "        logits = self.decoder_classifier(out)\n",
    "        probs = self.sigmoid(logits)\n",
    "        probs = probs.view([batch_size, seq_len, -1])\n",
    "        return probs\n",
    "    def generate(self, batch_size): \n",
    "        seq_len = 81\n",
    "        h = Variable(torch.randn([batch_size * seq_len, self.va_size])).cuda()\n",
    "        out = self.elu(self.decoder_fc1(h))\n",
    "        out = out.view([batch_size, seq_len, -1])\n",
    "        decode_h0 = Variable(torch.zeros([self.decoder_rnn_num_layers,\n",
    "                                   batch_size,\n",
    "                                   self.decoder_rnn_hidden_size])).cuda()\n",
    "        out, h = self.decoder_rnn(out, decode_h0)\n",
    "        out = out.contiguous().view([-1, self.decoder_rnn_hidden_size])\n",
    "        logits = self.decoder_classifier(out)\n",
    "        probs = self.sigmoid(logits)\n",
    "        probs = probs.view([batch_size, seq_len, -1])\n",
    "        return probs"
   ]
  },
  {
   "cell_type": "code",
   "execution_count": 165,
   "metadata": {
    "collapsed": false
   },
   "outputs": [
    {
     "data": {
      "text/plain": [
       "(torch.Size([32, 81, 9]), torch.Size([2592, 256]), torch.Size([2592, 256]))"
      ]
     },
     "execution_count": 165,
     "metadata": {},
     "output_type": "execute_result"
    }
   ],
   "source": [
    "model = RnnVA().cuda()\n",
    "x = Variable(torch.zeros([32, 81, 9])).cuda()\n",
    "y = model(x)\n",
    "y.size(), model.mean.size(), model.gamma.size()"
   ]
  },
  {
   "cell_type": "code",
   "execution_count": 166,
   "metadata": {
    "collapsed": false
   },
   "outputs": [
    {
     "name": "stdout",
     "output_type": "stream",
     "text": [
      "torch.Size([10, 81, 9])\n"
     ]
    },
    {
     "data": {
      "text/plain": [
       "['777777772224444777777777777444666666667777744667777744774444444772777774447466477',\n",
       " '777227744644877777777444466666642276664363337777776644444777647733377722246447777',\n",
       " '777777766666623427747727777777444444474444774477777744444333366666644477771444466',\n",
       " '477446644422777777747444444777777777766677777777444444777747777477777744447767766',\n",
       " '766667772222666622272268782444474774444444677774444777766667444447777744448844144',\n",
       " '477772277444444444444446644668464677783747777444777777473776667777777777777776444',\n",
       " '447274444444447777777774444444444777276666277766667447444466742922244447777777666',\n",
       " '777444444444444444477444444488984444444444464446666624767777777777726666677666664',\n",
       " '777777774277762477444477777777777477444444447444444477777444444444432284444744444',\n",
       " '777774444444444444444426644477744444444437776444777777477777777777744444444444444']"
      ]
     },
     "execution_count": 166,
     "metadata": {},
     "output_type": "execute_result"
    }
   ],
   "source": [
    "model.eval()\n",
    "generated = model.generate(10)\n",
    "print(generated.size())\n",
    "tensor2puzzle(generated.cpu().data)"
   ]
  },
  {
   "cell_type": "markdown",
   "metadata": {},
   "source": [
    "## Data Preparation"
   ]
  },
  {
   "cell_type": "code",
   "execution_count": 167,
   "metadata": {
    "collapsed": true
   },
   "outputs": [],
   "source": [
    "class SudokuDataSet(Dataset):\n",
    "    def __init__(self, puzzles):\n",
    "        self.puzzles = puzzle2tensor(puzzles)\n",
    "    def __len__(self):\n",
    "        return self.puzzles.size(0)\n",
    "    def __getitem__(self, i):\n",
    "        return self.puzzles[i, ...]"
   ]
  },
  {
   "cell_type": "code",
   "execution_count": 168,
   "metadata": {
    "collapsed": true
   },
   "outputs": [],
   "source": [
    "data = SudokuDataSet(puzzles)\n"
   ]
  },
  {
   "cell_type": "code",
   "execution_count": 169,
   "metadata": {
    "collapsed": false
   },
   "outputs": [
    {
     "data": {
      "text/plain": [
       "RnnVA (\n",
       "  (encoder_rnn): GRU(9, 128, num_layers=2, batch_first=True)\n",
       "  (encoder_fc1): Linear (128 -> 256)\n",
       "  (elu): ELU (alpha=1.0)\n",
       "  (va_mean): Linear (256 -> 256)\n",
       "  (va_gamma): Linear (256 -> 256)\n",
       "  (decoder_fc1): Linear (256 -> 256)\n",
       "  (decoder_rnn): GRU(256, 128, num_layers=2, batch_first=True)\n",
       "  (decoder_classifier): Linear (128 -> 9)\n",
       "  (sigmoid): Sigmoid ()\n",
       ")"
      ]
     },
     "execution_count": 169,
     "metadata": {},
     "output_type": "execute_result"
    }
   ],
   "source": [
    "model = RnnVA().cuda()\n",
    "model.train()"
   ]
  },
  {
   "cell_type": "code",
   "execution_count": 170,
   "metadata": {
    "collapsed": false
   },
   "outputs": [
    {
     "name": "stdout",
     "output_type": "stream",
     "text": [
      "0 0 0.6830543875694275 0.6810584664344788 0.0019959351047873497\n",
      "0 100 0.34842395782470703 0.3481610417366028 0.00026292531401850283\n",
      "0 200 0.2610192596912384 0.24240830540657043 0.01861095055937767\n",
      "0 300 0.18023937940597534 0.15498310327529907 0.02525627426803112\n",
      "0 400 0.10254645347595215 0.09067604690790176 0.011870408430695534\n",
      "0 500 0.0719316154718399 0.05945393443107605 0.012477677315473557\n",
      "0 600 0.04055941477417946 0.02844056487083435 0.012118849903345108\n",
      "1 0 0.034348711371421814 0.022412899881601334 0.011935810558497906\n",
      "1 100 0.02357545495033264 0.011876785196363926 0.011698668822646141\n",
      "1 200 0.020067691802978516 0.008237470872700214 0.011830220930278301\n",
      "1 300 0.01766396313905716 0.0060273571871221066 0.01163660641759634\n",
      "1 400 0.01676705665886402 0.005118110217154026 0.011648946441709995\n",
      "1 500 0.015445093624293804 0.0035015754401683807 0.011943518184125423\n",
      "1 600 0.015106558799743652 0.003324800403788686 0.01178175862878561\n",
      "2 0 0.01575370691716671 0.0037397209089249372 0.012013986706733704\n",
      "2 100 0.015165233053267002 0.003246719017624855 0.011918514035642147\n",
      "2 200 0.014067827723920345 0.0022380424197763205 0.011829785071313381\n",
      "2 300 0.014525752514600754 0.002632607240229845 0.011893144808709621\n",
      "2 400 0.013787881471216679 0.002079964615404606 0.011707916855812073\n",
      "2 500 0.013167155906558037 0.0015633893199265003 0.01160376612097025\n",
      "2 600 0.013421798124909401 0.0019399040611460805 0.011481894180178642\n",
      "3 0 0.013633562251925468 0.0018776387441903353 0.011755923740565777\n",
      "3 100 0.013210926204919815 0.0013488264521583915 0.011862100102007389\n",
      "3 200 0.01326076965779066 0.001369289355352521 0.011891480535268784\n",
      "3 300 0.013035818003118038 0.0012151228729635477 0.011820695362985134\n",
      "3 400 0.012692558579146862 0.001092964201234281 0.011599594727158546\n",
      "3 500 0.012791333720088005 0.0012239455245435238 0.011567388661205769\n",
      "3 600 0.012582407332956791 0.0009738373919390142 0.011608569882810116\n",
      "4 0 0.012843573465943336 0.0012568157399073243 0.011586757376790047\n",
      "4 100 0.012757426127791405 0.0011098115937784314 0.011647614650428295\n",
      "4 200 0.012471241876482964 0.000907803769223392 0.01156343799084425\n",
      "4 300 0.012442386709153652 0.0006617967155762017 0.011780589818954468\n",
      "4 400 0.012804313562810421 0.0009675798355601728 0.011836733669042587\n",
      "4 500 0.01229524053633213 0.0008183321915566921 0.011476908810436726\n",
      "4 600 0.01238953322172165 0.0009509901283308864 0.011438542976975441\n",
      "5 0 0.012885707430541515 0.0012363374698907137 0.011649370193481445\n",
      "5 100 0.01216574851423502 0.0007764811743982136 0.01138926763087511\n",
      "5 200 0.012555624358355999 0.0008878859807737172 0.011667738668620586\n",
      "5 300 0.012418346479535103 0.0010955068282783031 0.011322840116918087\n",
      "5 400 0.011866825632750988 0.0006199682247824967 0.011246857233345509\n",
      "5 500 0.35406047105789185 0.3362969160079956 0.01776355318725109\n",
      "5 600 0.024777058511972427 0.011283128522336483 0.013493930920958519\n",
      "6 0 0.02173023670911789 0.008953439071774483 0.012776797637343407\n",
      "6 100 0.016802601516246796 0.005023909732699394 0.011778691783547401\n",
      "6 200 0.015155998058617115 0.0033634016290307045 0.01179259642958641\n",
      "6 300 0.014515353366732597 0.003000586526468396 0.011514767073094845\n",
      "6 400 0.013716709800064564 0.002042262116447091 0.011674447916448116\n",
      "6 500 0.013569923117756844 0.002188766608014703 0.011381156742572784\n",
      "6 600 0.013265656307339668 0.0017357777105644345 0.011529878713190556\n",
      "7 0 0.01317628938704729 0.0019054444273933768 0.01127084530889988\n",
      "7 100 0.012647610157728195 0.0015055570984259248 0.011142052710056305\n",
      "7 200 0.012489198707044125 0.001077747088856995 0.011411451734602451\n",
      "7 300 0.0125566516071558 0.0011679790914058685 0.011388672515749931\n",
      "7 400 0.012393229641020298 0.0010521996300667524 0.011341029778122902\n",
      "7 500 0.012415819801390171 0.0008354524616152048 0.01158036757260561\n",
      "7 600 0.01259993389248848 0.0011953676585108042 0.011404566466808319\n",
      "8 0 0.01233264897018671 0.0009183103684335947 0.01141433883458376\n",
      "8 100 0.01242686528712511 0.0010776221752166748 0.011349243111908436\n",
      "8 200 0.012203259393572807 0.001116609899327159 0.011086649261415005\n",
      "8 300 0.012157721444964409 0.0009553775889798999 0.011202343739569187\n",
      "8 400 0.012447932735085487 0.0007948132115416229 0.011653119698166847\n",
      "8 500 0.011996974237263203 0.0006635096506215632 0.0113334646448493\n",
      "8 600 0.012116434052586555 0.0006409027264453471 0.01147553138434887\n",
      "9 0 0.011977183632552624 0.0006727471482008696 0.01130443625152111\n",
      "9 100 0.011944537051022053 0.0005626901984214783 0.011381846852600574\n",
      "9 200 0.012115081772208214 0.0008249572128988802 0.011290124617516994\n",
      "9 300 0.012061089277267456 0.0008740173070691526 0.011187071911990643\n",
      "9 400 0.011682621203362942 0.0003547020023688674 0.01132791955024004\n",
      "9 500 0.01204480230808258 0.000841697386931628 0.011203104630112648\n",
      "9 600 0.01169649325311184 0.00048195396084338427 0.011214539408683777\n"
     ]
    }
   ],
   "source": [
    "n_epochs = 10\n",
    "\n",
    "batches = DataLoader(data, batch_size=128, shuffle=True, num_workers=4)\n",
    "xentropy = nn.BCELoss()\n",
    "\n",
    "\n",
    "optimizer = optim.Adam(model.parameters())\n",
    "\n",
    "for epoch in range(n_epochs):\n",
    "    for b, batch in enumerate(batches):\n",
    "        x = Variable(batch).cuda()\n",
    "        \n",
    "        model.zero_grad()\n",
    "        xx = model(x)\n",
    "        restore_loss = xentropy(xx.view([-1, 9]), x.view([-1, 9]))\n",
    "        latent_loss = 0.5 * torch.mean(torch.exp(model.gamma) + model.mean*model.mean -1 - model.gamma)\n",
    "        loss = restore_loss + latent_loss\n",
    "        loss.backward()\n",
    "        optimizer.step()\n",
    "        \n",
    "        if b % 100 == 0:\n",
    "            print(epoch, b, loss.data[0], restore_loss.data[0], latent_loss.data[0])"
   ]
  },
  {
   "cell_type": "code",
   "execution_count": 174,
   "metadata": {
    "collapsed": false
   },
   "outputs": [],
   "source": [
    "model.eval()\n",
    "generated_puzzles = tensor2puzzle(model.generate(10).cpu().data)"
   ]
  },
  {
   "cell_type": "code",
   "execution_count": 175,
   "metadata": {
    "collapsed": false
   },
   "outputs": [
    {
     "data": {
      "text/plain": [
       "['977856965613696834762948938529125533971929512375428211378312374639111888222825415',\n",
       " '921131418648989574287467361651932779741598398738375813632876422128283715694314173',\n",
       " '678162561398716893736797614695129491812871893343675277876328838262615394465697797',\n",
       " '725367329277369568121959158662539611951461578567515366345555653641991557129113856',\n",
       " '754615739151459197688665288213645681389671845961267562713977495257214837126528899',\n",
       " '614986244291572669535299616186842924995529585882287252185496531717297777649593189',\n",
       " '132942745985871726792861756781725638945627488311646171754798518249762224545726215',\n",
       " '662322576655858124472946965821193531746769297179354439191726349177964866756666318',\n",
       " '625451418689394171637487922753631923571595939482241176721471355883521567855851865',\n",
       " '125493243367948598294794697727849619326333585988929778112721725347973617415142499']"
      ]
     },
     "execution_count": 175,
     "metadata": {},
     "output_type": "execute_result"
    }
   ],
   "source": [
    "generated_puzzles"
   ]
  },
  {
   "cell_type": "code",
   "execution_count": 177,
   "metadata": {
    "collapsed": false
   },
   "outputs": [
    {
     "ename": "AssertionError",
     "evalue": "err: row 0",
     "output_type": "error",
     "traceback": [
      "\u001b[0;31m---------------------------------------------------------------------------\u001b[0m",
      "\u001b[0;31mAssertionError\u001b[0m                            Traceback (most recent call last)",
      "\u001b[0;32m<ipython-input-177-8f88306b00ec>\u001b[0m in \u001b[0;36m<module>\u001b[0;34m()\u001b[0m\n\u001b[0;32m----> 1\u001b[0;31m \u001b[0mcheck_sudoku\u001b[0m\u001b[0;34m(\u001b[0m\u001b[0mgenerated_puzzles\u001b[0m\u001b[0;34m[\u001b[0m\u001b[0;34m-\u001b[0m\u001b[0;36m3\u001b[0m\u001b[0;34m]\u001b[0m\u001b[0;34m)\u001b[0m\u001b[0;34m\u001b[0m\u001b[0m\n\u001b[0m",
      "\u001b[0;32m<ipython-input-155-4bbe5d2f0307>\u001b[0m in \u001b[0;36mcheck_sudoku\u001b[0;34m(puzzle)\u001b[0m\n\u001b[1;32m      8\u001b[0m     \u001b[0msquares\u001b[0m \u001b[0;34m=\u001b[0m \u001b[0;34m[\u001b[0m\u001b[0;34m(\u001b[0m\u001b[0mr\u001b[0m\u001b[0;34m,\u001b[0m \u001b[0mc\u001b[0m\u001b[0;34m)\u001b[0m \u001b[0;32mfor\u001b[0m \u001b[0mr\u001b[0m \u001b[0;32min\u001b[0m \u001b[0mstrides\u001b[0m \u001b[0;32mfor\u001b[0m \u001b[0mc\u001b[0m \u001b[0;32min\u001b[0m \u001b[0mstrides\u001b[0m\u001b[0;34m]\u001b[0m\u001b[0;34m\u001b[0m\u001b[0m\n\u001b[1;32m      9\u001b[0m     \u001b[0;32mfor\u001b[0m \u001b[0mr\u001b[0m \u001b[0;32min\u001b[0m \u001b[0mrows\u001b[0m\u001b[0;34m:\u001b[0m\u001b[0;34m\u001b[0m\u001b[0m\n\u001b[0;32m---> 10\u001b[0;31m         \u001b[0;32massert\u001b[0m \u001b[0mset\u001b[0m\u001b[0;34m(\u001b[0m\u001b[0mp\u001b[0m\u001b[0;34m[\u001b[0m\u001b[0mr\u001b[0m\u001b[0;34m,\u001b[0m\u001b[0;34m:\u001b[0m\u001b[0;34m]\u001b[0m\u001b[0;34m)\u001b[0m \u001b[0;34m==\u001b[0m \u001b[0mdigits\u001b[0m\u001b[0;34m,\u001b[0m \u001b[0;34m\"err: row %i\"\u001b[0m \u001b[0;34m%\u001b[0m \u001b[0mr\u001b[0m\u001b[0;34m\u001b[0m\u001b[0m\n\u001b[0m\u001b[1;32m     11\u001b[0m     \u001b[0;32mfor\u001b[0m \u001b[0mc\u001b[0m \u001b[0;32min\u001b[0m \u001b[0mcols\u001b[0m\u001b[0;34m:\u001b[0m\u001b[0;34m\u001b[0m\u001b[0m\n\u001b[1;32m     12\u001b[0m         \u001b[0;32massert\u001b[0m \u001b[0mset\u001b[0m\u001b[0;34m(\u001b[0m\u001b[0mp\u001b[0m\u001b[0;34m[\u001b[0m\u001b[0;34m:\u001b[0m\u001b[0;34m,\u001b[0m\u001b[0mc\u001b[0m\u001b[0;34m]\u001b[0m\u001b[0;34m)\u001b[0m \u001b[0;34m==\u001b[0m \u001b[0mdigits\u001b[0m\u001b[0;34m,\u001b[0m \u001b[0;34m\"err: col %i\"\u001b[0m \u001b[0;34m%\u001b[0m \u001b[0mc\u001b[0m\u001b[0;34m\u001b[0m\u001b[0m\n",
      "\u001b[0;31mAssertionError\u001b[0m: err: row 0"
     ]
    }
   ],
   "source": [
    "check_sudoku(generated_puzzles[-3])"
   ]
  },
  {
   "cell_type": "code",
   "execution_count": null,
   "metadata": {
    "collapsed": true
   },
   "outputs": [],
   "source": []
  }
 ],
 "metadata": {
  "kernelspec": {
   "display_name": "Python 3",
   "language": "python",
   "name": "python3"
  },
  "language_info": {
   "codemirror_mode": {
    "name": "ipython",
    "version": 3
   },
   "file_extension": ".py",
   "mimetype": "text/x-python",
   "name": "python",
   "nbconvert_exporter": "python",
   "pygments_lexer": "ipython3",
   "version": "3.6.0"
  }
 },
 "nbformat": 4,
 "nbformat_minor": 2
}
