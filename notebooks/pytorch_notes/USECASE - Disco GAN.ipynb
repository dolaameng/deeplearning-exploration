{
 "cells": [
  {
   "cell_type": "markdown",
   "metadata": {},
   "source": [
    "# Disco GAN for Gender Exchange\n",
    "- [github and paper](https://github.com/SKTBrain/DiscoGAN)\n",
    "- [celebA dataset](http://mmlab.ie.cuhk.edu.hk/projects/CelebA.html)\n",
    "    - [images](https://drive.google.com/drive/folders/0B7EVK8r0v71pTUZsaXdaSnZBZzg)\n",
    "    - [attributes](https://drive.google.com/drive/folders/0B7EVK8r0v71pOC0wOVZlQnFfaGs)"
   ]
  },
  {
   "cell_type": "code",
   "execution_count": 1,
   "metadata": {
    "collapsed": true
   },
   "outputs": [],
   "source": [
    "%matplotlib inline\n",
    "import matplotlib.pyplot as plt"
   ]
  },
  {
   "cell_type": "code",
   "execution_count": 2,
   "metadata": {
    "collapsed": true
   },
   "outputs": [],
   "source": [
    "from PIL import Image\n",
    "import torch\n",
    "from torch.autograd import Variable\n",
    "from torch import nn, optim\n",
    "from torch.utils import data\n",
    "from torchvision import transforms\n",
    "from torchvision import utils\n",
    "from torch.nn import functional as F\n",
    "from os import path\n",
    "\n",
    "import pandas as pd\n",
    "from itertools import chain\n",
    "import random"
   ]
  },
  {
   "cell_type": "markdown",
   "metadata": {},
   "source": [
    "## data and preprocessing"
   ]
  },
  {
   "cell_type": "raw",
   "metadata": {},
   "source": [
    "\n",
    "class CelebImages(data.Dataset):\n",
    "    def __init__(self, image_folder, attr_list, filters, transform=None):\n",
    "        self.image_folder = image_folder\n",
    "        self.attributes = self.parse_attributes(attr_list)\n",
    "        self.filters = filters\n",
    "        self.transform = transform\n",
    "        for p in filters:\n",
    "            self.attributes = self.attributes[p(self.attributes)]\n",
    "    def __len__(self):\n",
    "        return self.attributes.shape[0]\n",
    "    def __getitem__(self, i):\n",
    "        img_path = path.join(self.image_folder, self.attributes.iloc[i].image_path)\n",
    "        img = Image.open(img_path)\n",
    "        if self.transform is not None:\n",
    "            img = self.transform(img)\n",
    "        label = \"Male\" if self.attributes.iloc[i].Male == \"1\" else \"Female\"\n",
    "        return (img, label)\n",
    "    def parse_attributes(self, attr_list):\n",
    "        attributes = []\n",
    "        lines = open(attr_list).readlines()\n",
    "        columns = [\"image_path\"] + lines[1].split()\n",
    "        assert len(columns) == 41\n",
    "        for line in lines[2:]:\n",
    "            fields = line.split()\n",
    "            assert len(fields) == 41\n",
    "            attributes.append(fields)\n",
    "        return pd.DataFrame(attributes, columns=columns)\n",
    "    \n",
    "image_folder = \"/home/dola/ws/data/celebA/img_align_celeba/\"\n",
    "attr_list = \"/home/dola/ws/data/celebA/list_attr_celeba.txt\"\n",
    "transform = transforms.Compose([\n",
    "    transforms.Scale(64),\n",
    "    transforms.ToTensor()\n",
    "])\n",
    "\n",
    "males = CelebImages(image_folder, attr_list,\n",
    "                    [lambda df: df.Male == \"1\"],\n",
    "                    transform)\n",
    "females = CelebImages(image_folder, attr_list,\n",
    "                      [lambda df: df.Male == \"-1\"],\n",
    "                      transform)\n",
    "\n",
    "len(males), len(females)"
   ]
  },
  {
   "cell_type": "code",
   "execution_count": 3,
   "metadata": {
    "collapsed": false
   },
   "outputs": [],
   "source": [
    "## Better to implemente as image pairs\n",
    "\n",
    "class CelebMaleFemale(data.Dataset):\n",
    "    def __init__(self, image_folder, attr_list, transform=None):\n",
    "        self.image_folder = image_folder\n",
    "        self.attributes = self.parse_attributes(attr_list)\n",
    "        self.transform = transform\n",
    "        self.male_images = self.attributes[self.attributes.Male==\"1\"].image_path\n",
    "        self.female_images = self.attributes[self.attributes.Male==\"-1\"].image_path\n",
    "    def __len__(self):\n",
    "        return max(len(self.male_images), len(self.female_images))\n",
    "    def __getitem__(self, i):\n",
    "        imale = random.randint(0, len(self.male_images)-1)\n",
    "        male_img = Image.open(path.join(self.image_folder, self.male_images.iloc[imale]))\n",
    "        ifemale = random.randint(0, len(self.female_images)-1)\n",
    "        female_img = Image.open(path.join(self.image_folder, self.female_images.iloc[ifemale]))\n",
    "        if self.transform is not None:\n",
    "            male_img = self.transform(male_img)\n",
    "            female_img = self.transform(female_img)\n",
    "        return (male_img, female_img)\n",
    "    def parse_attributes(self, attr_list):\n",
    "        attributes = []\n",
    "        lines = open(attr_list).readlines()\n",
    "        columns = [\"image_path\"] + lines[1].split()\n",
    "        assert len(columns) == 41\n",
    "        for line in lines[2:]:\n",
    "            fields = line.split()\n",
    "            assert len(fields) == 41\n",
    "            attributes.append(fields)\n",
    "        return pd.DataFrame(attributes, columns=columns)"
   ]
  },
  {
   "cell_type": "code",
   "execution_count": 4,
   "metadata": {
    "collapsed": false
   },
   "outputs": [
    {
     "data": {
      "text/plain": [
       "118165"
      ]
     },
     "execution_count": 4,
     "metadata": {},
     "output_type": "execute_result"
    }
   ],
   "source": [
    "image_folder = \"/home/dola/data/celebA/img_align_celeba/\"\n",
    "attr_list = \"/home/dola/data/celebA/list_attr_celeba.txt\"\n",
    "transform = transforms.Compose([\n",
    "#     transforms.Scale(78),\n",
    "    transforms.Scale(64),\n",
    "    transforms.CenterCrop([64, 64]),\n",
    "    transforms.ToTensor()\n",
    "])\n",
    "celeb_images = CelebMaleFemale(image_folder, attr_list, transform)\n",
    "len(celeb_images)"
   ]
  },
  {
   "cell_type": "code",
   "execution_count": 5,
   "metadata": {
    "collapsed": false
   },
   "outputs": [],
   "source": [
    "a, b = celeb_images[0]"
   ]
  },
  {
   "cell_type": "code",
   "execution_count": 6,
   "metadata": {
    "collapsed": false
   },
   "outputs": [
    {
     "data": {
      "text/plain": [
       "(torch.Size([3, 64, 64]), torch.Size([3, 64, 64]))"
      ]
     },
     "execution_count": 6,
     "metadata": {},
     "output_type": "execute_result"
    }
   ],
   "source": [
    "a.size(), b.size()"
   ]
  },
  {
   "cell_type": "code",
   "execution_count": 7,
   "metadata": {
    "collapsed": false
   },
   "outputs": [
    {
     "data": {
      "text/plain": [
       "<matplotlib.image.AxesImage at 0x7efd75767c88>"
      ]
     },
     "execution_count": 7,
     "metadata": {},
     "output_type": "execute_result"
    },
    {
     "data": {
      "image/png": "[encoded data removed]",
      "text/plain": [
       "<matplotlib.figure.Figure at 0x7efd75cafb00>"
      ]
     },
     "metadata": {},
     "output_type": "display_data"
    }
   ],
   "source": [
    "p = transforms.ToPILImage()\n",
    "plt.imshow(p(b))"
   ]
  },
  {
   "cell_type": "markdown",
   "metadata": {},
   "source": [
    "## Model"
   ]
  },
  {
   "cell_type": "markdown",
   "metadata": {},
   "source": [
    "### discriminator"
   ]
  },
  {
   "cell_type": "code",
   "execution_count": 8,
   "metadata": {
    "collapsed": true
   },
   "outputs": [],
   "source": [
    "class Discriminator(nn.Module):\n",
    "    \n",
    "    def __init__(self):\n",
    "        super(Discriminator, self).__init__()\n",
    "        self.cnn = nn.Sequential(\n",
    "            # conv1\n",
    "            nn.Conv2d(3, 64, kernel_size=4, stride=2, padding=1, bias=False), # (64-4+1*2)/2+1=32\n",
    "            nn.ELU(inplace=True),\n",
    "            # conv2\n",
    "            nn.Conv2d(64, 64*2, kernel_size=4, stride=2, padding=1, bias=False), #(32-4+1*2)/2+1=16\n",
    "            nn.BatchNorm2d(64*2),\n",
    "            nn.ELU(inplace=True),\n",
    "            # conv3\n",
    "            nn.Conv2d(64*2, 64*4, kernel_size=4, stride=2, padding=1, bias=False), #(16-4+2*1)/2+1=8\n",
    "            nn.BatchNorm2d(64*4),\n",
    "            nn.ELU(inplace=True),\n",
    "            # conv4\n",
    "            nn.Conv2d(64*4, 64*8, kernel_size=4, stride=2, padding=1, bias=False), #(8-4+2*1)/2+1=4\n",
    "            nn.BatchNorm2d(64*8),\n",
    "            nn.ELU(inplace=True),\n",
    "            # conv5\n",
    "            nn.Conv2d(64*8, 1, kernel_size=4, stride=1, padding=0, bias=False), #(4-4+0)/1+1=1\n",
    "        )\n",
    "        self.cnn1 = nn.Sequential(\n",
    "            # conv1\n",
    "            nn.Conv2d(3, 64, kernel_size=4, stride=2, padding=1, bias=False), # (64-4+1*2)/2+1=32\n",
    "            nn.ELU(inplace=True)\n",
    "        )\n",
    "        self.cnn2 = nn.Sequential(\n",
    "            # conv2\n",
    "            nn.Conv2d(64, 64*2, kernel_size=4, stride=2, padding=1, bias=False), #(32-4+1*2)/2+1=16\n",
    "            nn.BatchNorm2d(64*2),\n",
    "            nn.ELU(inplace=True),\n",
    "        )\n",
    "        self.cnn3 = nn.Sequential(\n",
    "            # conv3\n",
    "            nn.Conv2d(64*2, 64*4, kernel_size=4, stride=2, padding=1, bias=False), #(16-4+2*1)/2+1=8\n",
    "            nn.BatchNorm2d(64*4),\n",
    "            nn.ELU(inplace=True),\n",
    "        )\n",
    "        self.cnn4 = nn.Sequential(\n",
    "            # conv4\n",
    "            nn.Conv2d(64*4, 64*8, kernel_size=4, stride=2, padding=1, bias=False), #(8-4+2*1)/2+1=4\n",
    "            nn.BatchNorm2d(64*8),\n",
    "            nn.ELU(inplace=True),\n",
    "        )\n",
    "        self.cnn5 = nn.Sequential(\n",
    "            # conv5\n",
    "            nn.Conv2d(64*8, 1, kernel_size=4, stride=1, padding=0, bias=False), #(4-4+0)/1+1=1\n",
    "        )\n",
    "    def forward(self, x):\n",
    "        out1 = self.cnn1(x)\n",
    "        out2 = self.cnn2(out1)\n",
    "        out3 = self.cnn3(out2)\n",
    "        out4 = self.cnn4(out3)\n",
    "        out = self.cnn5(out4)\n",
    "        prob = F.sigmoid(out)\n",
    "        return prob, [out2, out3, out4]"
   ]
  },
  {
   "cell_type": "code",
   "execution_count": 9,
   "metadata": {
    "collapsed": false
   },
   "outputs": [
    {
     "data": {
      "text/plain": [
       "torch.Size([1, 1, 1, 1])"
      ]
     },
     "execution_count": 9,
     "metadata": {},
     "output_type": "execute_result"
    }
   ],
   "source": [
    "d = Discriminator().cuda()\n",
    "x = Variable(torch.rand([1, 3, 64, 64])).cuda()\n",
    "prob, feats = d(x)\n",
    "prob.size()"
   ]
  },
  {
   "cell_type": "markdown",
   "metadata": {},
   "source": [
    "### generator"
   ]
  },
  {
   "cell_type": "code",
   "execution_count": 10,
   "metadata": {
    "collapsed": true
   },
   "outputs": [],
   "source": [
    "class Generator(nn.Module):\n",
    "    def __init__(self):\n",
    "        super(Generator, self).__init__()\n",
    "        self.encoder = nn.Sequential(\n",
    "            # (64-4+2)/2+1=32\n",
    "            nn.Conv2d(3, 64, kernel_size=4, stride=2, padding=1, bias=False),\n",
    "            nn.ELU(inplace=True),\n",
    "            # (32-4+2)/2+1=16\n",
    "            nn.Conv2d(64, 64*2, kernel_size=4, stride=2, padding=1, bias=False),\n",
    "            nn.BatchNorm2d(64*2),\n",
    "            nn.ELU(inplace=True),\n",
    "            # (16-4+2)/2+1=8\n",
    "            nn.Conv2d(64*2, 64*4, kernel_size=4, stride=2, padding=1, bias=False),\n",
    "            nn.BatchNorm2d(64*4),\n",
    "            nn.ELU(inplace=True),\n",
    "            # (8-4+2)/2+1=4\n",
    "            nn.Conv2d(64*4, 64*8, kernel_size=4, stride=2, padding=1, bias=False),\n",
    "            nn.BatchNorm2d(64*8),\n",
    "            nn.ELU(inplace=True)\n",
    "        )\n",
    "        self.decoder = nn.Sequential(\n",
    "            # (4-1)*2+4-2=8\n",
    "            nn.ConvTranspose2d(64*8, 64*4, kernel_size=4, stride=2, padding=1, bias=False),\n",
    "            nn.BatchNorm2d(64*4),\n",
    "            nn.ELU(inplace=True),\n",
    "            # (8-1)*2+4-2=16\n",
    "            nn.ConvTranspose2d(64*4, 64*2, kernel_size=4, stride=2, padding=1, bias=False),\n",
    "            nn.BatchNorm2d(64*2),\n",
    "            nn.ELU(inplace=True),\n",
    "            # (16-1)*2+4-2=32\n",
    "            nn.ConvTranspose2d(64*2, 64, kernel_size=4, stride=2, padding=1, bias=False),\n",
    "            nn.BatchNorm2d(64),\n",
    "            nn.ELU(inplace=True),\n",
    "            # (32-1)*2+4-2=64\n",
    "            nn.ConvTranspose2d(64, 3, kernel_size=4, stride=2, padding=1, bias=False)\n",
    "        )\n",
    "    def forward(self, x):\n",
    "        out = self.encoder(x)\n",
    "        out = self.decoder(out)\n",
    "        out = F.sigmoid(out) # normalize to [0,1]\n",
    "        return out"
   ]
  },
  {
   "cell_type": "code",
   "execution_count": 11,
   "metadata": {
    "collapsed": false
   },
   "outputs": [
    {
     "data": {
      "text/plain": [
       "torch.Size([1, 3, 64, 64])"
      ]
     },
     "execution_count": 11,
     "metadata": {},
     "output_type": "execute_result"
    }
   ],
   "source": [
    "g = Generator().cuda()\n",
    "x = Variable(torch.rand([1, 3, 64, 64])).cuda()\n",
    "g(x).size()"
   ]
  },
  {
   "cell_type": "markdown",
   "metadata": {},
   "source": [
    "## Train"
   ]
  },
  {
   "cell_type": "code",
   "execution_count": null,
   "metadata": {
    "collapsed": true
   },
   "outputs": [],
   "source": [
    "batch_size = 64\n",
    "\n",
    "generator_m2f = Generator().cuda()\n",
    "generator_f2m = Generator().cuda()\n",
    "discriminator_m = Discriminator().cuda()\n",
    "discriminator_f = Discriminator().cuda()"
   ]
  },
  {
   "cell_type": "code",
   "execution_count": null,
   "metadata": {
    "collapsed": true
   },
   "outputs": [],
   "source": [
    "\n",
    "\n",
    "\n",
    "reconstruction_objective = nn.MSELoss()\n",
    "gan_objective = nn.BCELoss()\n",
    "\n",
    "# feat objective helps converge\n",
    "feat_objective = nn.HingeEmbeddingLoss() \n",
    "def get_feat_loss(real_feats, fake_feats):\n",
    "    loss = 0\n",
    "    for real_feat, fake_feat in zip(real_feats, fake_feats):\n",
    "        l2 = torch.pow(real_feat.mean(0)-fake_feat.mean(0), 2)\n",
    "        loss += feat_objective(l2, Variable(torch.ones(l2.size())).cuda())\n",
    "    return loss\n",
    "\n",
    "## we have to train generators together (the same with discrinators) because\n",
    "## the loss depend on both encoders and decoders\n",
    "generator_params = chain(generator_m2f.parameters(), generator_f2m.parameters())\n",
    "discriminator_params = chain(discriminator_m.parameters(), discriminator_f.parameters())\n",
    "gen_optimizer = optim.Adam(generator_params, lr=5e-4)\n",
    "dis_optimizer = optim.Adam(discriminator_params, lr=5e-4)\n",
    "\n",
    "\n",
    "image_pairs = data.DataLoader(celeb_images, batch_size=batch_size, \n",
    "                              shuffle=False, num_workers=4)"
   ]
  },
  {
   "cell_type": "code",
   "execution_count": 22,
   "metadata": {
    "collapsed": false
   },
   "outputs": [
    {
     "name": "stdout",
     "output_type": "stream",
     "text": [
      "0 0 0.18132475018501282 1.4415454864501953\n",
      "==>g_m_loss=0.08, g_f_loss=0.10, d_m_loss=0.76, d_f_loss=0.68\n",
      "0 200 0.19698366522789001 1.2878141403198242\n",
      "==>g_m_loss=0.09, g_f_loss=0.10, d_m_loss=0.69, d_f_loss=0.59\n",
      "0 400 0.18702450394630432 1.409324049949646\n",
      "==>g_m_loss=0.08, g_f_loss=0.11, d_m_loss=0.69, d_f_loss=0.72\n",
      "0 600 0.16695433855056763 1.364227533340454\n",
      "==>g_m_loss=0.08, g_f_loss=0.09, d_m_loss=0.69, d_f_loss=0.68\n",
      "0 800 0.18867544829845428 1.3912787437438965\n",
      "==>g_m_loss=0.09, g_f_loss=0.10, d_m_loss=0.74, d_f_loss=0.65\n",
      "0 1000 0.19968253374099731 1.2348926067352295\n",
      "==>g_m_loss=0.10, g_f_loss=0.10, d_m_loss=0.74, d_f_loss=0.50\n",
      "0 1200 0.18433907628059387 1.2832973003387451\n",
      "==>g_m_loss=0.08, g_f_loss=0.10, d_m_loss=0.72, d_f_loss=0.56\n",
      "0 1400 0.218282088637352 1.4053969383239746\n",
      "==>g_m_loss=0.08, g_f_loss=0.14, d_m_loss=0.75, d_f_loss=0.66\n",
      "0 1600 0.1826535016298294 1.371687650680542\n",
      "==>g_m_loss=0.08, g_f_loss=0.10, d_m_loss=0.70, d_f_loss=0.67\n",
      "0 1800 0.1636679470539093 1.430077075958252\n",
      "==>g_m_loss=0.08, g_f_loss=0.09, d_m_loss=0.69, d_f_loss=0.74\n",
      "1 0 0.1892358362674713 1.2990413904190063\n",
      "==>g_m_loss=0.09, g_f_loss=0.10, d_m_loss=0.71, d_f_loss=0.59\n",
      "1 200 0.17951425909996033 1.3835370540618896\n",
      "==>g_m_loss=0.08, g_f_loss=0.10, d_m_loss=0.72, d_f_loss=0.66\n",
      "1 400 0.231997549533844 1.3173532485961914\n",
      "==>g_m_loss=0.10, g_f_loss=0.13, d_m_loss=0.65, d_f_loss=0.67\n",
      "1 600 0.18521568179130554 1.3950071334838867\n",
      "==>g_m_loss=0.09, g_f_loss=0.10, d_m_loss=0.76, d_f_loss=0.64\n",
      "1 800 0.17984053492546082 1.3789550065994263\n",
      "==>g_m_loss=0.08, g_f_loss=0.10, d_m_loss=0.69, d_f_loss=0.69\n",
      "1 1000 0.20555727183818817 1.4344499111175537\n",
      "==>g_m_loss=0.10, g_f_loss=0.11, d_m_loss=0.70, d_f_loss=0.74\n",
      "1 1200 0.1746196150779724 1.6188790798187256\n",
      "==>g_m_loss=0.08, g_f_loss=0.09, d_m_loss=0.71, d_f_loss=0.91\n",
      "1 1400 0.1972402036190033 1.4596705436706543\n",
      "==>g_m_loss=0.10, g_f_loss=0.10, d_m_loss=0.72, d_f_loss=0.74\n",
      "1 1600 0.18745507299900055 1.397531270980835\n",
      "==>g_m_loss=0.09, g_f_loss=0.10, d_m_loss=0.69, d_f_loss=0.70\n",
      "1 1800 0.20101457834243774 1.264592170715332\n",
      "==>g_m_loss=0.07, g_f_loss=0.13, d_m_loss=0.71, d_f_loss=0.56\n",
      "2 0 0.18707609176635742 1.4028799533843994\n",
      "==>g_m_loss=0.08, g_f_loss=0.11, d_m_loss=0.71, d_f_loss=0.69\n",
      "2 200 0.17362570762634277 1.596038818359375\n",
      "==>g_m_loss=0.09, g_f_loss=0.09, d_m_loss=0.72, d_f_loss=0.88\n",
      "2 400 0.21534210443496704 1.3006318807601929\n",
      "==>g_m_loss=0.10, g_f_loss=0.12, d_m_loss=0.69, d_f_loss=0.61\n",
      "2 600 0.17972591519355774 1.4400725364685059\n",
      "==>g_m_loss=0.08, g_f_loss=0.10, d_m_loss=0.72, d_f_loss=0.72\n",
      "2 800 0.18886785209178925 1.2253472805023193\n",
      "==>g_m_loss=0.08, g_f_loss=0.11, d_m_loss=0.69, d_f_loss=0.53\n",
      "2 1000 0.23249174654483795 1.247936725616455\n",
      "==>g_m_loss=0.09, g_f_loss=0.14, d_m_loss=0.73, d_f_loss=0.52\n",
      "2 1200 0.22755274176597595 1.4896048307418823\n",
      "==>g_m_loss=0.08, g_f_loss=0.14, d_m_loss=0.71, d_f_loss=0.78\n",
      "2 1400 0.19250312447547913 1.1434065103530884\n",
      "==>g_m_loss=0.08, g_f_loss=0.11, d_m_loss=0.66, d_f_loss=0.48\n",
      "2 1600 0.18675628304481506 1.3195902109146118\n",
      "==>g_m_loss=0.08, g_f_loss=0.11, d_m_loss=0.69, d_f_loss=0.63\n",
      "2 1800 0.20400115847587585 1.245058298110962\n",
      "==>g_m_loss=0.09, g_f_loss=0.11, d_m_loss=0.70, d_f_loss=0.55\n",
      "3 0 0.21221265196800232 1.2755529880523682\n",
      "==>g_m_loss=0.08, g_f_loss=0.13, d_m_loss=0.70, d_f_loss=0.57\n",
      "3 200 0.2634703814983368 1.3968232870101929\n",
      "==>g_m_loss=0.09, g_f_loss=0.17, d_m_loss=0.73, d_f_loss=0.67\n",
      "3 400 0.19659358263015747 1.2338277101516724\n",
      "==>g_m_loss=0.08, g_f_loss=0.12, d_m_loss=0.68, d_f_loss=0.55\n",
      "3 600 0.19254833459854126 1.3844413757324219\n",
      "==>g_m_loss=0.08, g_f_loss=0.11, d_m_loss=0.69, d_f_loss=0.70\n",
      "3 800 0.198438823223114 1.2410943508148193\n",
      "==>g_m_loss=0.08, g_f_loss=0.12, d_m_loss=0.69, d_f_loss=0.55\n",
      "3 1000 0.2646329998970032 1.1710134744644165\n",
      "==>g_m_loss=0.07, g_f_loss=0.19, d_m_loss=0.71, d_f_loss=0.47\n",
      "3 1200 0.19228197634220123 1.4465211629867554\n",
      "==>g_m_loss=0.07, g_f_loss=0.12, d_m_loss=0.71, d_f_loss=0.74\n",
      "3 1400 0.18484947085380554 1.3547627925872803\n",
      "==>g_m_loss=0.08, g_f_loss=0.11, d_m_loss=0.70, d_f_loss=0.65\n",
      "3 1600 0.23504342138767242 1.2134939432144165\n",
      "==>g_m_loss=0.09, g_f_loss=0.15, d_m_loss=0.72, d_f_loss=0.49\n",
      "3 1800 0.2046181708574295 1.271305799484253\n",
      "==>g_m_loss=0.08, g_f_loss=0.13, d_m_loss=0.70, d_f_loss=0.57\n",
      "4 0 0.17670269310474396 1.4260450601577759\n",
      "==>g_m_loss=0.08, g_f_loss=0.10, d_m_loss=0.70, d_f_loss=0.73\n",
      "4 200 0.17932626605033875 1.3491427898406982\n",
      "==>g_m_loss=0.08, g_f_loss=0.10, d_m_loss=0.70, d_f_loss=0.65\n",
      "4 400 0.17456325888633728 1.3147916793823242\n",
      "==>g_m_loss=0.08, g_f_loss=0.10, d_m_loss=0.71, d_f_loss=0.61\n",
      "4 600 0.17725583910942078 1.4660041332244873\n",
      "==>g_m_loss=0.08, g_f_loss=0.10, d_m_loss=0.70, d_f_loss=0.77\n",
      "4 800 0.19776228070259094 1.2815542221069336\n",
      "==>g_m_loss=0.08, g_f_loss=0.11, d_m_loss=0.70, d_f_loss=0.58\n",
      "4 1000 0.18138572573661804 1.2384276390075684\n",
      "==>g_m_loss=0.08, g_f_loss=0.10, d_m_loss=0.70, d_f_loss=0.54\n",
      "4 1200 0.18540969491004944 1.4485082626342773\n",
      "==>g_m_loss=0.09, g_f_loss=0.10, d_m_loss=0.72, d_f_loss=0.73\n",
      "4 1400 0.19652339816093445 1.2957890033721924\n",
      "==>g_m_loss=0.08, g_f_loss=0.12, d_m_loss=0.69, d_f_loss=0.60\n",
      "4 1600 0.2052663117647171 1.2685612440109253\n",
      "==>g_m_loss=0.08, g_f_loss=0.13, d_m_loss=0.70, d_f_loss=0.57\n",
      "4 1800 0.19611003994941711 1.4265713691711426\n",
      "==>g_m_loss=0.08, g_f_loss=0.12, d_m_loss=0.70, d_f_loss=0.73\n"
     ]
    }
   ],
   "source": [
    "n_epochs = 5\n",
    "\n",
    "for epoch in range(n_epochs):\n",
    "    for b, (male_images, female_images) in enumerate(image_pairs):\n",
    "        \n",
    "        ## input variables        \n",
    "        m = Variable(male_images).cuda()\n",
    "        f = Variable(female_images).cuda()\n",
    "        \n",
    "        ## generator variables\n",
    "        m2f = generator_m2f(m)\n",
    "        f2m = generator_f2m(f)\n",
    "        \n",
    "        m2f2m = generator_f2m(m2f)\n",
    "        f2m2f = generator_m2f(f2m)\n",
    "        \n",
    "        ## discriminator variables\n",
    "        m_is_m, m_feat = discriminator_m(m)\n",
    "        f2m_is_m, f2m_feat = discriminator_m(f2m)\n",
    "        \n",
    "        f_is_f, f_feat = discriminator_f(f)\n",
    "        m2f_is_f, m2f_feat = discriminator_f(m2f)\n",
    "        \n",
    "        n = m.size(0)\n",
    "        label1 = Variable(torch.ones(n, 1)).cuda()\n",
    "        label0 = Variable(torch.zeros(n, 0)).cuda()\n",
    "        \n",
    "        ## generator reconstruction loss\n",
    "        gen_m_recon_loss = reconstruction_objective(m2f2m, m)\n",
    "        gen_f_recon_loss = reconstruction_objective(f2m2f, f)\n",
    "        \n",
    "        ## generator gan loss\n",
    "        generator_m_gan_loss = gan_objective(f2m_is_m, label1)\n",
    "        generator_f_gan_loss = gan_objective(m2f_is_f, label1)\n",
    "        \n",
    "        ## generator feat loss\n",
    "        generator_m_feat_loss = get_feat_loss(m_feat, f2m_feat)\n",
    "        generator_f_feat_loss = get_feat_loss(f_feat, m2f_feat)\n",
    "        \n",
    "        ## generator loss\n",
    "        generator_m_loss = 0.99*(generator_m_gan_loss*0.1+generator_m_feat_loss*0.9) + 0.01*gen_m_recon_loss\n",
    "        generator_f_loss = 0.99*(generator_f_gan_loss*0.1+generator_f_feat_loss*0.9) + 0.01*gen_f_recon_loss\n",
    "        \n",
    "        generator_loss = generator_m_loss + generator_f_loss\n",
    "        \n",
    "        ## discriminator gan loss\n",
    "        discriminator_m_loss = gan_objective(m_is_m, label1)*.5 + gan_objective(f2m_is_m, label0)*.5\n",
    "        discriminator_f_loss = gan_objective(f_is_f, label1)*.5 + gan_objective(m2f_is_f, label0)*.5\n",
    "        \n",
    "        discriminator_loss = discriminator_m_loss + discriminator_f_loss\n",
    "        \n",
    "        ## update\n",
    "        if b % 3 == 0:\n",
    "            discriminator_m.zero_grad()\n",
    "            discriminator_f.zero_grad()\n",
    "            discriminator_loss.backward()\n",
    "            dis_optimizer.step()\n",
    "        else:\n",
    "            generator_m2f.zero_grad()\n",
    "            generator_f2m.zero_grad()\n",
    "            generator_loss.backward()\n",
    "            gen_optimizer.step()\n",
    "        \n",
    "        ## report\n",
    "        if b % 200 == 0:\n",
    "            print(epoch, b, generator_loss.data[0], discriminator_loss.data[0])\n",
    "            print(\"==>g_m_loss=%.2f, g_f_loss=%.2f, d_m_loss=%.2f, d_f_loss=%.2f\" % (generator_m_loss.data[0],\n",
    "                                                                                    generator_f_loss.data[0],\n",
    "                                                                                    discriminator_m_loss.data[0],\n",
    "                                                                                    discriminator_f_loss.data[0]))"
   ]
  },
  {
   "cell_type": "code",
   "execution_count": 42,
   "metadata": {
    "collapsed": false
   },
   "outputs": [],
   "source": [
    "man, woman = celeb_images[0]\n",
    "man2woman = generator_m2f(Variable(man).cuda()[None, ...])\n",
    "woman2man = generator_f2m(Variable(woman).cuda()[None, ...])"
   ]
  },
  {
   "cell_type": "code",
   "execution_count": 43,
   "metadata": {
    "collapsed": false
   },
   "outputs": [
    {
     "data": {
      "text/plain": [
       "<matplotlib.image.AxesImage at 0x7efd6cbb2b70>"
      ]
     },
     "execution_count": 43,
     "metadata": {},
     "output_type": "execute_result"
    },
    {
     "data": {
      "image/png": "[encoded data removed]",
      "text/plain": [
       "<matplotlib.figure.Figure at 0x7efd6d325390>"
      ]
     },
     "metadata": {},
     "output_type": "display_data"
    },
    {
     "data": {
      "image/png": "[encoded data removed]",
      "text/plain": [
       "<matplotlib.figure.Figure at 0x7efd6d325358>"
      ]
     },
     "metadata": {},
     "output_type": "display_data"
    }
   ],
   "source": [
    "plt.imshow(p(man))\n",
    "plt.figure()\n",
    "plt.imshow(p(man2woman.cpu().data.squeeze()))"
   ]
  },
  {
   "cell_type": "code",
   "execution_count": 44,
   "metadata": {
    "collapsed": false
   },
   "outputs": [
    {
     "data": {
      "text/plain": [
       "<matplotlib.image.AxesImage at 0x7efd6e56c748>"
      ]
     },
     "execution_count": 44,
     "metadata": {},
     "output_type": "execute_result"
    },
    {
     "data": {
      "image/png": "[encoded data removed]",
      "text/plain": [
       "<matplotlib.figure.Figure at 0x7efd6d33acc0>"
      ]
     },
     "metadata": {},
     "output_type": "display_data"
    },
    {
     "data": {
      "image/png": "[encoded data removed]",
      "text/plain": [
       "<matplotlib.figure.Figure at 0x7efd6c97f6a0>"
      ]
     },
     "metadata": {},
     "output_type": "display_data"
    }
   ],
   "source": [
    "plt.imshow(p(woman))\n",
    "plt.figure()\n",
    "plt.imshow(p(woman2man.cpu().data.squeeze()))"
   ]
  },
  {
   "cell_type": "code",
   "execution_count": 46,
   "metadata": {
    "collapsed": false
   },
   "outputs": [],
   "source": [
    "import pickle\n",
    "pickle.dump(generator_m2f.state_dict(), open(\"../../models/generator_m2f.pkl\", \"wb\"))\n",
    "pickle.dump(generator_f2m.state_dict(), open(\"../../models/generator_f2m.pkl\", \"wb\"))\n",
    "pickle.dump(discriminator_f.state_dict(), open(\"../../models/discriminator_f.pkl\", \"wb\"))\n",
    "pickle.dump(discriminator_m.state_dict(), open(\"../../models/discriminator_m.pkl\", \"wb\"))"
   ]
  },
  {
   "cell_type": "code",
   "execution_count": 47,
   "metadata": {
    "collapsed": false
   },
   "outputs": [
    {
     "name": "stdout",
     "output_type": "stream",
     "text": [
      "total 190M\r\n",
      "-rw-rw-r-- 1 dola dola 48M Jul 29 10:15 discriminator_f.pkl\r\n",
      "-rw-rw-r-- 1 dola dola 48M Jul 29 10:16 discriminator_m.pkl\r\n",
      "-rw-rw-r-- 1 dola dola 48M Jul 29 10:15 generator_f2m.pkl\r\n",
      "-rw-rw-r-- 1 dola dola 48M Jul 29 10:14 generator_m2f.pkl\r\n"
     ]
    }
   ],
   "source": [
    "!ls -lh ../../models"
   ]
  },
  {
   "cell_type": "code",
   "execution_count": null,
   "metadata": {
    "collapsed": true
   },
   "outputs": [],
   "source": []
  }
 ],
 "metadata": {
  "kernelspec": {
   "display_name": "Python 3",
   "language": "python",
   "name": "python3"
  },
  "language_info": {
   "codemirror_mode": {
    "name": "ipython",
    "version": 3
   },
   "file_extension": ".py",
   "mimetype": "text/x-python",
   "name": "python",
   "nbconvert_exporter": "python",
   "pygments_lexer": "ipython3",
   "version": "3.6.0"
  }
 },
 "nbformat": 4,
 "nbformat_minor": 2
}
