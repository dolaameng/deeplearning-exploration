{
 "cells": [
  {
   "cell_type": "markdown",
   "metadata": {},
   "source": [
    "# Disco GAN for Gender Exchange\n",
    "- [github and paper](https://github.com/SKTBrain/DiscoGAN)\n",
    "- [celebA dataset](http://mmlab.ie.cuhk.edu.hk/projects/CelebA.html)\n",
    "    - [images](https://drive.google.com/drive/folders/0B7EVK8r0v71pTUZsaXdaSnZBZzg)\n",
    "    - [attributes](https://drive.google.com/drive/folders/0B7EVK8r0v71pOC0wOVZlQnFfaGs)"
   ]
  },
  {
   "cell_type": "code",
   "execution_count": 48,
   "metadata": {
    "collapsed": true
   },
   "outputs": [],
   "source": [
    "%matplotlib inline\n",
    "import matplotlib.pyplot as plt"
   ]
  },
  {
   "cell_type": "code",
   "execution_count": 133,
   "metadata": {
    "collapsed": true
   },
   "outputs": [],
   "source": [
    "from PIL import Image\n",
    "import torch\n",
    "from torch.autograd import Variable\n",
    "from torch import nn, optim\n",
    "from torch.utils import data\n",
    "from torchvision import transforms\n",
    "from torchvision import utils\n",
    "from torch.nn import functional as F\n",
    "from os import path\n",
    "\n",
    "import pandas as pd\n",
    "from itertools import chain\n",
    "import random"
   ]
  },
  {
   "cell_type": "markdown",
   "metadata": {},
   "source": [
    "## data and preprocessing"
   ]
  },
  {
   "cell_type": "raw",
   "metadata": {},
   "source": [
    "\n",
    "class CelebImages(data.Dataset):\n",
    "    def __init__(self, image_folder, attr_list, filters, transform=None):\n",
    "        self.image_folder = image_folder\n",
    "        self.attributes = self.parse_attributes(attr_list)\n",
    "        self.filters = filters\n",
    "        self.transform = transform\n",
    "        for p in filters:\n",
    "            self.attributes = self.attributes[p(self.attributes)]\n",
    "    def __len__(self):\n",
    "        return self.attributes.shape[0]\n",
    "    def __getitem__(self, i):\n",
    "        img_path = path.join(self.image_folder, self.attributes.iloc[i].image_path)\n",
    "        img = Image.open(img_path)\n",
    "        if self.transform is not None:\n",
    "            img = self.transform(img)\n",
    "        label = \"Male\" if self.attributes.iloc[i].Male == \"1\" else \"Female\"\n",
    "        return (img, label)\n",
    "    def parse_attributes(self, attr_list):\n",
    "        attributes = []\n",
    "        lines = open(attr_list).readlines()\n",
    "        columns = [\"image_path\"] + lines[1].split()\n",
    "        assert len(columns) == 41\n",
    "        for line in lines[2:]:\n",
    "            fields = line.split()\n",
    "            assert len(fields) == 41\n",
    "            attributes.append(fields)\n",
    "        return pd.DataFrame(attributes, columns=columns)\n",
    "    \n",
    "image_folder = \"/home/dola/ws/data/celebA/img_align_celeba/\"\n",
    "attr_list = \"/home/dola/ws/data/celebA/list_attr_celeba.txt\"\n",
    "transform = transforms.Compose([\n",
    "    transforms.Scale(64),\n",
    "    transforms.ToTensor()\n",
    "])\n",
    "\n",
    "males = CelebImages(image_folder, attr_list,\n",
    "                    [lambda df: df.Male == \"1\"],\n",
    "                    transform)\n",
    "females = CelebImages(image_folder, attr_list,\n",
    "                      [lambda df: df.Male == \"-1\"],\n",
    "                      transform)\n",
    "\n",
    "len(males), len(females)"
   ]
  },
  {
   "cell_type": "code",
   "execution_count": 138,
   "metadata": {
    "collapsed": false
   },
   "outputs": [],
   "source": [
    "## Better to implemente as image pairs\n",
    "\n",
    "class CelebMaleFemale(data.Dataset):\n",
    "    def __init__(self, image_folder, attr_list, transform=None):\n",
    "        self.image_folder = image_folder\n",
    "        self.attributes = self.parse_attributes(attr_list)\n",
    "        self.transform = transform\n",
    "        self.male_images = self.attributes[self.attributes.Male==\"1\"].image_path\n",
    "        self.female_images = self.attributes[self.attributes.Male==\"-1\"].image_path\n",
    "    def __len__(self):\n",
    "        return max(len(self.male_images), len(self.female_images))\n",
    "    def __getitem__(self, i):\n",
    "        imale = random.randint(0, len(self.male_images)-1)\n",
    "        male_img = Image.open(path.join(self.image_folder, self.male_images.iloc[imale]))\n",
    "        ifemale = random.randint(0, len(self.female_images)-1)\n",
    "        female_img = Image.open(path.join(self.image_folder, self.female_images.iloc[ifemale]))\n",
    "        if self.transform is not None:\n",
    "            male_img = self.transform(male_img)\n",
    "            female_img = self.transform(female_img)\n",
    "        return (male_img, female_img)\n",
    "    def parse_attributes(self, attr_list):\n",
    "        attributes = []\n",
    "        lines = open(attr_list).readlines()\n",
    "        columns = [\"image_path\"] + lines[1].split()\n",
    "        assert len(columns) == 41\n",
    "        for line in lines[2:]:\n",
    "            fields = line.split()\n",
    "            assert len(fields) == 41\n",
    "            attributes.append(fields)\n",
    "        return pd.DataFrame(attributes, columns=columns)"
   ]
  },
  {
   "cell_type": "code",
   "execution_count": 139,
   "metadata": {
    "collapsed": true
   },
   "outputs": [],
   "source": [
    "image_folder = \"/home/dola/ws/data/celebA/img_align_celeba/\"\n",
    "attr_list = \"/home/dola/ws/data/celebA/list_attr_celeba.txt\"\n",
    "transform = transforms.Compose([\n",
    "    transforms.Scale(64),\n",
    "    transforms.ToTensor()\n",
    "])\n",
    "celeb_images = CelebMaleFemale(image_folder, attr_list, transform)"
   ]
  },
  {
   "cell_type": "markdown",
   "metadata": {},
   "source": [
    "## Model"
   ]
  },
  {
   "cell_type": "markdown",
   "metadata": {},
   "source": [
    "### discriminator"
   ]
  },
  {
   "cell_type": "code",
   "execution_count": 111,
   "metadata": {
    "collapsed": true
   },
   "outputs": [],
   "source": [
    "class Discriminator(nn.Module):\n",
    "    \n",
    "    def __init__(self):\n",
    "        super(Discriminator, self).__init__()\n",
    "        self.cnn = nn.Sequential(\n",
    "            # conv1\n",
    "            nn.Conv2d(3, 64, kernel_size=4, stride=2, padding=1, bias=False), # (64-4+1*2)/2+1=32\n",
    "            nn.ELU(inplace=True),\n",
    "            # conv2\n",
    "            nn.Conv2d(64, 64*2, kernel_size=4, stride=2, padding=1, bias=False), #(32-4+1*2)/2+1=16\n",
    "            nn.BatchNorm2d(64*2),\n",
    "            nn.ELU(inplace=True),\n",
    "            # conv3\n",
    "            nn.Conv2d(64*2, 64*4, kernel_size=4, stride=2, padding=1, bias=False), #(16-4+2*1)/2+1=8\n",
    "            nn.BatchNorm2d(64*4),\n",
    "            nn.ELU(inplace=True),\n",
    "            # conv4\n",
    "            nn.Conv2d(64*4, 64*8, kernel_size=4, stride=2, padding=1, bias=False), #(8-4+2*1)/2+1=4\n",
    "            nn.BatchNorm2d(64*8),\n",
    "            nn.ELU(inplace=True),\n",
    "            # conv5\n",
    "            nn.Conv2d(64*8, 1, kernel_size=4, stride=1, padding=0, bias=False), #(4-4+0)/1+1=1\n",
    "        )\n",
    "    def forward(self, x):\n",
    "        out = self.cnn(x)\n",
    "        prob = F.sigmoid(out)\n",
    "        return prob"
   ]
  },
  {
   "cell_type": "code",
   "execution_count": 113,
   "metadata": {
    "collapsed": false
   },
   "outputs": [
    {
     "data": {
      "text/plain": [
       "torch.Size([1, 1, 1, 1])"
      ]
     },
     "execution_count": 113,
     "metadata": {},
     "output_type": "execute_result"
    }
   ],
   "source": [
    "d = Discriminator().cuda()\n",
    "x = Variable(torch.rand([1, 3, 64, 64])).cuda()\n",
    "d(x).size()"
   ]
  },
  {
   "cell_type": "markdown",
   "metadata": {},
   "source": [
    "### generator"
   ]
  },
  {
   "cell_type": "code",
   "execution_count": 129,
   "metadata": {
    "collapsed": true
   },
   "outputs": [],
   "source": [
    "class Generator(nn.Module):\n",
    "    def __init__(self):\n",
    "        super(Generator, self).__init__()\n",
    "        self.encoder = nn.Sequential(\n",
    "            # (64-4+2)/2+1=32\n",
    "            nn.Conv2d(3, 64, kernel_size=4, stride=2, padding=1, bias=False),\n",
    "            nn.ELU(inplace=True),\n",
    "            # (32-4+2)/2+1=16\n",
    "            nn.Conv2d(64, 64*2, kernel_size=4, stride=2, padding=1, bias=False),\n",
    "            nn.BatchNorm2d(64*2),\n",
    "            nn.ELU(inplace=True),\n",
    "            # (16-4+2)/2+1=8\n",
    "            nn.Conv2d(64*2, 64*4, kernel_size=4, stride=2, padding=1, bias=False),\n",
    "            nn.BatchNorm2d(64*4),\n",
    "            nn.ELU(inplace=True),\n",
    "            # (8-4+2)/2+1=4\n",
    "            nn.Conv2d(64*4, 64*8, kernel_size=4, stride=2, padding=1, bias=False),\n",
    "            nn.BatchNorm2d(64*8),\n",
    "            nn.ELU(inplace=True)\n",
    "        )\n",
    "        self.decoder = nn.Sequential(\n",
    "            # (4-1)*2+4-2=8\n",
    "            nn.ConvTranspose2d(64*8, 64*4, kernel_size=4, stride=2, padding=1, bias=False),\n",
    "            nn.BatchNorm2d(64*4),\n",
    "            nn.ELU(inplace=True),\n",
    "            # (8-1)*2+4-2=16\n",
    "            nn.ConvTranspose2d(64*4, 64*2, kernel_size=4, stride=2, padding=1, bias=False),\n",
    "            nn.BatchNorm2d(64*2),\n",
    "            nn.ELU(inplace=True),\n",
    "            # (16-1)*2+4-2=32\n",
    "            nn.ConvTranspose2d(64*2, 64, kernel_size=4, stride=2, padding=1, bias=False),\n",
    "            nn.BatchNorm2d(64),\n",
    "            nn.ELU(inplace=True),\n",
    "            # (32-1)*2+4-2=64\n",
    "            nn.ConvTranspose2d(64, 3, kernel_size=4, stride=2, padding=1, bias=False)\n",
    "        )\n",
    "    def forward(self, x):\n",
    "        out = self.encoder(x)\n",
    "        out = self.decoder(out)\n",
    "        out = F.sigmoid(out) # normalize to [0,1]\n",
    "        return out"
   ]
  },
  {
   "cell_type": "code",
   "execution_count": 130,
   "metadata": {
    "collapsed": false
   },
   "outputs": [
    {
     "data": {
      "text/plain": [
       "torch.Size([1, 3, 64, 64])"
      ]
     },
     "execution_count": 130,
     "metadata": {},
     "output_type": "execute_result"
    }
   ],
   "source": [
    "g = Generator().cuda()\n",
    "x = Variable(torch.rand([1, 3, 64, 64])).cuda()\n",
    "g(x).size()"
   ]
  },
  {
   "cell_type": "markdown",
   "metadata": {},
   "source": [
    "## Train"
   ]
  },
  {
   "cell_type": "code",
   "execution_count": 147,
   "metadata": {
    "collapsed": false
   },
   "outputs": [
    {
     "name": "stderr",
     "output_type": "stream",
     "text": [
      "Process Process-7:\n",
      "Process Process-8:\n",
      "Traceback (most recent call last):\n",
      "  File \"/home/dola/anaconda3/lib/python3.6/multiprocessing/process.py\", line 249, in _bootstrap\n",
      "    self.run()\n",
      "Traceback (most recent call last):\n",
      "  File \"/home/dola/anaconda3/lib/python3.6/multiprocessing/process.py\", line 249, in _bootstrap\n",
      "    self.run()\n",
      "  File \"/home/dola/anaconda3/lib/python3.6/multiprocessing/process.py\", line 93, in run\n",
      "    self._target(*self._args, **self._kwargs)\n",
      "  File \"/home/dola/anaconda3/lib/python3.6/multiprocessing/process.py\", line 93, in run\n",
      "    self._target(*self._args, **self._kwargs)\n",
      "  File \"/home/dola/anaconda3/lib/python3.6/site-packages/torch/utils/data/dataloader.py\", line 35, in _worker_loop\n",
      "    r = index_queue.get()\n",
      "  File \"/home/dola/anaconda3/lib/python3.6/site-packages/torch/utils/data/dataloader.py\", line 41, in _worker_loop\n",
      "    samples = collate_fn([dataset[i] for i in batch_indices])\n",
      "  File \"/home/dola/anaconda3/lib/python3.6/site-packages/torch/utils/data/dataloader.py\", line 41, in <listcomp>\n",
      "    samples = collate_fn([dataset[i] for i in batch_indices])\n",
      "  File \"<ipython-input-138-d79fbae7c2d5>\", line 19, in __getitem__\n",
      "    female_img = self.transform(female_img)\n",
      "KeyboardInterrupt\n",
      "  File \"/home/dola/anaconda3/lib/python3.6/multiprocessing/queues.py\", line 343, in get\n",
      "    res = self._reader.recv_bytes()\n",
      "  File \"/home/dola/anaconda3/lib/python3.6/multiprocessing/connection.py\", line 216, in recv_bytes\n",
      "    buf = self._recv_bytes(maxlength)\n",
      "  File \"/home/dola/anaconda3/lib/python3.6/multiprocessing/connection.py\", line 407, in _recv_bytes\n",
      "    buf = self._recv(4)\n",
      "  File \"/home/dola/anaconda3/lib/python3.6/multiprocessing/connection.py\", line 379, in _recv\n",
      "    chunk = read(handle, remaining)\n",
      "KeyboardInterrupt\n"
     ]
    },
    {
     "ename": "KeyboardInterrupt",
     "evalue": "",
     "output_type": "error",
     "traceback": [
      "\u001b[0;31m---------------------------------------------------------------------------\u001b[0m",
      "\u001b[0;31mKeyboardInterrupt\u001b[0m                         Traceback (most recent call last)",
      "\u001b[0;32m<ipython-input-147-14a439b90c0c>\u001b[0m in \u001b[0;36m<module>\u001b[0;34m()\u001b[0m\n\u001b[1;32m     15\u001b[0m     \u001b[0;32mfor\u001b[0m \u001b[0mmale_images\u001b[0m\u001b[0;34m,\u001b[0m \u001b[0mfemale_images\u001b[0m \u001b[0;32min\u001b[0m \u001b[0mimage_pairs\u001b[0m\u001b[0;34m:\u001b[0m\u001b[0;34m\u001b[0m\u001b[0m\n\u001b[1;32m     16\u001b[0m \u001b[0;34m\u001b[0m\u001b[0m\n\u001b[0;32m---> 17\u001b[0;31m         \u001b[0mmale\u001b[0m \u001b[0;34m=\u001b[0m \u001b[0mVariable\u001b[0m\u001b[0;34m(\u001b[0m\u001b[0mmale_images\u001b[0m\u001b[0;34m)\u001b[0m\u001b[0;34m.\u001b[0m\u001b[0mcuda\u001b[0m\u001b[0;34m(\u001b[0m\u001b[0;34m)\u001b[0m\u001b[0;34m\u001b[0m\u001b[0m\n\u001b[0m\u001b[1;32m     18\u001b[0m         \u001b[0mfemale\u001b[0m \u001b[0;34m=\u001b[0m \u001b[0mVariable\u001b[0m\u001b[0;34m(\u001b[0m\u001b[0mfemale_images\u001b[0m\u001b[0;34m)\u001b[0m\u001b[0;34m.\u001b[0m\u001b[0mcuda\u001b[0m\u001b[0;34m(\u001b[0m\u001b[0;34m)\u001b[0m\u001b[0;34m\u001b[0m\u001b[0m\n\u001b[1;32m     19\u001b[0m \u001b[0;34m\u001b[0m\u001b[0m\n",
      "\u001b[0;32m/home/dola/anaconda3/lib/python3.6/site-packages/torch/autograd/variable.py\u001b[0m in \u001b[0;36mcuda\u001b[0;34m(self, device_id, async)\u001b[0m\n\u001b[1;32m    241\u001b[0m \u001b[0;34m\u001b[0m\u001b[0m\n\u001b[1;32m    242\u001b[0m     \u001b[0;32mdef\u001b[0m \u001b[0mcuda\u001b[0m\u001b[0;34m(\u001b[0m\u001b[0mself\u001b[0m\u001b[0;34m,\u001b[0m \u001b[0mdevice_id\u001b[0m\u001b[0;34m=\u001b[0m\u001b[0;32mNone\u001b[0m\u001b[0;34m,\u001b[0m \u001b[0masync\u001b[0m\u001b[0;34m=\u001b[0m\u001b[0;32mFalse\u001b[0m\u001b[0;34m)\u001b[0m\u001b[0;34m:\u001b[0m\u001b[0;34m\u001b[0m\u001b[0m\n\u001b[0;32m--> 243\u001b[0;31m         \u001b[0;32mreturn\u001b[0m \u001b[0mCudaTransfer\u001b[0m\u001b[0;34m(\u001b[0m\u001b[0mdevice_id\u001b[0m\u001b[0;34m,\u001b[0m \u001b[0masync\u001b[0m\u001b[0;34m)\u001b[0m\u001b[0;34m(\u001b[0m\u001b[0mself\u001b[0m\u001b[0;34m)\u001b[0m\u001b[0;34m\u001b[0m\u001b[0m\n\u001b[0m\u001b[1;32m    244\u001b[0m \u001b[0;34m\u001b[0m\u001b[0m\n\u001b[1;32m    245\u001b[0m     \u001b[0;32mdef\u001b[0m \u001b[0mcpu\u001b[0m\u001b[0;34m(\u001b[0m\u001b[0mself\u001b[0m\u001b[0;34m)\u001b[0m\u001b[0;34m:\u001b[0m\u001b[0;34m\u001b[0m\u001b[0m\n",
      "\u001b[0;32m/home/dola/anaconda3/lib/python3.6/site-packages/torch/autograd/_functions/tensor.py\u001b[0m in \u001b[0;36mforward\u001b[0;34m(self, i)\u001b[0m\n\u001b[1;32m    158\u001b[0m             \u001b[0;32mreturn\u001b[0m \u001b[0mi\u001b[0m\u001b[0;34m.\u001b[0m\u001b[0mcuda\u001b[0m\u001b[0;34m(\u001b[0m\u001b[0mself\u001b[0m\u001b[0;34m.\u001b[0m\u001b[0mdevice_id\u001b[0m\u001b[0;34m,\u001b[0m \u001b[0masync\u001b[0m\u001b[0;34m=\u001b[0m\u001b[0mself\u001b[0m\u001b[0;34m.\u001b[0m\u001b[0masync\u001b[0m\u001b[0;34m)\u001b[0m\u001b[0;34m\u001b[0m\u001b[0m\n\u001b[1;32m    159\u001b[0m         \u001b[0;32melse\u001b[0m\u001b[0;34m:\u001b[0m\u001b[0;34m\u001b[0m\u001b[0m\n\u001b[0;32m--> 160\u001b[0;31m             \u001b[0;32mreturn\u001b[0m \u001b[0mi\u001b[0m\u001b[0;34m.\u001b[0m\u001b[0mcuda\u001b[0m\u001b[0;34m(\u001b[0m\u001b[0masync\u001b[0m\u001b[0;34m=\u001b[0m\u001b[0mself\u001b[0m\u001b[0;34m.\u001b[0m\u001b[0masync\u001b[0m\u001b[0;34m)\u001b[0m\u001b[0;34m\u001b[0m\u001b[0m\n\u001b[0m\u001b[1;32m    161\u001b[0m \u001b[0;34m\u001b[0m\u001b[0m\n\u001b[1;32m    162\u001b[0m     \u001b[0;32mdef\u001b[0m \u001b[0mbackward\u001b[0m\u001b[0;34m(\u001b[0m\u001b[0mself\u001b[0m\u001b[0;34m,\u001b[0m \u001b[0mgrad_output\u001b[0m\u001b[0;34m)\u001b[0m\u001b[0;34m:\u001b[0m\u001b[0;34m\u001b[0m\u001b[0m\n",
      "\u001b[0;32m/home/dola/anaconda3/lib/python3.6/site-packages/torch/_utils.py\u001b[0m in \u001b[0;36m_cuda\u001b[0;34m(self, device, async)\u001b[0m\n\u001b[1;32m     63\u001b[0m         \u001b[0;32melse\u001b[0m\u001b[0;34m:\u001b[0m\u001b[0;34m\u001b[0m\u001b[0m\n\u001b[1;32m     64\u001b[0m             \u001b[0mnew_type\u001b[0m \u001b[0;34m=\u001b[0m \u001b[0mgetattr\u001b[0m\u001b[0;34m(\u001b[0m\u001b[0mtorch\u001b[0m\u001b[0;34m.\u001b[0m\u001b[0mcuda\u001b[0m\u001b[0;34m,\u001b[0m \u001b[0mself\u001b[0m\u001b[0;34m.\u001b[0m\u001b[0m__class__\u001b[0m\u001b[0;34m.\u001b[0m\u001b[0m__name__\u001b[0m\u001b[0;34m)\u001b[0m\u001b[0;34m\u001b[0m\u001b[0m\n\u001b[0;32m---> 65\u001b[0;31m             \u001b[0;32mreturn\u001b[0m \u001b[0mnew_type\u001b[0m\u001b[0;34m(\u001b[0m\u001b[0mself\u001b[0m\u001b[0;34m.\u001b[0m\u001b[0msize\u001b[0m\u001b[0;34m(\u001b[0m\u001b[0;34m)\u001b[0m\u001b[0;34m)\u001b[0m\u001b[0;34m.\u001b[0m\u001b[0mcopy_\u001b[0m\u001b[0;34m(\u001b[0m\u001b[0mself\u001b[0m\u001b[0;34m,\u001b[0m \u001b[0masync\u001b[0m\u001b[0;34m)\u001b[0m\u001b[0;34m\u001b[0m\u001b[0m\n\u001b[0m\u001b[1;32m     66\u001b[0m \u001b[0;34m\u001b[0m\u001b[0m\n\u001b[1;32m     67\u001b[0m \u001b[0;34m\u001b[0m\u001b[0m\n",
      "\u001b[0;31mKeyboardInterrupt\u001b[0m: "
     ]
    }
   ],
   "source": [
    "n_epochs = 5\n",
    "batch_size = 128\n",
    "\n",
    "generator_male = Generator().cuda()\n",
    "generator_female = Generator().cuda()\n",
    "discriminator_male = Discriminator().cuda()\n",
    "discriminator_female = Discriminator().cuda()\n",
    "\n",
    "reconstruction_objective = nn.MSELoss()\n",
    "gan_criterion = nn.BCELoss()\n",
    "\n",
    "image_pairs = data.DataLoader(celeb_images, batch_size=batch_size, shuffle=False, num_workers=2)\n",
    "\n",
    "for epoch in range(n_epochs):\n",
    "    for male_images, female_images in image_pairs:\n",
    "        \n",
    "        ## variables\n",
    "        \n",
    "        male = Variable(male_images).cuda()\n",
    "        female = Variable(female_images).cuda()\n",
    "        \n",
    "        male2female = generator_female(male)\n",
    "        female2male = generator_male(female)\n",
    "        \n",
    "        male2female2male = generator_male(male2female)\n",
    "        female2male2female = generator_female(female2male)\n",
    "        \n",
    "        ## reconstruction loss\n",
    "        recon_loss_male = reconstruction_objective(male, male2female2male)\n",
    "        recon_loss_female = reconstruction_objective(female, female2male2female)\n",
    "        \n",
    "        "
   ]
  },
  {
   "cell_type": "code",
   "execution_count": null,
   "metadata": {
    "collapsed": true
   },
   "outputs": [],
   "source": []
  }
 ],
 "metadata": {
  "kernelspec": {
   "display_name": "Python 3",
   "language": "python",
   "name": "python3"
  },
  "language_info": {
   "codemirror_mode": {
    "name": "ipython",
    "version": 3
   },
   "file_extension": ".py",
   "mimetype": "text/x-python",
   "name": "python",
   "nbconvert_exporter": "python",
   "pygments_lexer": "ipython3",
   "version": "3.6.0"
  }
 },
 "nbformat": 4,
 "nbformat_minor": 2
}
