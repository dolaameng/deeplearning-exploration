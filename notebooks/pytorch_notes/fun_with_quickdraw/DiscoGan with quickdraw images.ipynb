{
 "cells": [
  {
   "cell_type": "code",
   "execution_count": 1,
   "metadata": {
    "collapsed": true
   },
   "outputs": [],
   "source": [
    "import numpy as np\n",
    "import matplotlib.pyplot as plt\n",
    "import random\n",
    "\n",
    "%matplotlib inline"
   ]
  },
  {
   "cell_type": "code",
   "execution_count": 2,
   "metadata": {
    "collapsed": true
   },
   "outputs": [],
   "source": [
    "import torch\n",
    "from torch.autograd import Variable\n",
    "from torch.utils import data\n",
    "from torch import nn, optim\n",
    "from torch.nn import functional as F\n",
    "from torchvision import transforms\n",
    "\n",
    "from itertools import chain\n",
    "import pickle"
   ]
  },
  {
   "cell_type": "code",
   "execution_count": 3,
   "metadata": {},
   "outputs": [
    {
     "data": {
      "text/plain": [
       "((161666, 28, 28), (135420, 28, 28))"
      ]
     },
     "execution_count": 3,
     "metadata": {},
     "output_type": "execute_result"
    }
   ],
   "source": [
    "faces = np.load(\"../../../data/quickdraw/face.npy\").reshape([-1, 28, 28])\n",
    "houses = np.load(\"../../../data/quickdraw/house.npy\").reshape([-1, 28, 28])\n",
    "faces.shape, houses.shape"
   ]
  },
  {
   "cell_type": "code",
   "execution_count": 4,
   "metadata": {
    "collapsed": true
   },
   "outputs": [],
   "source": [
    "faces = (faces / 255.).astype(np.float32)\n",
    "houses = (houses / 255.).astype(np.float32)"
   ]
  },
  {
   "cell_type": "code",
   "execution_count": 5,
   "metadata": {},
   "outputs": [
    {
     "data": {
      "text/plain": [
       "<matplotlib.image.AxesImage at 0x7f4acbef27b8>"
      ]
     },
     "execution_count": 5,
     "metadata": {},
     "output_type": "execute_result"
    },
    {
     "data": {
      "image/png": "[encoded data removed]",
      "text/plain": [
       "<matplotlib.figure.Figure at 0x7f4acbff6160>"
      ]
     },
     "metadata": {},
     "output_type": "display_data"
    }
   ],
   "source": [
    "fig, axes = plt.subplots(1, 2, figsize=(6, 3))\n",
    "\n",
    "axes[0].imshow(faces[random.randint(0, faces.shape[0]-1)], cmap=plt.cm.gray)\n",
    "axes[1].imshow(houses[random.randint(0, houses.shape[0]-1)], cmap=plt.cm.gray)"
   ]
  },
  {
   "cell_type": "code",
   "execution_count": 6,
   "metadata": {},
   "outputs": [
    {
     "data": {
      "text/plain": [
       "(0.0, 1.0, dtype('float32'))"
      ]
     },
     "execution_count": 6,
     "metadata": {},
     "output_type": "execute_result"
    }
   ],
   "source": [
    "faces.min(), faces.max(), faces.dtype"
   ]
  },
  {
   "cell_type": "markdown",
   "metadata": {},
   "source": [
    "## preprocessing and dataset"
   ]
  },
  {
   "cell_type": "code",
   "execution_count": 7,
   "metadata": {
    "collapsed": true
   },
   "outputs": [],
   "source": [
    "class FaceHouseDataset(data.Dataset):\n",
    "    def __init__(self, faces, houses, transform=None):\n",
    "        self.faces = np.expand_dims(faces, axis=-1)\n",
    "        self.houses = np.expand_dims(houses, axis=-1)\n",
    "        self.transform = transform\n",
    "    def __len__(self):\n",
    "        return max(self.faces.shape[0], self.houses.shape[0])\n",
    "    def __getitem__(self, i):\n",
    "        iface = random.randint(0, self.faces.shape[0]-1)\n",
    "        ihouse = random.randint(0, self.houses.shape[0]-1)\n",
    "        face = self.faces[iface]\n",
    "        house = self.houses[ihouse]\n",
    "        if self.transform:\n",
    "            face, house = self.transform(face), self.transform(house)\n",
    "        return (face, house)"
   ]
  },
  {
   "cell_type": "code",
   "execution_count": 8,
   "metadata": {},
   "outputs": [
    {
     "data": {
      "text/plain": [
       "(torch.Size([1, 28, 28]), torch.Size([1, 28, 28]))"
      ]
     },
     "execution_count": 8,
     "metadata": {},
     "output_type": "execute_result"
    }
   ],
   "source": [
    "## test dataset\n",
    "fh_dataset = FaceHouseDataset(faces, houses, transform=transforms.ToTensor())\n",
    "face, house = fh_dataset[0]\n",
    "face.size(), house.size()"
   ]
  },
  {
   "cell_type": "markdown",
   "metadata": {},
   "source": [
    "## model"
   ]
  },
  {
   "cell_type": "markdown",
   "metadata": {},
   "source": [
    "### discriminator"
   ]
  },
  {
   "cell_type": "code",
   "execution_count": 9,
   "metadata": {
    "collapsed": true
   },
   "outputs": [],
   "source": [
    "class Discriminator(nn.Module):\n",
    "    \n",
    "    def __init__(self):\n",
    "        super(Discriminator, self).__init__()\n",
    "        self.cnn1 = nn.Sequential(\n",
    "            # conv1\n",
    "            nn.Conv2d(1, 64, kernel_size=4, stride=2, padding=1, bias=False), # (28-4+1*2)/2+1=14\n",
    "            nn.ELU(inplace=True)\n",
    "        )\n",
    "        self.cnn2 = nn.Sequential(\n",
    "            # conv2\n",
    "            nn.Conv2d(64, 64*2, kernel_size=4, stride=2, padding=1, bias=False), #(14-4+1*2)/2+1=7\n",
    "            nn.BatchNorm2d(64*2),\n",
    "            nn.ELU(inplace=True),\n",
    "        )\n",
    "        self.cnn3 = nn.Sequential(\n",
    "            # conv3\n",
    "            nn.Conv2d(64*2, 64*4, kernel_size=3, stride=2, padding=1, bias=False), #(7-3+2*1)/2+1=4\n",
    "            nn.BatchNorm2d(64*4),\n",
    "            nn.ELU(inplace=True),\n",
    "        )\n",
    "        self.cnn4 = nn.Sequential(\n",
    "            # conv4\n",
    "            nn.Conv2d(64*4, 64*8, kernel_size=4, stride=2, padding=1, bias=False), #(4-4+2*1)/2+1=2\n",
    "            nn.BatchNorm2d(64*8),\n",
    "            nn.ELU(inplace=True),\n",
    "        )\n",
    "        self.cnn5 = nn.Sequential(\n",
    "            # conv5\n",
    "            nn.Conv2d(64*8, 1, kernel_size=2, stride=1, padding=0, bias=False), #(2-2+0)/1+1=1\n",
    "        )\n",
    "    def forward(self, x):\n",
    "        out1 = self.cnn1(x)\n",
    "        out2 = self.cnn2(out1)\n",
    "        out3 = self.cnn3(out2)\n",
    "        out4 = self.cnn4(out3)\n",
    "        out = self.cnn5(out4)\n",
    "        prob = F.sigmoid(out).view([x.size(0), 1])\n",
    "        return prob, [out2, out3, out4]"
   ]
  },
  {
   "cell_type": "code",
   "execution_count": 10,
   "metadata": {},
   "outputs": [
    {
     "data": {
      "text/plain": [
       "torch.Size([16, 1])"
      ]
     },
     "execution_count": 10,
     "metadata": {},
     "output_type": "execute_result"
    }
   ],
   "source": [
    "## test discriminator\n",
    "d = Discriminator().cuda()\n",
    "x = Variable(torch.rand([16, 1, 28, 28])).cuda()\n",
    "prob, feats = d(x)\n",
    "prob.size()"
   ]
  },
  {
   "cell_type": "markdown",
   "metadata": {},
   "source": [
    "### generator\n",
    "\n",
    "Mapping from category A -> category B and vice versa"
   ]
  },
  {
   "cell_type": "code",
   "execution_count": 11,
   "metadata": {
    "collapsed": true
   },
   "outputs": [],
   "source": [
    "class Generator(nn.Module):\n",
    "    def __init__(self):\n",
    "        super(Generator, self).__init__()\n",
    "        self.encoder = nn.Sequential(\n",
    "            # (28-4+2)/2+1=14\n",
    "            nn.Conv2d(1, 64, kernel_size=4, stride=2, padding=1, bias=False),\n",
    "            nn.ELU(inplace=True),\n",
    "            # (14-4+2)/2+1=7\n",
    "            nn.Conv2d(64, 64*2, kernel_size=4, stride=2, padding=1, bias=False),\n",
    "            nn.BatchNorm2d(64*2),\n",
    "            nn.ELU(inplace=True),\n",
    "            # (7-3+2)/2+1=4\n",
    "            nn.Conv2d(64*2, 64*4, kernel_size=3, stride=2, padding=1, bias=False),\n",
    "            nn.BatchNorm2d(64*4),\n",
    "            nn.ELU(inplace=True),\n",
    "            # (4-4+2)/2+1=2\n",
    "            nn.Conv2d(64*4, 64*8, kernel_size=4, stride=2, padding=1, bias=False),\n",
    "            nn.BatchNorm2d(64*8),\n",
    "            nn.ELU(inplace=True)\n",
    "        )\n",
    "        self.decoder = nn.Sequential(\n",
    "            # (2-1)*2+4-2=4\n",
    "            nn.ConvTranspose2d(64*8, 64*4, kernel_size=4, stride=2, padding=1, bias=False),\n",
    "            nn.BatchNorm2d(64*4),\n",
    "            nn.ELU(inplace=True),\n",
    "            # (4-1)*2+3-2=7\n",
    "            nn.ConvTranspose2d(64*4, 64*2, kernel_size=3, stride=2, padding=1, bias=False),\n",
    "            nn.BatchNorm2d(64*2),\n",
    "            nn.ELU(inplace=True),\n",
    "            # (7-1)*2+4-2=14\n",
    "            nn.ConvTranspose2d(64*2, 64, kernel_size=4, stride=2, padding=1, bias=False),\n",
    "            nn.BatchNorm2d(64),\n",
    "            nn.ELU(inplace=True),\n",
    "            # (14-1)*2+4-2=28\n",
    "            nn.ConvTranspose2d(64, 1, kernel_size=4, stride=2, padding=1, bias=False)\n",
    "        )\n",
    "    def forward(self, x):\n",
    "        out = self.encoder(x)\n",
    "        out = self.decoder(out)\n",
    "        out = F.sigmoid(out) # normalize to [0,1]\n",
    "        return out"
   ]
  },
  {
   "cell_type": "code",
   "execution_count": 12,
   "metadata": {},
   "outputs": [
    {
     "data": {
      "text/plain": [
       "torch.Size([16, 1, 28, 28])"
      ]
     },
     "execution_count": 12,
     "metadata": {},
     "output_type": "execute_result"
    }
   ],
   "source": [
    "## test generator\n",
    "g = Generator().cuda()\n",
    "x = Variable(torch.rand([16, 1, 28, 28])).cuda()\n",
    "g(x).size()"
   ]
  },
  {
   "cell_type": "markdown",
   "metadata": {},
   "source": [
    "## train"
   ]
  },
  {
   "cell_type": "code",
   "execution_count": 13,
   "metadata": {},
   "outputs": [
    {
     "data": {
      "text/plain": [
       "Discriminator (\n",
       "  (cnn1): Sequential (\n",
       "    (0): Conv2d(1, 64, kernel_size=(4, 4), stride=(2, 2), padding=(1, 1), bias=False)\n",
       "    (1): ELU (alpha=1.0, inplace)\n",
       "  )\n",
       "  (cnn2): Sequential (\n",
       "    (0): Conv2d(64, 128, kernel_size=(4, 4), stride=(2, 2), padding=(1, 1), bias=False)\n",
       "    (1): BatchNorm2d(128, eps=1e-05, momentum=0.1, affine=True)\n",
       "    (2): ELU (alpha=1.0, inplace)\n",
       "  )\n",
       "  (cnn3): Sequential (\n",
       "    (0): Conv2d(128, 256, kernel_size=(3, 3), stride=(2, 2), padding=(1, 1), bias=False)\n",
       "    (1): BatchNorm2d(256, eps=1e-05, momentum=0.1, affine=True)\n",
       "    (2): ELU (alpha=1.0, inplace)\n",
       "  )\n",
       "  (cnn4): Sequential (\n",
       "    (0): Conv2d(256, 512, kernel_size=(4, 4), stride=(2, 2), padding=(1, 1), bias=False)\n",
       "    (1): BatchNorm2d(512, eps=1e-05, momentum=0.1, affine=True)\n",
       "    (2): ELU (alpha=1.0, inplace)\n",
       "  )\n",
       "  (cnn5): Sequential (\n",
       "    (0): Conv2d(512, 1, kernel_size=(2, 2), stride=(1, 1), bias=False)\n",
       "  )\n",
       ")"
      ]
     },
     "execution_count": 13,
     "metadata": {},
     "output_type": "execute_result"
    }
   ],
   "source": [
    "batch_size = 256\n",
    "\n",
    "generator_f2h = Generator().cuda() # face -> house\n",
    "generator_h2f = Generator().cuda() # house -> face\n",
    "discriminator_f = Discriminator().cuda() # face -> real/fake\n",
    "discriminator_h = Discriminator().cuda() # house -> real/fake\n",
    "\n",
    "generator_f2h.train()\n",
    "generator_h2f.train()\n",
    "discriminator_f.train()\n",
    "discriminator_h.train()"
   ]
  },
  {
   "cell_type": "code",
   "execution_count": 14,
   "metadata": {
    "collapsed": true
   },
   "outputs": [],
   "source": [
    "reconstruction_objective = nn.MSELoss()\n",
    "gan_objective = nn.BCELoss()\n",
    "\n",
    "# feature matching feat objective helps converge\n",
    "feat_objective = nn.HingeEmbeddingLoss() \n",
    "def get_feat_loss(real_feats, fake_feats):\n",
    "    loss = 0\n",
    "    for real_feat, fake_feat in zip(real_feats, fake_feats):\n",
    "        l2 = torch.pow(real_feat.mean(0)-fake_feat.mean(0), 2)\n",
    "        loss += feat_objective(l2, Variable(torch.ones(l2.size())).cuda())\n",
    "    return loss\n",
    "\n",
    "## we have to train generators together (the same with discrinators) because\n",
    "## the loss depends on both encoders and decoders\n",
    "generator_params = chain(generator_f2h.parameters(), generator_h2f.parameters())\n",
    "discriminator_params = chain(discriminator_f.parameters(), discriminator_h.parameters())\n",
    "gen_optimizer = optim.Adam(generator_params, lr=5e-4)\n",
    "dis_optimizer = optim.Adam(discriminator_params, lr=5e-4)\n",
    "\n",
    "\n",
    "image_pairs = data.DataLoader(fh_dataset, batch_size=batch_size, \n",
    "                              shuffle=False, num_workers=4)"
   ]
  },
  {
   "cell_type": "code",
   "execution_count": null,
   "metadata": {
    "collapsed": true
   },
   "outputs": [],
   "source": [
    "n_epochs = 10\n",
    "\n",
    "iters = 0\n",
    "for epoch in range(n_epochs):\n",
    "    for b, (face_images, house_images) in enumerate(image_pairs):\n",
    "        iters += 1\n",
    "        \n",
    "        ## input variables        \n",
    "        f = Variable(face_images).cuda()\n",
    "        h = Variable(house_images).cuda()\n",
    "        \n",
    "        ## generator variables\n",
    "        f2h = generator_f2h(f)\n",
    "        h2f = generator_h2f(h)\n",
    "        \n",
    "        f2h2f = generator_h2f(f2h)\n",
    "        h2f2h = generator_f2h(h2f)\n",
    "        \n",
    "        ## discriminator variables\n",
    "        f_is_f, f_feat = discriminator_f(f)\n",
    "        h2f_is_f, h2f_feat = discriminator_f(h2f)\n",
    "        \n",
    "        h_is_h, h_feat = discriminator_h(h)\n",
    "        f2h_is_h, f2h_feat = discriminator_h(f2h)\n",
    "        \n",
    "        n = f.size(0)\n",
    "        label1 = Variable(torch.ones(n, 1)).cuda()\n",
    "        label0 = Variable(torch.zeros(n, 1)).cuda()\n",
    "        \n",
    "        ## generator reconstruction loss\n",
    "        gen_f_recon_loss = reconstruction_objective(f2h2f, f)\n",
    "        gen_h_recon_loss = reconstruction_objective(h2f2h, h)\n",
    "        \n",
    "        ## generator gan loss\n",
    "        generator_f_gan_loss = gan_objective(h2f_is_f, label1)\n",
    "        generator_h_gan_loss = gan_objective(f2h_is_h, label1)\n",
    "        \n",
    "        ## generator feat loss\n",
    "        generator_f_feat_loss = get_feat_loss(f_feat, h2f_feat)\n",
    "        generator_h_feat_loss = get_feat_loss(h_feat, f2h_feat)\n",
    "        \n",
    "        ## generator loss\n",
    "        rate = 0.01 if iters < 10000 else 0.5\n",
    "        generator_f_loss = (1-rate)*(generator_f_gan_loss*0.1+generator_f_feat_loss*0.9) + rate*gen_f_recon_loss\n",
    "        generator_h_loss = (1-rate)*(generator_h_gan_loss*0.1+generator_h_feat_loss*0.9) + rate*gen_h_recon_loss\n",
    "        \n",
    "        generator_loss = generator_f_loss + generator_h_loss\n",
    "        \n",
    "        ## discriminator gan loss\n",
    "        discriminator_f_loss = gan_objective(f_is_f, label1)*.5 + gan_objective(h2f_is_f, label0)*.5\n",
    "        discriminator_h_loss = gan_objective(h_is_h, label1)*.5 + gan_objective(f2h_is_h, label0)*.5\n",
    "        \n",
    "        discriminator_loss = discriminator_f_loss + discriminator_h_loss\n",
    "        \n",
    "        ## update\n",
    "        if b % 10 == 0:\n",
    "            discriminator_f.zero_grad()\n",
    "            discriminator_h.zero_grad()\n",
    "            discriminator_loss.backward()\n",
    "            dis_optimizer.step()\n",
    "        else:\n",
    "            generator_f2h.zero_grad()\n",
    "            generator_h2f.zero_grad()\n",
    "            generator_loss.backward()\n",
    "            gen_optimizer.step()\n",
    "        \n",
    "        ## report\n",
    "        if b % 50 == 0:\n",
    "            print(epoch, b, generator_loss.data[0], discriminator_loss.data[0])\n",
    "            print(\"==>g_f_loss=%.2f, g_h_loss=%.2f, d_f_loss=%.2f, d_h_loss=%.2f\" % (generator_f_loss.data[0],\n",
    "                                                                                    generator_h_loss.data[0],\n",
    "                                                                                    discriminator_f_loss.data[0],\n",
    "                                                                                    discriminator_h_loss.data[0]))\n",
    "            pickle.dump(generator_f2h.state_dict(), open(\"../../../models/generator_f2h.pkl\", \"wb\"))\n",
    "            pickle.dump(generator_h2f.state_dict(), open(\"../../../models/generator_h2f.pkl\", \"wb\"))\n",
    "            pickle.dump(discriminator_f.state_dict(), open(\"../../../models/discriminator_f.pkl\", \"wb\"))\n",
    "            pickle.dump(discriminator_h.state_dict(), open(\"../../../models/discriminator_h.pkl\", \"wb\"))"
   ]
  },
  {
   "cell_type": "markdown",
   "metadata": {},
   "source": [
    "## generation"
   ]
  },
  {
   "cell_type": "code",
   "execution_count": 13,
   "metadata": {
    "collapsed": true
   },
   "outputs": [],
   "source": [
    "generator_f2h = Generator().cuda() # face -> house\n",
    "generator_h2f = Generator().cuda() # house -> face\n",
    "discriminator_f = Discriminator().cuda() # face -> real/fake\n",
    "discriminator_h = Discriminator().cuda() # house -> real/fake\n",
    "\n",
    "generator_f2h.load_state_dict(torch.load(open(\"../../../models-bk/generator_f2h.pkl\", \"rb\")))\n",
    "generator_h2f.load_state_dict(torch.load(open(\"../../../models-bk/generator_h2f.pkl\", \"rb\")))\n",
    "discriminator_f.load_state_dict(torch.load(open(\"../../../models-bk/discriminator_f.pkl\", \"rb\")))\n",
    "discriminator_h.load_state_dict(torch.load(open(\"../../../models-bk/discriminator_h.pkl\", \"rb\")))"
   ]
  },
  {
   "cell_type": "code",
   "execution_count": 14,
   "metadata": {
    "collapsed": true
   },
   "outputs": [],
   "source": [
    "generator_f2h.eval()\n",
    "generator_h2f.eval()\n",
    "discriminator_f.eval()\n",
    "discriminator_h.eval()\n",
    "p = transforms.ToPILImage()"
   ]
  },
  {
   "cell_type": "code",
   "execution_count": 18,
   "metadata": {
    "collapsed": true
   },
   "outputs": [],
   "source": [
    "face, house = fh_dataset[random.randint(0, len(fh_dataset)-1)]\n",
    "face2house = generator_f2h(Variable(face).cuda()[None, ...])\n",
    "house2face = generator_h2f(Variable(house).cuda()[None, ...])"
   ]
  },
  {
   "cell_type": "code",
   "execution_count": 19,
   "metadata": {},
   "outputs": [
    {
     "data": {
      "text/plain": [
       "<matplotlib.text.Text at 0x7f4acbda8b38>"
      ]
     },
     "execution_count": 19,
     "metadata": {},
     "output_type": "execute_result"
    },
    {
     "data": {
      "image/png": "[encoded data removed]",
      "text/plain": [
       "<matplotlib.figure.Figure at 0x7f4acb8cdef0>"
      ]
     },
     "metadata": {},
     "output_type": "display_data"
    },
    {
     "data": {
      "image/png": "[encoded data removed]",
      "text/plain": [
       "<matplotlib.figure.Figure at 0x7f4acb921630>"
      ]
     },
     "metadata": {},
     "output_type": "display_data"
    }
   ],
   "source": [
    "plt.imshow(face.numpy().squeeze(), cmap=plt.cm.gray)\n",
    "plt.title(\"face is real :%.2f\"%discriminator_f(Variable(face).cuda()[None, ...])[0].data.squeeze()[0])\n",
    "plt.figure()\n",
    "plt.imshow(face2house.cpu().data.numpy().squeeze(), cmap=plt.cm.gray)\n",
    "plt.title(\"house generated from face is real :%.2f\"%discriminator_h(face2house)[0].data.squeeze()[0])"
   ]
  },
  {
   "cell_type": "code",
   "execution_count": 20,
   "metadata": {},
   "outputs": [
    {
     "data": {
      "text/plain": [
       "<matplotlib.text.Text at 0x7f4acb8204e0>"
      ]
     },
     "execution_count": 20,
     "metadata": {},
     "output_type": "execute_result"
    },
    {
     "data": {
      "image/png": "[encoded data removed]",
      "text/plain": [
       "<matplotlib.figure.Figure at 0x7f4acba809b0>"
      ]
     },
     "metadata": {},
     "output_type": "display_data"
    },
    {
     "data": {
      "image/png": "[encoded data removed]",
      "text/plain": [
       "<matplotlib.figure.Figure at 0x7f4ab73fdc50>"
      ]
     },
     "metadata": {},
     "output_type": "display_data"
    }
   ],
   "source": [
    "plt.imshow(house.numpy().squeeze(), cmap=plt.cm.gray)\n",
    "plt.title(\"house is real :%.2f\"%discriminator_h(Variable(house).cuda()[None, ...])[0].data.squeeze()[0])\n",
    "plt.figure()\n",
    "plt.imshow(house2face.cpu().data.numpy().squeeze(), cmap=plt.cm.gray)\n",
    "plt.title(\"face generated from house is real :%.2f\"%discriminator_h(house2face)[0].data.squeeze()[0])"
   ]
  },
  {
   "cell_type": "code",
   "execution_count": 134,
   "metadata": {
    "collapsed": true
   },
   "outputs": [],
   "source": [
    "torch.nn.LeakyReLU?"
   ]
  },
  {
   "cell_type": "code",
   "execution_count": null,
   "metadata": {
    "collapsed": true
   },
   "outputs": [],
   "source": []
  }
 ],
 "metadata": {
  "kernelspec": {
   "display_name": "Python 3",
   "language": "python",
   "name": "python3"
  },
  "language_info": {
   "codemirror_mode": {
    "name": "ipython",
    "version": 3
   },
   "file_extension": ".py",
   "mimetype": "text/x-python",
   "name": "python",
   "nbconvert_exporter": "python",
   "pygments_lexer": "ipython3",
   "version": "3.6.1"
  }
 },
 "nbformat": 4,
 "nbformat_minor": 2
}
