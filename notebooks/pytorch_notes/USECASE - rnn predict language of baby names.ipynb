{
 "cells": [
  {
   "cell_type": "markdown",
   "metadata": {},
   "source": [
    "## Trying RNN with variable-length sequence\n",
    "\n",
    "- [tutorial and data](http://pytorch.org/tutorials/intermediate/char_rnn_classification_tutorial.html#sphx-glr-intermediate-char-rnn-classification-tutorial-py)"
   ]
  },
  {
   "cell_type": "code",
   "execution_count": 1,
   "metadata": {
    "collapsed": false
   },
   "outputs": [],
   "source": [
    "import numpy as np\n",
    "import matplotlib.pyplot as plt\n",
    "import pandas as pd\n",
    "\n",
    "%matplotlib inline"
   ]
  },
  {
   "cell_type": "code",
   "execution_count": 2,
   "metadata": {
    "collapsed": false
   },
   "outputs": [],
   "source": [
    "import torch\n",
    "from torch.autograd import Variable\n",
    "import torch.nn.functional as F\n",
    "from torch import nn, optim\n",
    "from torch.utils import data\n",
    "from torch.nn import utils"
   ]
  },
  {
   "cell_type": "code",
   "execution_count": 3,
   "metadata": {
    "collapsed": true
   },
   "outputs": [],
   "source": [
    "from glob import glob"
   ]
  },
  {
   "cell_type": "code",
   "execution_count": 4,
   "metadata": {
    "collapsed": false
   },
   "outputs": [],
   "source": [
    "def load_names(name_dir):\n",
    "    dfs = []\n",
    "    for f in glob(name_dir + \"/*.txt\"):\n",
    "        names = [n.strip().lower() for n in open(f, \"r\").readlines()]\n",
    "        langage = f.rsplit(\"/\")[-1][:-4]\n",
    "        df = pd.DataFrame({\"name\": names, \"language\": langage})\n",
    "        dfs.append(df)\n",
    "    return pd.concat(dfs, axis=0, ignore_index=True)[[\"name\", \"language\"]]\n",
    "\n",
    "name_df = load_names(\"/Users/pmal252d/ws/data/babynames/names/\")"
   ]
  },
  {
   "cell_type": "code",
   "execution_count": 5,
   "metadata": {
    "collapsed": false
   },
   "outputs": [
    {
     "data": {
      "text/html": [
       "<div>\n",
       "<table border=\"1\" class=\"dataframe\">\n",
       "  <thead>\n",
       "    <tr style=\"text-align: right;\">\n",
       "      <th></th>\n",
       "      <th>name</th>\n",
       "      <th>language</th>\n",
       "    </tr>\n",
       "  </thead>\n",
       "  <tbody>\n",
       "    <tr>\n",
       "      <th>0</th>\n",
       "      <td>khoury</td>\n",
       "      <td>Arabic</td>\n",
       "    </tr>\n",
       "    <tr>\n",
       "      <th>1</th>\n",
       "      <td>nahas</td>\n",
       "      <td>Arabic</td>\n",
       "    </tr>\n",
       "    <tr>\n",
       "      <th>2</th>\n",
       "      <td>daher</td>\n",
       "      <td>Arabic</td>\n",
       "    </tr>\n",
       "    <tr>\n",
       "      <th>3</th>\n",
       "      <td>gerges</td>\n",
       "      <td>Arabic</td>\n",
       "    </tr>\n",
       "    <tr>\n",
       "      <th>4</th>\n",
       "      <td>nazari</td>\n",
       "      <td>Arabic</td>\n",
       "    </tr>\n",
       "  </tbody>\n",
       "</table>\n",
       "</div>"
      ],
      "text/plain": [
       "     name language\n",
       "0  khoury   Arabic\n",
       "1   nahas   Arabic\n",
       "2   daher   Arabic\n",
       "3  gerges   Arabic\n",
       "4  nazari   Arabic"
      ]
     },
     "execution_count": 5,
     "metadata": {},
     "output_type": "execute_result"
    }
   ],
   "source": [
    "name_df.head()"
   ]
  },
  {
   "cell_type": "markdown",
   "metadata": {},
   "source": [
    "## data processing"
   ]
  },
  {
   "cell_type": "code",
   "execution_count": 53,
   "metadata": {
    "collapsed": false
   },
   "outputs": [],
   "source": [
    "class NameDataset(data.Dataset):\n",
    "    def __init__(self, name_df):\n",
    "        self.voc = set(\"\".join(name_df.name))\n",
    "        self.c2i = {c : i for i, c in enumerate(self.voc)}\n",
    "        self.i2c = {i : c for c, i in self.c2i.items()}\n",
    "        self.langs = set(name_df.language.unique())\n",
    "        self.lan2i = {lan : i for i, lan in enumerate(self.langs)}\n",
    "        self.i2lan = {i : lan for lan, i in self.lan2i.items()}\n",
    "        self.max_name_len = int(name_df.name.str.len().max())\n",
    "        self.names = torch.stack([self.name2tensor(n, 20) \n",
    "                                  for n in name_df.name],\n",
    "                                 dim=0)\n",
    "        self.lengths = name_df.name.str.len()\n",
    "        self.langauges = self.langs2tensor(name_df.language)\n",
    "        \n",
    "    def __len__(self):\n",
    "        return self.names.size(0)\n",
    "    \n",
    "    def __getitem__(self, i):\n",
    "        return (self.names[i, ...], self.lengths[i], self.langauges[i])\n",
    "    \n",
    "    def name2tensor(self, name, max_name_len):\n",
    "        \"\"\"\n",
    "        return tensor of (L, V): L name lenght, V voc size\n",
    "        \"\"\"\n",
    "        x = torch.zeros([max_name_len, len(self.voc)])\n",
    "        for c, letter in enumerate(name):\n",
    "            x[c, self.c2i.get(letter)] = 1\n",
    "        return x\n",
    "\n",
    "    def langs2tensor(self, langs):\n",
    "        return torch.IntTensor([self.lan2i[lang] for lang in langs])\n",
    "    \n",
    "name_ds = NameDataset(name_df)\n",
    "name_batches = data.DataLoader(name_ds, batch_size=128, shuffle=True, num_workers=2)"
   ]
  },
  {
   "cell_type": "code",
   "execution_count": 54,
   "metadata": {
    "collapsed": false
   },
   "outputs": [
    {
     "name": "stdout",
     "output_type": "stream",
     "text": [
      "torch.Size([128, 20, 58]) torch.Size([128]) torch.Size([128])\n"
     ]
    }
   ],
   "source": [
    "## test data\n",
    "\n",
    "for names, name_lens, languages in name_batches:\n",
    "    print(names.size(), name_lens.size(), languages.size())\n",
    "    break"
   ]
  },
  {
   "cell_type": "markdown",
   "metadata": {},
   "source": [
    "## hyperparameters"
   ]
  },
  {
   "cell_type": "code",
   "execution_count": 198,
   "metadata": {
    "collapsed": true
   },
   "outputs": [],
   "source": [
    "## hyperparameters\n",
    "batch_size = name_batches.batch_size\n",
    "seq_len = name_ds.max_name_len\n",
    "input_size = len(name_ds.voc)\n",
    "rnn_hidden_size = 64\n",
    "fc1_hidden_size = 64\n",
    "fc2_hidden_size = 64\n",
    "output_size = len(name_ds.langs)\n"
   ]
  },
  {
   "cell_type": "markdown",
   "metadata": {},
   "source": [
    "## models"
   ]
  },
  {
   "cell_type": "code",
   "execution_count": 199,
   "metadata": {
    "collapsed": false
   },
   "outputs": [],
   "source": [
    "\n",
    "\n",
    "class NameLanguageModel(nn.Module):\n",
    "    def __init__(self):\n",
    "        super(NameLanguageModel, self).__init__()\n",
    "        self.rnn = nn.GRU(input_size=input_size,\n",
    "                          hidden_size=rnn_hidden_size,\n",
    "                          num_layers=1,\n",
    "                          batch_first=True,\n",
    "                          bidirectional=False)\n",
    "        self.fc1 = nn.Linear(rnn_hidden_size, fc1_hidden_size)\n",
    "        self.d1 = nn.Dropout(0.5)\n",
    "        self.fc2 = nn.Linear(fc1_hidden_size, fc2_hidden_size)\n",
    "        self.d2 = nn.Dropout(0.5)\n",
    "        self.fc3 = nn.Linear(fc2_hidden_size, output_size)\n",
    "    def forward(self, x):\n",
    "        batch_size = x.batch_sizes[0]\n",
    "        h0 = Variable(torch.zeros(1, batch_size, rnn_hidden_size))\n",
    "        out, _ = self.rnn(x, h0)\n",
    "        out, out_len = utils.rnn.pad_packed_sequence(out, batch_first=True)\n",
    "        out = torch.stack([out[r, c-1, :] for r, c in enumerate(out_len)], dim=0)\n",
    "        out = self.fc1(out)\n",
    "        out = self.d1(out)\n",
    "        out = F.elu(out)\n",
    "        out = F.elu(self.d2(self.fc2(out)))\n",
    "        logits = self.fc3(out)\n",
    "        return logits\n",
    "    \n",
    "    \n",
    "objective = nn.CrossEntropyLoss()"
   ]
  },
  {
   "cell_type": "code",
   "execution_count": 200,
   "metadata": {
    "collapsed": false
   },
   "outputs": [
    {
     "name": "stdout",
     "output_type": "stream",
     "text": [
      "torch.Size([128, 20, 58]) torch.Size([128]) torch.Size([128])\n",
      "torch.Size([128, 18])\n",
      "Variable containing:\n",
      " 2.8374\n",
      "[torch.FloatTensor of size 1]\n",
      "\n"
     ]
    }
   ],
   "source": [
    "## test model\n",
    "m = NameLanguageModel()\n",
    "\n",
    "for names, name_lens, languages in name_batches:\n",
    "    print(names.size(), name_lens.size(), languages.size())\n",
    "    break\n",
    "\n",
    "\n",
    "lens = name_lens.numpy()\n",
    "i = np.argsort(lens)[::-1]\n",
    "x = Variable(names[torch.from_numpy(i.astype(np.long))])\n",
    "languages = Variable(languages[torch.from_numpy(i.astype(np.long))])\n",
    "pack = utils.rnn.pack_padded_sequence(x, lens[i], batch_first=True)\n",
    "y = m(pack)\n",
    "print(y.size())\n",
    "loss = objective(y, languages)\n",
    "print(loss)"
   ]
  },
  {
   "cell_type": "markdown",
   "metadata": {},
   "source": [
    "## training"
   ]
  },
  {
   "cell_type": "code",
   "execution_count": 201,
   "metadata": {
    "collapsed": false,
    "scrolled": false
   },
   "outputs": [
    {
     "name": "stdout",
     "output_type": "stream",
     "text": [
      "0 0 2.8497045040130615\n",
      "1 0 1.6369879245758057\n",
      "2 0 1.5047029256820679\n",
      "3 0 1.1885336637496948\n",
      "4 0 1.468309998512268\n",
      "5 0 1.0880311727523804\n",
      "6 0 1.3284090757369995\n",
      "7 0 1.07448148727417\n",
      "8 0 0.9483917951583862\n",
      "9 0 0.8839095234870911\n",
      "10 0 1.0254865884780884\n",
      "11 0 0.940910279750824\n",
      "12 0 0.9384251832962036\n",
      "13 0 0.8562106490135193\n",
      "14 0 1.0270323753356934\n",
      "15 0 0.8971002101898193\n",
      "16 0 0.9418807625770569\n",
      "17 0 0.8940801620483398\n",
      "18 0 0.704446017742157\n",
      "19 0 0.6640272736549377\n",
      "20 0 0.8421040177345276\n",
      "21 0 0.6869194507598877\n",
      "22 0 0.7568899393081665\n",
      "23 0 0.5370824337005615\n",
      "24 0 0.8838623762130737\n",
      "25 0 0.647059440612793\n",
      "26 0 0.7286583781242371\n",
      "27 0 0.65517657995224\n",
      "28 0 0.590233564376831\n",
      "29 0 0.8488616943359375\n",
      "30 0 0.7865766286849976\n",
      "31 0 0.5622156262397766\n",
      "32 0 0.6578609347343445\n",
      "33 0 0.7616690993309021\n",
      "34 0 0.6238940954208374\n",
      "35 0 0.6186093688011169\n",
      "36 0 0.5099834203720093\n",
      "37 0 0.5622609853744507\n",
      "38 0 0.46940815448760986\n",
      "39 0 0.6746248602867126\n",
      "40 0 0.48550084233283997\n",
      "41 0 0.4512198269367218\n",
      "42 0 0.5926852226257324\n",
      "43 0 0.4233289659023285\n",
      "44 0 0.6149099469184875\n",
      "45 0 0.5219957232475281\n",
      "46 0 0.35342398285865784\n",
      "47 0 0.36124342679977417\n",
      "48 0 0.4988391697406769\n",
      "49 0 0.4395638406276703\n",
      "50 0 0.3872234523296356\n",
      "51 0 0.5430238246917725\n",
      "52 0 0.4619428217411041\n",
      "53 0 0.6246690154075623\n",
      "54 0 0.4431649446487427\n",
      "55 0 0.30943238735198975\n",
      "56 0 0.4824295938014984\n",
      "57 0 0.7458385229110718\n",
      "58 0 0.46037542819976807\n",
      "59 0 0.39596036076545715\n",
      "60 0 0.4979361891746521\n",
      "61 0 0.32482945919036865\n",
      "62 0 0.377984881401062\n",
      "63 0 0.27030786871910095\n",
      "64 0 0.49902084469795227\n",
      "65 0 0.4417024552822113\n",
      "66 0 0.45594504475593567\n",
      "67 0 0.29828694462776184\n",
      "68 0 0.29730021953582764\n",
      "69 0 0.3584790527820587\n",
      "70 0 0.3127482533454895\n",
      "71 0 0.512813925743103\n",
      "72 0 0.4743964970111847\n",
      "73 0 0.41469916701316833\n",
      "74 0 0.23289422690868378\n",
      "75 0 0.47820690274238586\n",
      "76 0 0.3290987014770508\n",
      "77 0 0.3844543695449829\n",
      "78 0 0.35475844144821167\n",
      "79 0 0.4756792485713959\n",
      "80 0 0.34630218148231506\n",
      "81 0 0.25256264209747314\n",
      "82 0 0.3639392852783203\n",
      "83 0 0.4463295042514801\n",
      "84 0 0.3451976180076599\n",
      "85 0 0.21444067358970642\n",
      "86 0 0.33230462670326233\n",
      "87 0 0.22482602298259735\n",
      "88 0 0.24581411480903625\n",
      "89 0 0.3975140452384949\n",
      "90 0 0.29569458961486816\n",
      "91 0 0.34323379397392273\n",
      "92 0 0.36901772022247314\n",
      "93 0 0.35019776225090027\n",
      "94 0 0.23123173415660858\n",
      "95 0 0.2968934178352356\n",
      "96 0 0.20927560329437256\n",
      "97 0 0.3456980288028717\n",
      "98 0 0.3459538221359253\n",
      "99 0 0.2562934160232544\n",
      "100 0 0.38761377334594727\n",
      "101 0 0.2303437888622284\n",
      "102 0 0.2119637429714203\n",
      "103 0 0.38053566217422485\n",
      "104 0 0.17055760324001312\n",
      "105 0 0.2166474312543869\n",
      "106 0 0.2443149983882904\n",
      "107 0 0.23680275678634644\n",
      "108 0 0.22437405586242676\n",
      "109 0 0.27349933981895447\n",
      "110 0 0.35653892159461975\n",
      "111 0 0.19419920444488525\n",
      "112 0 0.17754913866519928\n",
      "113 0 0.25555166602134705\n",
      "114 0 0.3562607765197754\n",
      "115 0 0.23055805265903473\n",
      "116 0 0.2085619568824768\n",
      "117 0 0.16090549528598785\n",
      "118 0 0.2553725242614746\n",
      "119 0 0.18851281702518463\n",
      "120 0 0.2746748924255371\n",
      "121 0 0.20800411701202393\n",
      "122 0 0.29609769582748413\n",
      "123 0 0.21008722484111786\n",
      "124 0 0.17888043820858002\n",
      "125 0 0.26471588015556335\n",
      "126 0 0.15397942066192627\n",
      "127 0 0.22628933191299438\n",
      "128 0 0.2802918553352356\n",
      "129 0 0.18672537803649902\n",
      "130 0 0.10388520359992981\n",
      "131 0 0.15766116976737976\n",
      "132 0 0.17091438174247742\n",
      "133 0 0.09326822310686111\n",
      "134 0 0.24772955477237701\n",
      "135 0 0.11630294471979141\n",
      "136 0 0.15587548911571503\n",
      "137 0 0.24106785655021667\n",
      "138 0 0.17082630097866058\n",
      "139 0 0.16895312070846558\n",
      "140 0 0.14032070338726044\n",
      "141 0 0.19820165634155273\n",
      "142 0 0.17629575729370117\n",
      "143 0 0.1478329449892044\n",
      "144 0 0.26847898960113525\n",
      "145 0 0.17227494716644287\n",
      "146 0 0.17060014605522156\n",
      "147 0 0.23564431071281433\n",
      "148 0 0.12112077325582504\n",
      "149 0 0.10523183643817902\n",
      "150 0 0.1278477907180786\n",
      "151 0 0.15869243443012238\n",
      "152 0 0.18565697968006134\n",
      "153 0 0.13758262991905212\n",
      "154 0 0.0808524638414383\n",
      "155 0 0.17323152720928192\n",
      "156 0 0.20017990469932556\n",
      "157 0 0.1826348751783371\n",
      "158 0 0.0759824886918068\n",
      "159 0 0.1537916213274002\n",
      "160 0 0.2647838592529297\n",
      "161 0 0.21931098401546478\n",
      "162 0 0.1772468090057373\n",
      "163 0 0.16205893456935883\n",
      "164 0 0.09953516721725464\n",
      "165 0 0.17124255001544952\n",
      "166 0 0.18148717284202576\n",
      "167 0 0.08059011399745941\n",
      "168 0 0.07487531006336212\n",
      "169 0 0.15903225541114807\n",
      "170 0 0.1843741089105606\n",
      "171 0 0.08026061952114105\n",
      "172 0 0.08848188817501068\n",
      "173 0 0.14374393224716187\n",
      "174 0 0.12350106239318848\n",
      "175 0 0.10342039912939072\n",
      "176 0 0.13717268407344818\n",
      "177 0 0.16345933079719543\n",
      "178 0 0.09234272688627243\n",
      "179 0 0.10248925536870956\n",
      "180 0 0.1977882981300354\n",
      "181 0 0.08801403641700745\n",
      "182 0 0.10151716321706772\n",
      "183 0 0.24687008559703827\n",
      "184 0 0.11733546108007431\n",
      "185 0 0.16929174959659576\n",
      "186 0 0.11760959029197693\n",
      "187 0 0.1748424619436264\n",
      "188 0 0.18000468611717224\n",
      "189 0 0.15422652661800385\n",
      "190 0 0.12316567450761795\n",
      "191 0 0.22408746182918549\n",
      "192 0 0.07539035379886627\n",
      "193 0 0.1470096856355667\n",
      "194 0 0.14091606438159943\n",
      "195 0 0.16560950875282288\n",
      "196 0 0.1452062427997589\n",
      "197 0 0.14388564229011536\n",
      "198 0 0.09239521622657776\n",
      "199 0 0.09104477614164352\n"
     ]
    }
   ],
   "source": [
    "n_epochs = 200\n",
    "model = NameLanguageModel()\n",
    "optimizer = optim.Adam(model.parameters(), lr=5e-4)\n",
    "model.train()\n",
    "for epoch in range(n_epochs):\n",
    "    for b, (names, name_lens, languages) in enumerate(name_batches):\n",
    "        lens = name_lens.numpy()\n",
    "        i = np.argsort(lens)[::-1]\n",
    "        x = Variable(names[torch.from_numpy(i.astype(np.long))])\n",
    "        languages = Variable(languages[torch.from_numpy(i.astype(np.long))])\n",
    "        pack = utils.rnn.pack_padded_sequence(x, lens[i], batch_first=True)\n",
    "        y = model(pack)\n",
    "        loss = objective(y, languages)\n",
    "        \n",
    "        model.zero_grad()\n",
    "        loss.backward()\n",
    "        optimizer.step()\n",
    "        \n",
    "        if b % 200 == 0:\n",
    "            print(epoch, b, loss.data[0])"
   ]
  },
  {
   "cell_type": "code",
   "execution_count": 202,
   "metadata": {
    "collapsed": false
   },
   "outputs": [],
   "source": [
    "# model = NameLanguageModel()\n",
    "\n",
    "def predict_name_lang(model, name):\n",
    "    x = Variable(name_ds.name2tensor(name, name_ds.max_name_len)).unsqueeze(dim=0)\n",
    "    pack = utils.rnn.pack_padded_sequence(x, [len(name)], batch_first=True)\n",
    "    y = model(pack)\n",
    "#     print(y)\n",
    "    _, iclass = torch.topk(y, k=1)\n",
    "#     print(iclass)\n",
    "    lang = name_ds.i2lan[int(iclass.data[0].numpy())]\n",
    "    return lang"
   ]
  },
  {
   "cell_type": "code",
   "execution_count": 203,
   "metadata": {
    "collapsed": false
   },
   "outputs": [
    {
     "data": {
      "text/plain": [
       "'Greek'"
      ]
     },
     "execution_count": 203,
     "metadata": {},
     "output_type": "execute_result"
    }
   ],
   "source": [
    "predict_name_lang(model, \"chris\")"
   ]
  },
  {
   "cell_type": "code",
   "execution_count": 204,
   "metadata": {
    "collapsed": false
   },
   "outputs": [
    {
     "data": {
      "text/plain": [
       "'French'"
      ]
     },
     "execution_count": 204,
     "metadata": {},
     "output_type": "execute_result"
    }
   ],
   "source": [
    "predict_name_lang(model, \"partha\")"
   ]
  },
  {
   "cell_type": "code",
   "execution_count": 205,
   "metadata": {
    "collapsed": false
   },
   "outputs": [
    {
     "name": "stdout",
     "output_type": "stream",
     "text": [
      "CPU times: user 1min 29s, sys: 383 ms, total: 1min 29s\n",
      "Wall time: 45.3 s\n"
     ]
    }
   ],
   "source": [
    "%%time\n",
    "model.eval()\n",
    "predictions = np.array([predict_name_lang(model, n) for n in name_df.name])"
   ]
  },
  {
   "cell_type": "code",
   "execution_count": 206,
   "metadata": {
    "collapsed": true
   },
   "outputs": [],
   "source": [
    "name_df[\"prediction\"] = predictions"
   ]
  },
  {
   "cell_type": "code",
   "execution_count": 207,
   "metadata": {
    "collapsed": false
   },
   "outputs": [],
   "source": [
    "cm = pd.pivot_table(name_df, index=\"language\", columns=\"prediction\", aggfunc=\"size\").fillna(0)"
   ]
  },
  {
   "cell_type": "code",
   "execution_count": 208,
   "metadata": {
    "collapsed": false
   },
   "outputs": [
    {
     "data": {
      "text/plain": [
       "<matplotlib.axes._subplots.AxesSubplot at 0x1155d7e48>"
      ]
     },
     "execution_count": 208,
     "metadata": {},
     "output_type": "execute_result"
    },
    {
     "data": {
      "image/png": "[encoded data removed]",
      "text/plain": [
       "<matplotlib.figure.Figure at 0x10afa3be0>"
      ]
     },
     "metadata": {},
     "output_type": "display_data"
    }
   ],
   "source": [
    "import seaborn as sb\n",
    "plt.figure(figsize=(12, 8))\n",
    "sb.heatmap(cm, annot=True, fmt=\".0f\", )"
   ]
  },
  {
   "cell_type": "code",
   "execution_count": null,
   "metadata": {
    "collapsed": true
   },
   "outputs": [],
   "source": []
  }
 ],
 "metadata": {
  "kernelspec": {
   "display_name": "Python 3",
   "language": "python",
   "name": "python3"
  },
  "language_info": {
   "codemirror_mode": {
    "name": "ipython",
    "version": 3
   },
   "file_extension": ".py",
   "mimetype": "text/x-python",
   "name": "python",
   "nbconvert_exporter": "python",
   "pygments_lexer": "ipython3",
   "version": "3.6.0"
  }
 },
 "nbformat": 4,
 "nbformat_minor": 2
}
