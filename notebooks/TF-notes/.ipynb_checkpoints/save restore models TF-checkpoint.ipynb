{
 "cells": [
  {
   "cell_type": "markdown",
   "metadata": {},
   "source": [
    "## Save and restore tf (as of 0.12) models without re-definition of model"
   ]
  },
  {
   "cell_type": "markdown",
   "metadata": {},
   "source": [
    "### A good introduction can be found [here](http://cv-tricks.com/tensorflow-tutorial/save-restore-tensorflow-models-quick-complete-tutorial/)"
   ]
  },
  {
   "cell_type": "code",
   "execution_count": null,
   "metadata": {
    "collapsed": true
   },
   "outputs": [],
   "source": [
    "import tensorflow as tf"
   ]
  },
  {
   "cell_type": "code",
   "execution_count": null,
   "metadata": {
    "collapsed": true
   },
   "outputs": [],
   "source": [
    "######################################## train and save model in train.py\n",
    "\n",
    "# input, output, hyperparameter as placeholders, e.g.\n",
    "x = tf.placeholder(tf.float32, (None, 32, 32, 3), name=\"x\")\n",
    "y = tf.placeholder(tf.int32, (None), name=\"y\")\n",
    "keep_prob = tf.placeholder(tf.float32, name=\"keep_prob\")\n",
    "\n",
    "# build model\n",
    "yhat, loss = build_whatevermodel(x)\n",
    "train_op = whateveroptimizer.minimize(loss)\n",
    "\n",
    "# train the model\n",
    "with tf.Session() as sess:\n",
    "  sess.run(tf.global_variables_initializer())\n",
    "  for _ in range(epochs):\n",
    "    sess.run(train_op, feed_dict={x:train_batch_x, y:train_batch_y, keep_prob=0.5})\n",
    "    # ...\n",
    "    \n",
    "# save model and placeholders\n",
    "tf.add_to_collection(\"vars\", x)\n",
    "tf.add_to_collection(\"vars\", yhat)\n",
    "tf.add_to_collection(\"vars\", keep_prob)\n",
    "saver = tf.train.Saver()\n",
    "saver.save(sess, \"./yourmodel\")"
   ]
  },
  {
   "cell_type": "code",
   "execution_count": null,
   "metadata": {
    "collapsed": true
   },
   "outputs": [],
   "source": [
    "################################################## restore and use model in predict.py\n",
    "# when restoring, you don't have to recreate the model `build_whatevermodel`\n",
    "# and you don't have to run `tf.global_variables_initializer()` anymore.\n",
    "# restoring a model will restore both the graph and variable values\n",
    "with tf.Session() as ses:\n",
    "  saver = tf.train.import_meta_graph(\"yourmodel.meta\")\n",
    "  saver.restore(sess, tf.train.latest_checkpoint(\"./\"))\n",
    "  # restore place holders explicitly\n",
    "  x = tf.get_collection(\"vars\")[0]\n",
    "  yhat = tf.get_collection(\"vars\")[1]\n",
    "  keep_prob = tf.get_collection(\"vars\")[2]\n",
    "  \n",
    "  new_yhat = sess.run(yhat, feed_dict={x: new_x, keep_prob: 1.})"
   ]
  }
 ],
 "metadata": {
  "kernelspec": {
   "display_name": "Python 3",
   "language": "python",
   "name": "python3"
  },
  "language_info": {
   "codemirror_mode": {
    "name": "ipython",
    "version": 3
   },
   "file_extension": ".py",
   "mimetype": "text/x-python",
   "name": "python",
   "nbconvert_exporter": "python",
   "pygments_lexer": "ipython3",
   "version": "3.6.0"
  }
 },
 "nbformat": 4,
 "nbformat_minor": 1
}
