{
 "cells": [
  {
   "cell_type": "markdown",
   "metadata": {},
   "source": [
    "# Adverserial Images for CNN\n",
    "\n",
    "## Resources\n",
    "- [How Adversarial Attacks Work](https://blog.ycombinator.com/how-adversarial-attacks-work/) and its [pytorch example](https://github.com/dolaameng/adv-attacks-pytorch-101)\n",
    "- [Breaking Linear Classifiers on ImageNet](http://karpathy.github.io/2015/03/30/breaking-convnets/) by Andrej Karpathy\n",
    "- [Attacking Machine Learning with Adversarial Examples](https://blog.openai.com/adversarial-example-research/) by OpenAI\n",
    "- [NIPS 2017: Targeted Adversarial Attack](https://www.kaggle.com/c/nips-2017-targeted-adversarial-attack)\n",
    "- [OpenAI's cleverhans](https://github.com/tensorflow/cleverhans)\n",
    "- [cleverhans-blog](http://www.cleverhans.io/)\n",
    "- [github: tensorflow-adversarial](https://github.com/gongzhitaao/tensorflow-adversarial)\n"
   ]
  },
  {
   "cell_type": "markdown",
   "metadata": {},
   "source": [
    "## TODO learn about cleverhans API"
   ]
  },
  {
   "cell_type": "code",
   "execution_count": null,
   "metadata": {
    "collapsed": true
   },
   "outputs": [],
   "source": []
  }
 ],
 "metadata": {
  "kernelspec": {
   "display_name": "Python 3",
   "language": "python",
   "name": "python3"
  },
  "language_info": {
   "codemirror_mode": {
    "name": "ipython",
    "version": 3
   },
   "file_extension": ".py",
   "mimetype": "text/x-python",
   "name": "python",
   "nbconvert_exporter": "python",
   "pygments_lexer": "ipython3",
   "version": "3.6.0"
  }
 },
 "nbformat": 4,
 "nbformat_minor": 2
}
