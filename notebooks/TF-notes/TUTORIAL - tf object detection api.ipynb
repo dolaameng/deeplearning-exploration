{
 "cells": [
  {
   "cell_type": "markdown",
   "metadata": {},
   "source": [
    "## Learn to use tensorflow object detection API\n",
    "- [official repo](https://github.com/tensorflow/models/tree/master/research/object_detection)\n",
    "- [TensorMouse](https://github.com/tadejmagajna/TensorMouse)"
   ]
  },
  {
   "cell_type": "code",
   "execution_count": 1,
   "metadata": {
    "collapsed": true
   },
   "outputs": [],
   "source": [
    "import cv2\n",
    "import tensorflow as tf\n",
    "import numpy as np\n",
    "\n",
    "import matplotlib.pyplot as plt\n",
    "from matplotlib import patches\n",
    "from IPython import display\n",
    "\n",
    "%matplotlib notebook\n",
    "\n",
    "\n",
    "# %matplotlib inline"
   ]
  },
  {
   "cell_type": "markdown",
   "metadata": {
    "collapsed": true
   },
   "source": [
    "## load graph and make session"
   ]
  },
  {
   "cell_type": "code",
   "execution_count": 2,
   "metadata": {
    "collapsed": true
   },
   "outputs": [],
   "source": [
    "## load the frozen graph\n",
    "\n",
    "def load_model(model_path):\n",
    "    graph = tf.Graph()\n",
    "    with graph.as_default():\n",
    "        graph_def = tf.GraphDef()\n",
    "        model_file = tf.gfile.GFile(model_path, \"rb\")\n",
    "        graph_def.ParseFromString(model_file.read())\n",
    "        tf.import_graph_def(graph_def, name=\"object_detection_api\")\n",
    "    return graph\n",
    "\n",
    "model_path = \"../../models/object_detection/ssd_mobilenet_v1_coco_11_06_2017/frozen_inference_graph.pb\"\n",
    "model_graph = load_model(model_path)"
   ]
  },
  {
   "cell_type": "code",
   "execution_count": 3,
   "metadata": {
    "collapsed": false
   },
   "outputs": [],
   "source": [
    "## load label names - taking a shortcut\n",
    "import re\n",
    "def load_labels(label_path):\n",
    "    id2label = {}\n",
    "    \n",
    "    with open(label_path, \"r\") as f:\n",
    "        items = re.findall(r\"item\\s*\\{[^}]*\\}\", f.read(), re.MULTILINE)\n",
    "        for item in items:\n",
    "            id = int(re.findall(r\"id: (\\d+)\", item)[0])\n",
    "            label = re.findall(r'display_name: \"([\\w\\s]+)\"', item)[0]\n",
    "            id2label[id] = label\n",
    "    return id2label\n",
    "\n",
    "label_path = \"../../models/object_detection/mscoco_label_map.pbtxt\"\n",
    "id2label = load_labels(label_path)"
   ]
  },
  {
   "cell_type": "raw",
   "metadata": {
    "collapsed": false
   },
   "source": [
    "## test with an image\n",
    "\n",
    "from urllib import request\n",
    "from io import BytesIO\n",
    "from PIL import Image\n",
    "\n",
    "# img_url = \"https://github.com/tensorflow/models/raw/master/research/object_detection/test_images/image1.jpg\"\n",
    "img_url = \"https://github.com/tensorflow/models/raw/master/research/object_detection/test_images/image2.jpg\"\n",
    "img_bytes = BytesIO(request.urlopen(img_url).read())\n",
    "img = np.array(Image.open(img_bytes, \"r\"))\n",
    "plt.imshow(img)"
   ]
  },
  {
   "cell_type": "raw",
   "metadata": {
    "collapsed": false
   },
   "source": [
    "with tf.Session(graph=model_graph) as sess:\n",
    "    # restore placeholders and variables\n",
    "    image = model_graph.get_tensor_by_name(\"object_detection_api/image_tensor:0\")\n",
    "    boxes = model_graph.get_tensor_by_name(\"object_detection_api/detection_boxes:0\")\n",
    "    scores = model_graph.get_tensor_by_name(\"object_detection_api/detection_scores:0\")\n",
    "    classes = model_graph.get_tensor_by_name(\"object_detection_api/detection_classes:0\")\n",
    "    \n",
    "    # predictions\n",
    "    pred_boxes, pred_scores, pred_classes = sess.run([boxes, scores, classes],\n",
    "                                                     feed_dict={image: np.expand_dims(img, axis=0)})\n",
    "    \n",
    "pred_boxes = pred_boxes.squeeze()\n",
    "pred_scores = pred_scores.squeeze()\n",
    "pred_classes = pred_classes.squeeze()\n",
    "pred_labels = np.array([id2label.get(c) for c in pred_classes])"
   ]
  },
  {
   "cell_type": "raw",
   "metadata": {
    "collapsed": false
   },
   "source": [
    "from itertools import cycle"
   ]
  },
  {
   "cell_type": "raw",
   "metadata": {
    "collapsed": false
   },
   "source": [
    "topn = 20\n",
    "h, w = img.shape[:2]\n",
    "\n",
    "# fig, ax = plt.subplots(1, 1, figsize=(12, 12))\n",
    "fig, ax = plt.subplots(1, 1)\n",
    "ax.imshow(img)\n",
    "colors = [\"red\", \"blue\", \"yellow\", \"green\", \"purple\"]\n",
    "for i, color in zip(range(min(topn, pred_boxes.shape[0])), cycle(colors)):\n",
    "    box = pred_boxes[i]\n",
    "    label = pred_labels[i]\n",
    "    score = pred_scores[i]\n",
    "    x0, y0 = box[1] * w, box[0] * h\n",
    "    x1, y1 = box[3] * w, box[2] * h\n",
    "    rw, rh = x1-x0, y1-y0\n",
    "    ax.add_patch(patches.Rectangle([x0, y0], rw, rh, fill=False, color=color, lw=3))\n",
    "    ax.text(x0+10, y0-20, \"%s:%.2f\" % (label, score), color=color, fontsize=16)"
   ]
  },
  {
   "cell_type": "code",
   "execution_count": 4,
   "metadata": {
    "collapsed": true
   },
   "outputs": [],
   "source": [
    "model_sess = tf.Session(graph = model_graph)"
   ]
  },
  {
   "cell_type": "code",
   "execution_count": 5,
   "metadata": {
    "collapsed": true
   },
   "outputs": [],
   "source": [
    "def detect_objects(sess, id2label, img, prob_thr):\n",
    "    \n",
    "    ## object detection\n",
    "\n",
    "    image = model_graph.get_tensor_by_name(\"object_detection_api/image_tensor:0\")\n",
    "    boxes = model_graph.get_tensor_by_name(\"object_detection_api/detection_boxes:0\")\n",
    "    scores = model_graph.get_tensor_by_name(\"object_detection_api/detection_scores:0\")\n",
    "    classes = model_graph.get_tensor_by_name(\"object_detection_api/detection_classes:0\")\n",
    "    pred_boxes, pred_scores, pred_classes = sess.run([boxes, scores, classes],\n",
    "                                                     feed_dict={image: np.expand_dims(img, axis=0)})\n",
    "    \n",
    "    pred_boxes = pred_boxes.squeeze()\n",
    "    pred_scores = pred_scores.squeeze() # in descreding order\n",
    "    pred_classes = pred_classes.squeeze()\n",
    "    pred_labels = np.array([id2label.get(c) for c in pred_classes])\n",
    "    \n",
    "    ## draw on image\n",
    "    img = img.copy()\n",
    "    font = cv2.FONT_HERSHEY_COMPLEX_SMALL\n",
    "    n = pred_boxes.shape[0]\n",
    "#     topn = min(topn, n)\n",
    "    h, w = img.shape[:2]\n",
    "    for i in range(n):\n",
    "        box = pred_boxes[i]\n",
    "        label = pred_labels[i]\n",
    "        score = pred_scores[i]\n",
    "        if score < prob_thr: continue\n",
    "        x0, y0 = box[1] * w, box[0] * h\n",
    "        x1, y1 = box[3] * w, box[2] * h\n",
    "        x0, y0, x1, y1 = map(int, [x0, y0, x1, y1])\n",
    "        cv2.rectangle(img,(x0, y0),(x1, y1),(255,0,0),3)\n",
    "        cv2.putText(img, \"%s:%.2f\" % (label, score),(x0+10,y0-20), font, 2 ,(0,0,255),2,cv2.LINE_AA)\n",
    "    return img\n",
    "\n"
   ]
  },
  {
   "cell_type": "raw",
   "metadata": {
    "collapsed": false
   },
   "source": [
    "\n",
    "\n",
    "plt.imshow(detect_objects(model_sess, id2label, img, topn=6))"
   ]
  },
  {
   "cell_type": "markdown",
   "metadata": {},
   "source": [
    "### live camera object detection\n",
    "- camera code from https://medium.com/@neotheicebird/webcam-based-image-processing-in-ipython-notebooks-47c75a022514"
   ]
  },
  {
   "cell_type": "code",
   "execution_count": null,
   "metadata": {
    "collapsed": false
   },
   "outputs": [],
   "source": [
    "\n",
    "\n",
    "vc = cv2.VideoCapture(0)\n",
    "\n",
    "plt.ion()\n",
    "\n",
    "if vc.isOpened(): # try to get the first frame\n",
    "    is_capturing, frame = vc.read()\n",
    "    frame = cv2.cvtColor(frame, cv2.COLOR_BGR2RGB)    # makes the blues image look real colored\n",
    "    webcam_preview = plt.imshow(frame)    \n",
    "else:\n",
    "    is_capturing = False\n",
    "\n",
    "while is_capturing:\n",
    "    try:    # Lookout for a keyboardInterrupt to stop the script\n",
    "        is_capturing, frame = vc.read()\n",
    "        frame = cv2.cvtColor(frame, cv2.COLOR_BGR2RGB)    # makes the blues image look real colored\n",
    "        marked_frame = detect_objects(model_sess, id2label, frame, prob_thr=0.5)\n",
    "        webcam_preview.set_data(marked_frame)\n",
    "        plt.draw()\n",
    "        try:    # Avoids a NotImplementedError caused by `plt.pause`\n",
    "            plt.pause(0.05)\n",
    "        except Exception:\n",
    "            pass\n",
    "    except KeyboardInterrupt:\n",
    "        vc.release()"
   ]
  },
  {
   "cell_type": "code",
   "execution_count": null,
   "metadata": {
    "collapsed": true
   },
   "outputs": [],
   "source": []
  }
 ],
 "metadata": {
  "kernelspec": {
   "display_name": "Python 3",
   "language": "python",
   "name": "python3"
  },
  "language_info": {
   "codemirror_mode": {
    "name": "ipython",
    "version": 3
   },
   "file_extension": ".py",
   "mimetype": "text/x-python",
   "name": "python",
   "nbconvert_exporter": "python",
   "pygments_lexer": "ipython3",
   "version": "3.5.4"
  }
 },
 "nbformat": 4,
 "nbformat_minor": 2
}
