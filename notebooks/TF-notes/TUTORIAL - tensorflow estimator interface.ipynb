{
 "cells": [
  {
   "cell_type": "code",
   "execution_count": 79,
   "metadata": {
    "collapsed": true
   },
   "outputs": [],
   "source": [
    "import tensorflow as tf\n",
    "import numpy as np\n",
    "import pandas as pd"
   ]
  },
  {
   "cell_type": "code",
   "execution_count": 2,
   "metadata": {
    "collapsed": true
   },
   "outputs": [],
   "source": [
    "from tensorflow.examples.tutorials import mnist"
   ]
  },
  {
   "cell_type": "code",
   "execution_count": 3,
   "metadata": {},
   "outputs": [
    {
     "name": "stdout",
     "output_type": "stream",
     "text": [
      "Extracting /tmp/data/train-images-idx3-ubyte.gz\n",
      "Extracting /tmp/data/train-labels-idx1-ubyte.gz\n",
      "Extracting /tmp/data/t10k-images-idx3-ubyte.gz\n",
      "Extracting /tmp/data/t10k-labels-idx1-ubyte.gz\n"
     ]
    }
   ],
   "source": [
    "mnist_data = mnist.input_data.read_data_sets(\"/tmp/data/\", one_hot=False, reshape=False, )\n",
    "train_data = mnist_data.train\n",
    "valid_data = mnist_data.validation\n",
    "test_data = mnist_data.test"
   ]
  },
  {
   "cell_type": "code",
   "execution_count": 65,
   "metadata": {},
   "outputs": [
    {
     "name": "stdout",
     "output_type": "stream",
     "text": [
      "INFO:tensorflow:Using default config.\n",
      "WARNING:tensorflow:Using temporary folder as model directory: /tmp/tmpimgy0gtt\n",
      "INFO:tensorflow:Using config: {'_model_dir': '/tmp/tmpimgy0gtt', '_tf_random_seed': 1, '_save_summary_steps': 100, '_save_checkpoints_secs': 600, '_save_checkpoints_steps': None, '_session_config': None, '_keep_checkpoint_max': 5, '_keep_checkpoint_every_n_hours': 10000, '_log_step_count_steps': 100}\n"
     ]
    }
   ],
   "source": [
    "def model_fn(features, labels, mode, params):\n",
    "    x = features[\"x\"]\n",
    "    with tf.name_scope(\"conv1\"):\n",
    "        conv1 = tf.layers.conv2d(x, 32, [5, 5], padding=\"SAME\", activation=tf.nn.elu)\n",
    "        pool1 = tf.layers.max_pooling2d(conv1, [2, 2], 2)\n",
    "    with tf.name_scope(\"conv2\"):\n",
    "        conv2 = tf.layers.conv2d(pool1, 64, [5, 5], padding=\"SAME\", activation=tf.nn.elu)\n",
    "        pool2 = tf.layers.max_pooling2d(conv2, [2, 2], 2)\n",
    "    with tf.name_scope(\"fc1\"):\n",
    "        flat_pool2 = tf.reshape(pool2, [-1, 7*7*64])\n",
    "        fc1 = tf.layers.dense(flat_pool2, 1024, activation=tf.nn.elu,\n",
    "                              kernel_initializer=tf.variance_scaling_initializer(),\n",
    "                              bias_initializer=tf.constant_initializer(0.))\n",
    "        d1 = tf.layers.dropout(fc1, rate=params[\"dropout\"],\n",
    "                               training=(mode==tf.estimator.ModeKeys.TRAIN) )\n",
    "    with tf.name_scope(\"output\"):\n",
    "        logits = tf.layers.dense(d1, 10)\n",
    "        probs = tf.argmax(logits, axis=1)\n",
    "        # doesn't work with eval_metric\n",
    "#         accuracy = tf.reduce_mean(tf.cast(tf.nn.in_top_k(logits, labels, k=1), tf.float32))\n",
    "    \n",
    "    predictions = {\"logits\": logits, \"probs\": probs}\n",
    "    \n",
    "    # need to return early for PREDICT MODE, other it will complain when continuing to construct\n",
    "    # other parameters involving labels\n",
    "    if mode == tf.estimator.ModeKeys.PREDICT:\n",
    "        return tf.estimator.EstimatorSpec(mode, predictions)\n",
    "    \n",
    "    # for loss function, either works\n",
    "    loss = tf.reduce_mean(tf.nn.sparse_softmax_cross_entropy_with_logits(logits=logits, labels=labels))\n",
    "#     loss = tf.losses.sparse_softmax_cross_entropy(labels=labels, logits=logits)\n",
    "\n",
    "    train_op = tf.train.AdamOptimizer(learning_rate=params[\"learning_rate\"]).minimize(loss, global_step=tf.train.get_global_step())\n",
    "    eval_metric_ops = {\"accuracy\": tf.metrics.accuracy(labels, probs)} # in addition to loss\n",
    "    \n",
    "    return tf.estimator.EstimatorSpec(mode=mode,\n",
    "                                      predictions=predictions, loss=loss,\n",
    "                                      train_op=train_op, eval_metric_ops=eval_metric_ops)\n",
    "\n",
    "\n",
    "params = {\"learning_rate\": 5e-4, \"dropout\": 0.5}\n",
    "\n",
    "model = tf.estimator.Estimator(model_fn=model_fn, params=params, )"
   ]
  },
  {
   "cell_type": "code",
   "execution_count": 66,
   "metadata": {
    "scrolled": false
   },
   "outputs": [
    {
     "name": "stdout",
     "output_type": "stream",
     "text": [
      "INFO:tensorflow:Create CheckpointSaverHook.\n",
      "INFO:tensorflow:Saving checkpoints for 1 into /tmp/tmpimgy0gtt/model.ckpt.\n",
      "INFO:tensorflow:loss = 2.30903, step = 1\n",
      "INFO:tensorflow:global_step/sec: 34.6986\n",
      "INFO:tensorflow:loss = 0.179387, step = 101 (2.883 sec)\n",
      "INFO:tensorflow:global_step/sec: 36.1119\n",
      "INFO:tensorflow:loss = 0.0972803, step = 201 (2.769 sec)\n",
      "INFO:tensorflow:global_step/sec: 36.4844\n",
      "INFO:tensorflow:loss = 0.0851764, step = 301 (2.741 sec)\n",
      "INFO:tensorflow:global_step/sec: 36.3508\n",
      "INFO:tensorflow:loss = 0.0228717, step = 401 (2.750 sec)\n",
      "INFO:tensorflow:global_step/sec: 36.6088\n",
      "INFO:tensorflow:loss = 0.0547687, step = 501 (2.732 sec)\n",
      "INFO:tensorflow:global_step/sec: 36.1546\n",
      "INFO:tensorflow:loss = 0.0403269, step = 601 (2.766 sec)\n",
      "INFO:tensorflow:global_step/sec: 36.2808\n",
      "INFO:tensorflow:loss = 0.0892885, step = 701 (2.756 sec)\n",
      "INFO:tensorflow:global_step/sec: 36.2346\n",
      "INFO:tensorflow:loss = 0.0532592, step = 801 (2.762 sec)\n",
      "INFO:tensorflow:global_step/sec: 35.7317\n",
      "INFO:tensorflow:loss = 0.0235527, step = 901 (2.798 sec)\n",
      "INFO:tensorflow:global_step/sec: 35.936\n",
      "INFO:tensorflow:loss = 0.035221, step = 1001 (2.781 sec)\n",
      "INFO:tensorflow:global_step/sec: 35.8358\n",
      "INFO:tensorflow:loss = 0.0655692, step = 1101 (2.791 sec)\n",
      "INFO:tensorflow:global_step/sec: 36.0244\n",
      "INFO:tensorflow:loss = 0.0426395, step = 1201 (2.776 sec)\n",
      "INFO:tensorflow:global_step/sec: 35.9934\n",
      "INFO:tensorflow:loss = 0.0205369, step = 1301 (2.778 sec)\n",
      "INFO:tensorflow:global_step/sec: 36.0986\n",
      "INFO:tensorflow:loss = 0.0101156, step = 1401 (2.771 sec)\n",
      "INFO:tensorflow:global_step/sec: 36.17\n",
      "INFO:tensorflow:loss = 0.0385944, step = 1501 (2.764 sec)\n",
      "INFO:tensorflow:global_step/sec: 36.062\n",
      "INFO:tensorflow:loss = 0.00954062, step = 1601 (2.773 sec)\n",
      "INFO:tensorflow:global_step/sec: 35.6351\n",
      "INFO:tensorflow:loss = 0.0811336, step = 1701 (2.806 sec)\n",
      "INFO:tensorflow:global_step/sec: 35.8199\n",
      "INFO:tensorflow:loss = 0.00881808, step = 1801 (2.791 sec)\n",
      "INFO:tensorflow:global_step/sec: 35.7894\n",
      "INFO:tensorflow:loss = 0.0111392, step = 1901 (2.794 sec)\n",
      "INFO:tensorflow:global_step/sec: 35.9666\n",
      "INFO:tensorflow:loss = 0.00310445, step = 2001 (2.782 sec)\n",
      "INFO:tensorflow:global_step/sec: 35.7262\n",
      "INFO:tensorflow:loss = 0.00890337, step = 2101 (2.799 sec)\n",
      "INFO:tensorflow:global_step/sec: 35.9487\n",
      "INFO:tensorflow:loss = 0.00853977, step = 2201 (2.780 sec)\n",
      "INFO:tensorflow:global_step/sec: 36.0552\n",
      "INFO:tensorflow:loss = 0.0119437, step = 2301 (2.775 sec)\n",
      "INFO:tensorflow:global_step/sec: 35.8532\n",
      "INFO:tensorflow:loss = 0.00905774, step = 2401 (2.789 sec)\n",
      "INFO:tensorflow:global_step/sec: 35.8442\n",
      "INFO:tensorflow:loss = 0.00521673, step = 2501 (2.789 sec)\n",
      "INFO:tensorflow:global_step/sec: 36.0402\n",
      "INFO:tensorflow:loss = 0.0196201, step = 2601 (2.774 sec)\n",
      "INFO:tensorflow:global_step/sec: 36.1833\n",
      "INFO:tensorflow:loss = 0.0141678, step = 2701 (2.764 sec)\n",
      "INFO:tensorflow:global_step/sec: 36.0261\n",
      "INFO:tensorflow:loss = 0.0106294, step = 2801 (2.776 sec)\n",
      "INFO:tensorflow:global_step/sec: 36.1351\n",
      "INFO:tensorflow:loss = 0.0024156, step = 2901 (2.769 sec)\n",
      "INFO:tensorflow:global_step/sec: 36.1091\n",
      "INFO:tensorflow:loss = 0.0026893, step = 3001 (2.767 sec)\n",
      "INFO:tensorflow:global_step/sec: 35.6913\n",
      "INFO:tensorflow:loss = 0.0299427, step = 3101 (2.804 sec)\n",
      "INFO:tensorflow:global_step/sec: 36.1\n",
      "INFO:tensorflow:loss = 0.0135213, step = 3201 (2.769 sec)\n",
      "INFO:tensorflow:global_step/sec: 35.8346\n",
      "INFO:tensorflow:loss = 0.0203876, step = 3301 (2.790 sec)\n",
      "INFO:tensorflow:global_step/sec: 35.9982\n",
      "INFO:tensorflow:loss = 0.0309805, step = 3401 (2.780 sec)\n",
      "INFO:tensorflow:global_step/sec: 35.7632\n",
      "INFO:tensorflow:loss = 0.011061, step = 3501 (2.797 sec)\n",
      "INFO:tensorflow:global_step/sec: 36.0373\n",
      "INFO:tensorflow:loss = 0.00401748, step = 3601 (2.774 sec)\n",
      "INFO:tensorflow:global_step/sec: 35.9094\n",
      "INFO:tensorflow:loss = 0.00730035, step = 3701 (2.785 sec)\n",
      "INFO:tensorflow:global_step/sec: 35.9335\n",
      "INFO:tensorflow:loss = 0.0152733, step = 3801 (2.782 sec)\n",
      "INFO:tensorflow:global_step/sec: 35.852\n",
      "INFO:tensorflow:loss = 0.00751066, step = 3901 (2.789 sec)\n",
      "INFO:tensorflow:global_step/sec: 35.8419\n",
      "INFO:tensorflow:loss = 0.00190199, step = 4001 (2.790 sec)\n",
      "INFO:tensorflow:global_step/sec: 35.6573\n",
      "INFO:tensorflow:loss = 0.00702328, step = 4101 (2.804 sec)\n",
      "INFO:tensorflow:global_step/sec: 35.955\n",
      "INFO:tensorflow:loss = 0.0198444, step = 4201 (2.784 sec)\n",
      "INFO:tensorflow:global_step/sec: 35.6781\n",
      "INFO:tensorflow:loss = 0.000604595, step = 4301 (2.803 sec)\n",
      "INFO:tensorflow:global_step/sec: 35.5478\n",
      "INFO:tensorflow:loss = 0.00364727, step = 4401 (2.812 sec)\n",
      "INFO:tensorflow:global_step/sec: 36.1184\n",
      "INFO:tensorflow:loss = 0.00751505, step = 4501 (2.768 sec)\n",
      "INFO:tensorflow:global_step/sec: 36.0434\n",
      "INFO:tensorflow:loss = 0.0347047, step = 4601 (2.774 sec)\n",
      "INFO:tensorflow:global_step/sec: 36.0914\n",
      "INFO:tensorflow:loss = 0.00510553, step = 4701 (2.771 sec)\n",
      "INFO:tensorflow:global_step/sec: 36.0189\n",
      "INFO:tensorflow:loss = 0.00163358, step = 4801 (2.776 sec)\n",
      "INFO:tensorflow:global_step/sec: 36.1471\n",
      "INFO:tensorflow:loss = 0.022436, step = 4901 (2.767 sec)\n",
      "INFO:tensorflow:Saving checkpoints for 5000 into /tmp/tmpimgy0gtt/model.ckpt.\n",
      "INFO:tensorflow:Loss for final step: 0.00250551.\n"
     ]
    },
    {
     "data": {
      "text/plain": [
       "<tensorflow.python.estimator.estimator.Estimator at 0x7f3252e8eeb8>"
      ]
     },
     "execution_count": 66,
     "metadata": {},
     "output_type": "execute_result"
    }
   ],
   "source": [
    "train_input_fn = tf.estimator.inputs.numpy_input_fn(x={'x':train_data.images},\n",
    "                                                    y=train_data.labels.astype(np.int32), \n",
    "                                                    batch_size=256, shuffle=True,\n",
    "                                                    num_epochs=None, num_threads=1)\n",
    "\n",
    "model.train(input_fn=train_input_fn, steps=5000, )"
   ]
  },
  {
   "cell_type": "code",
   "execution_count": 67,
   "metadata": {},
   "outputs": [
    {
     "name": "stdout",
     "output_type": "stream",
     "text": [
      "INFO:tensorflow:Starting evaluation at 2017-09-22-07:42:39\n",
      "INFO:tensorflow:Restoring parameters from /tmp/tmpimgy0gtt/model.ckpt-5000\n",
      "INFO:tensorflow:Finished evaluation at 2017-09-22-07:42:41\n",
      "INFO:tensorflow:Saving dict for global step 5000: accuracy = 0.996127, global_step = 5000, loss = 0.0110076\n"
     ]
    },
    {
     "data": {
      "text/plain": [
       "{'accuracy': 0.99612725, 'global_step': 5000, 'loss': 0.011007594}"
      ]
     },
     "execution_count": 67,
     "metadata": {},
     "output_type": "execute_result"
    }
   ],
   "source": [
    "train_input_fn = tf.estimator.inputs.numpy_input_fn(x={'x':train_data.images},\n",
    "                                                    y=train_data.labels.astype(np.int32), \n",
    "                                                    batch_size=256, shuffle=True,\n",
    "                                                    num_epochs=1, num_threads=1)\n",
    "model.evaluate(train_input_fn)"
   ]
  },
  {
   "cell_type": "code",
   "execution_count": 68,
   "metadata": {},
   "outputs": [
    {
     "name": "stdout",
     "output_type": "stream",
     "text": [
      "INFO:tensorflow:Starting evaluation at 2017-09-22-07:42:42\n",
      "INFO:tensorflow:Restoring parameters from /tmp/tmpimgy0gtt/model.ckpt-5000\n",
      "INFO:tensorflow:Finished evaluation at 2017-09-22-07:42:42\n",
      "INFO:tensorflow:Saving dict for global step 5000: accuracy = 0.9888, global_step = 5000, loss = 0.0630444\n"
     ]
    },
    {
     "data": {
      "text/plain": [
       "{'accuracy': 0.98879999, 'global_step': 5000, 'loss': 0.063044399}"
      ]
     },
     "execution_count": 68,
     "metadata": {},
     "output_type": "execute_result"
    }
   ],
   "source": [
    "valid_input_fn = tf.estimator.inputs.numpy_input_fn(\n",
    "    x={'x': valid_data.images},\n",
    "    y=valid_data.labels.astype(np.int32),\n",
    "    batch_size=128,\n",
    "    shuffle=False,\n",
    "    num_epochs=1\n",
    ")\n",
    "\n",
    "model.evaluate(valid_input_fn)"
   ]
  },
  {
   "cell_type": "code",
   "execution_count": 83,
   "metadata": {},
   "outputs": [
    {
     "name": "stdout",
     "output_type": "stream",
     "text": [
      "INFO:tensorflow:Restoring parameters from /tmp/tmpimgy0gtt/model.ckpt-5000\n"
     ]
    }
   ],
   "source": [
    "test_input_fn = tf.estimator.inputs.numpy_input_fn(\n",
    "    x={'x': test_data.images},\n",
    "#     y=test_data.labels.astype(np.int32),\n",
    "    batch_size=128,\n",
    "    shuffle=False,\n",
    "    num_epochs=1\n",
    ")\n",
    "test_yhat = pd.DataFrame(list(model.predict(test_input_fn))) # evaluate now"
   ]
  },
  {
   "cell_type": "code",
   "execution_count": 84,
   "metadata": {},
   "outputs": [
    {
     "data": {
      "text/html": [
       "<div>\n",
       "<style>\n",
       "    .dataframe thead tr:only-child th {\n",
       "        text-align: right;\n",
       "    }\n",
       "\n",
       "    .dataframe thead th {\n",
       "        text-align: left;\n",
       "    }\n",
       "\n",
       "    .dataframe tbody tr th {\n",
       "        vertical-align: top;\n",
       "    }\n",
       "</style>\n",
       "<table border=\"1\" class=\"dataframe\">\n",
       "  <thead>\n",
       "    <tr style=\"text-align: right;\">\n",
       "      <th></th>\n",
       "      <th>logits</th>\n",
       "      <th>probs</th>\n",
       "    </tr>\n",
       "  </thead>\n",
       "  <tbody>\n",
       "    <tr>\n",
       "      <th>0</th>\n",
       "      <td>[-8.57827, 2.45554, 0.988721, -0.621002, 2.907...</td>\n",
       "      <td>7</td>\n",
       "    </tr>\n",
       "    <tr>\n",
       "      <th>1</th>\n",
       "      <td>[12.8002, 14.2683, 50.5243, -12.7172, -13.0333...</td>\n",
       "      <td>2</td>\n",
       "    </tr>\n",
       "    <tr>\n",
       "      <th>2</th>\n",
       "      <td>[-8.64605, 29.8617, -6.6989, -12.2865, 12.2244...</td>\n",
       "      <td>1</td>\n",
       "    </tr>\n",
       "    <tr>\n",
       "      <th>3</th>\n",
       "      <td>[32.6897, -2.60047, 8.46332, -16.8167, -9.3153...</td>\n",
       "      <td>0</td>\n",
       "    </tr>\n",
       "    <tr>\n",
       "      <th>4</th>\n",
       "      <td>[-7.00146, -0.305858, -7.15816, -14.0377, 36.5...</td>\n",
       "      <td>4</td>\n",
       "    </tr>\n",
       "  </tbody>\n",
       "</table>\n",
       "</div>"
      ],
      "text/plain": [
       "                                              logits  probs\n",
       "0  [-8.57827, 2.45554, 0.988721, -0.621002, 2.907...      7\n",
       "1  [12.8002, 14.2683, 50.5243, -12.7172, -13.0333...      2\n",
       "2  [-8.64605, 29.8617, -6.6989, -12.2865, 12.2244...      1\n",
       "3  [32.6897, -2.60047, 8.46332, -16.8167, -9.3153...      0\n",
       "4  [-7.00146, -0.305858, -7.15816, -14.0377, 36.5...      4"
      ]
     },
     "execution_count": 84,
     "metadata": {},
     "output_type": "execute_result"
    }
   ],
   "source": [
    "test_yhat.head()"
   ]
  },
  {
   "cell_type": "code",
   "execution_count": 85,
   "metadata": {},
   "outputs": [
    {
     "data": {
      "text/plain": [
       "0.98780000000000001"
      ]
     },
     "execution_count": 85,
     "metadata": {},
     "output_type": "execute_result"
    }
   ],
   "source": [
    "np.mean(test_yhat.probs == test_data.labels)"
   ]
  },
  {
   "cell_type": "code",
   "execution_count": null,
   "metadata": {
    "collapsed": true
   },
   "outputs": [],
   "source": []
  }
 ],
 "metadata": {
  "kernelspec": {
   "display_name": "Python 3",
   "language": "python",
   "name": "python3"
  },
  "language_info": {
   "codemirror_mode": {
    "name": "ipython",
    "version": 3
   },
   "file_extension": ".py",
   "mimetype": "text/x-python",
   "name": "python",
   "nbconvert_exporter": "python",
   "pygments_lexer": "ipython3",
   "version": "3.6.1"
  }
 },
 "nbformat": 4,
 "nbformat_minor": 2
}
